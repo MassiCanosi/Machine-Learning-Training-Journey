{
 "cells": [
  {
   "cell_type": "markdown",
   "metadata": {},
   "source": [
    "## Mobile phone usability"
   ]
  },
  {
   "cell_type": "code",
   "execution_count": 72,
   "metadata": {},
   "outputs": [],
   "source": [
    "import numpy as np\n",
    "import pandas as pd \n",
    "import re\n",
    "from sklearn.model_selection import train_test_split\n",
    "from sklearn.linear_model import LinearRegression\n",
    "from sklearn.metrics import mean_squared_error, r2_score\n",
    "from sklearn.impute import SimpleImputer\n",
    "import matplotlib.pyplot as plt\n",
    "import plotly.express as px\n",
    "import seaborn as sns \n",
    "from termcolor import colored"
   ]
  },
  {
   "cell_type": "code",
   "execution_count": 73,
   "metadata": {},
   "outputs": [],
   "source": [
    "file = pd.read_csv(r'c:\\Users\\massimiliano.canosi\\Downloads\\archive\\mobile phone price prediction.csv')"
   ]
  },
  {
   "cell_type": "code",
   "execution_count": 74,
   "metadata": {},
   "outputs": [],
   "source": [
    "file = file.drop(file.columns[0], axis=1)"
   ]
  },
  {
   "cell_type": "code",
   "execution_count": 75,
   "metadata": {},
   "outputs": [
    {
     "data": {
      "text/html": [
       "<div>\n",
       "<style scoped>\n",
       "    .dataframe tbody tr th:only-of-type {\n",
       "        vertical-align: middle;\n",
       "    }\n",
       "\n",
       "    .dataframe tbody tr th {\n",
       "        vertical-align: top;\n",
       "    }\n",
       "\n",
       "    .dataframe thead th {\n",
       "        text-align: right;\n",
       "    }\n",
       "</style>\n",
       "<table border=\"1\" class=\"dataframe\">\n",
       "  <thead>\n",
       "    <tr style=\"text-align: right;\">\n",
       "      <th></th>\n",
       "      <th>Rating</th>\n",
       "      <th>Spec_score</th>\n",
       "    </tr>\n",
       "  </thead>\n",
       "  <tbody>\n",
       "    <tr>\n",
       "      <th>count</th>\n",
       "      <td>1370.000000</td>\n",
       "      <td>1370.000000</td>\n",
       "    </tr>\n",
       "    <tr>\n",
       "      <th>mean</th>\n",
       "      <td>4.374416</td>\n",
       "      <td>80.234307</td>\n",
       "    </tr>\n",
       "    <tr>\n",
       "      <th>std</th>\n",
       "      <td>0.230176</td>\n",
       "      <td>8.373922</td>\n",
       "    </tr>\n",
       "    <tr>\n",
       "      <th>min</th>\n",
       "      <td>3.750000</td>\n",
       "      <td>42.000000</td>\n",
       "    </tr>\n",
       "    <tr>\n",
       "      <th>25%</th>\n",
       "      <td>4.150000</td>\n",
       "      <td>75.000000</td>\n",
       "    </tr>\n",
       "    <tr>\n",
       "      <th>50%</th>\n",
       "      <td>4.400000</td>\n",
       "      <td>82.000000</td>\n",
       "    </tr>\n",
       "    <tr>\n",
       "      <th>75%</th>\n",
       "      <td>4.550000</td>\n",
       "      <td>86.000000</td>\n",
       "    </tr>\n",
       "    <tr>\n",
       "      <th>max</th>\n",
       "      <td>4.750000</td>\n",
       "      <td>98.000000</td>\n",
       "    </tr>\n",
       "  </tbody>\n",
       "</table>\n",
       "</div>"
      ],
      "text/plain": [
       "            Rating   Spec_score\n",
       "count  1370.000000  1370.000000\n",
       "mean      4.374416    80.234307\n",
       "std       0.230176     8.373922\n",
       "min       3.750000    42.000000\n",
       "25%       4.150000    75.000000\n",
       "50%       4.400000    82.000000\n",
       "75%       4.550000    86.000000\n",
       "max       4.750000    98.000000"
      ]
     },
     "execution_count": 75,
     "metadata": {},
     "output_type": "execute_result"
    }
   ],
   "source": [
    "file.describe()"
   ]
  },
  {
   "cell_type": "code",
   "execution_count": 76,
   "metadata": {},
   "outputs": [
    {
     "data": {
      "text/plain": [
       "Name                   0\n",
       "Rating                 0\n",
       "Spec_score             0\n",
       "No_of_sim              0\n",
       "Ram                    0\n",
       "Battery                0\n",
       "Display                0\n",
       "Camera                 0\n",
       "External_Memory        0\n",
       "Android_version      443\n",
       "Price                  0\n",
       "company                0\n",
       "Inbuilt_memory        19\n",
       "fast_charging         89\n",
       "Screen_resolution      2\n",
       "Processor             28\n",
       "Processor_name         0\n",
       "dtype: int64"
      ]
     },
     "execution_count": 76,
     "metadata": {},
     "output_type": "execute_result"
    }
   ],
   "source": [
    "file.isnull().sum()"
   ]
  },
  {
   "cell_type": "code",
   "execution_count": 77,
   "metadata": {},
   "outputs": [
    {
     "name": "stdout",
     "output_type": "stream",
     "text": [
      "<class 'pandas.core.frame.DataFrame'>\n",
      "RangeIndex: 1370 entries, 0 to 1369\n",
      "Data columns (total 17 columns):\n",
      " #   Column             Non-Null Count  Dtype  \n",
      "---  ------             --------------  -----  \n",
      " 0   Name               1370 non-null   object \n",
      " 1   Rating             1370 non-null   float64\n",
      " 2   Spec_score         1370 non-null   int64  \n",
      " 3   No_of_sim          1370 non-null   object \n",
      " 4   Ram                1370 non-null   object \n",
      " 5   Battery            1370 non-null   object \n",
      " 6   Display            1370 non-null   object \n",
      " 7   Camera             1370 non-null   object \n",
      " 8   External_Memory    1370 non-null   object \n",
      " 9   Android_version    927 non-null    object \n",
      " 10  Price              1370 non-null   object \n",
      " 11  company            1370 non-null   object \n",
      " 12  Inbuilt_memory     1351 non-null   object \n",
      " 13  fast_charging      1281 non-null   object \n",
      " 14  Screen_resolution  1368 non-null   object \n",
      " 15  Processor          1342 non-null   object \n",
      " 16  Processor_name     1370 non-null   object \n",
      "dtypes: float64(1), int64(1), object(15)\n",
      "memory usage: 182.1+ KB\n"
     ]
    }
   ],
   "source": [
    "data_info = file.info()"
   ]
  },
  {
   "cell_type": "code",
   "execution_count": 78,
   "metadata": {},
   "outputs": [],
   "source": [
    "file['Ram'] = file['Ram'].astype(str).str.extract('(\\d+)').astype(float)\n",
    "# file['Ram'].unique()"
   ]
  },
  {
   "cell_type": "code",
   "execution_count": 79,
   "metadata": {},
   "outputs": [],
   "source": [
    "file['Battery'] = file['Battery'].astype(str).str.extract('(\\d+)').astype(float)\n",
    "# file['Battery'].unique()"
   ]
  },
  {
   "cell_type": "code",
   "execution_count": 80,
   "metadata": {},
   "outputs": [],
   "source": [
    "file['Price'] = (file['Price'].apply(lambda x: x.replace(\",\",\"\"))).astype(float)"
   ]
  },
  {
   "cell_type": "code",
   "execution_count": 81,
   "metadata": {},
   "outputs": [],
   "source": [
    "file['company'] = file['company'].str.upper()"
   ]
  },
  {
   "cell_type": "code",
   "execution_count": 82,
   "metadata": {},
   "outputs": [],
   "source": [
    "file['Android_version'].fillna(file['Android_version'].mode()[0], inplace=True)\n",
    "file['Inbuilt_memory'].fillna(file['Inbuilt_memory'].mode()[0],inplace=True)\n",
    "file['Processor'].fillna(file['Processor'].mode()[0],inplace=True)\n",
    "file['Screen_resolution'].fillna(file['Screen_resolution'].mode()[0],inplace=True)\n",
    "file['fast_charging'].fillna(file['fast_charging'].mode()[0],inplace=True)"
   ]
  },
  {
   "cell_type": "code",
   "execution_count": 83,
   "metadata": {},
   "outputs": [],
   "source": [
    "def extract_res(res_str):\n",
    "\n",
    "    import re \n",
    "\n",
    "    match = re.search(r'(\\d+)\\s*x\\s*(\\d+)', str(res_str))\n",
    "\n",
    "    if match:\n",
    "        return int(match.group(1)) * int(match.group(2))\n",
    "    else:\n",
    "        return None"
   ]
  },
  {
   "cell_type": "code",
   "execution_count": 84,
   "metadata": {},
   "outputs": [],
   "source": [
    "file['Screen_resolution'] = file['Screen_resolution'].apply(extract_res)"
   ]
  },
  {
   "cell_type": "markdown",
   "metadata": {},
   "source": [
    "------------------------------"
   ]
  },
  {
   "cell_type": "markdown",
   "metadata": {},
   "source": [
    "## Top Companies"
   ]
  },
  {
   "cell_type": "code",
   "execution_count": 85,
   "metadata": {},
   "outputs": [
    {
     "data": {
      "text/html": [
       "<div>\n",
       "<style scoped>\n",
       "    .dataframe tbody tr th:only-of-type {\n",
       "        vertical-align: middle;\n",
       "    }\n",
       "\n",
       "    .dataframe tbody tr th {\n",
       "        vertical-align: top;\n",
       "    }\n",
       "\n",
       "    .dataframe thead th {\n",
       "        text-align: right;\n",
       "    }\n",
       "</style>\n",
       "<table border=\"1\" class=\"dataframe\">\n",
       "  <thead>\n",
       "    <tr style=\"text-align: right;\">\n",
       "      <th></th>\n",
       "      <th>company</th>\n",
       "      <th>Rating</th>\n",
       "    </tr>\n",
       "  </thead>\n",
       "  <tbody>\n",
       "    <tr>\n",
       "      <th>0</th>\n",
       "      <td>COOLPAD</td>\n",
       "      <td>4.600000</td>\n",
       "    </tr>\n",
       "    <tr>\n",
       "      <th>1</th>\n",
       "      <td>GIONEE</td>\n",
       "      <td>4.470000</td>\n",
       "    </tr>\n",
       "    <tr>\n",
       "      <th>2</th>\n",
       "      <td>ASUS</td>\n",
       "      <td>4.447619</td>\n",
       "    </tr>\n",
       "    <tr>\n",
       "      <th>3</th>\n",
       "      <td>LENOVO</td>\n",
       "      <td>4.442857</td>\n",
       "    </tr>\n",
       "    <tr>\n",
       "      <th>4</th>\n",
       "      <td>TECNO</td>\n",
       "      <td>4.426923</td>\n",
       "    </tr>\n",
       "  </tbody>\n",
       "</table>\n",
       "</div>"
      ],
      "text/plain": [
       "   company    Rating\n",
       "0  COOLPAD  4.600000\n",
       "1   GIONEE  4.470000\n",
       "2     ASUS  4.447619\n",
       "3   LENOVO  4.442857\n",
       "4    TECNO  4.426923"
      ]
     },
     "execution_count": 85,
     "metadata": {},
     "output_type": "execute_result"
    }
   ],
   "source": [
    "top_companies = file.pivot_table(index='company', values='Rating', aggfunc='mean').sort_values(by='Rating', ascending=False).reset_index()[:5]\n",
    "top_companies"
   ]
  },
  {
   "cell_type": "markdown",
   "metadata": {},
   "source": [
    "## Top Products"
   ]
  },
  {
   "cell_type": "code",
   "execution_count": 86,
   "metadata": {},
   "outputs": [
    {
     "data": {
      "text/html": [
       "<div>\n",
       "<style scoped>\n",
       "    .dataframe tbody tr th:only-of-type {\n",
       "        vertical-align: middle;\n",
       "    }\n",
       "\n",
       "    .dataframe tbody tr th {\n",
       "        vertical-align: top;\n",
       "    }\n",
       "\n",
       "    .dataframe thead th {\n",
       "        text-align: right;\n",
       "    }\n",
       "</style>\n",
       "<table border=\"1\" class=\"dataframe\">\n",
       "  <thead>\n",
       "    <tr style=\"text-align: right;\">\n",
       "      <th></th>\n",
       "      <th>company</th>\n",
       "      <th>Name</th>\n",
       "      <th>Rating</th>\n",
       "    </tr>\n",
       "  </thead>\n",
       "  <tbody>\n",
       "    <tr>\n",
       "      <th>0</th>\n",
       "      <td>LENOVO</td>\n",
       "      <td>Lenovo Legion Duel 3 5G</td>\n",
       "      <td>4.75</td>\n",
       "    </tr>\n",
       "    <tr>\n",
       "      <th>1</th>\n",
       "      <td>LENOVO</td>\n",
       "      <td>Lenovo K13 Pro</td>\n",
       "      <td>4.75</td>\n",
       "    </tr>\n",
       "    <tr>\n",
       "      <th>2</th>\n",
       "      <td>ASUS</td>\n",
       "      <td>Asus ZenFone 9</td>\n",
       "      <td>4.75</td>\n",
       "    </tr>\n",
       "    <tr>\n",
       "      <th>3</th>\n",
       "      <td>ASUS</td>\n",
       "      <td>Asus ROG Phone 8 Ultimate</td>\n",
       "      <td>4.75</td>\n",
       "    </tr>\n",
       "    <tr>\n",
       "      <th>4</th>\n",
       "      <td>ASUS</td>\n",
       "      <td>Asus ROG Phone 6 Pro 5G</td>\n",
       "      <td>4.75</td>\n",
       "    </tr>\n",
       "  </tbody>\n",
       "</table>\n",
       "</div>"
      ],
      "text/plain": [
       "  company                       Name  Rating\n",
       "0  LENOVO    Lenovo Legion Duel 3 5G    4.75\n",
       "1  LENOVO             Lenovo K13 Pro    4.75\n",
       "2    ASUS             Asus ZenFone 9    4.75\n",
       "3    ASUS  Asus ROG Phone 8 Ultimate    4.75\n",
       "4    ASUS    Asus ROG Phone 6 Pro 5G    4.75"
      ]
     },
     "execution_count": 86,
     "metadata": {},
     "output_type": "execute_result"
    }
   ],
   "source": [
    "top_products_df = file[file['company'].isin(top_companies['company'])]\n",
    "\n",
    "top_products = top_products_df.pivot_table(index=['company', 'Name'], values='Rating', aggfunc='mean') \\\n",
    "                .sort_values(by=['Rating', 'company', 'Name'], ascending=False).reset_index()[:5]\n",
    "\n",
    "top_products"
   ]
  },
  {
   "cell_type": "markdown",
   "metadata": {},
   "source": [
    "#### Top Product per company"
   ]
  },
  {
   "cell_type": "code",
   "execution_count": 87,
   "metadata": {},
   "outputs": [
    {
     "data": {
      "text/html": [
       "<div>\n",
       "<style scoped>\n",
       "    .dataframe tbody tr th:only-of-type {\n",
       "        vertical-align: middle;\n",
       "    }\n",
       "\n",
       "    .dataframe tbody tr th {\n",
       "        vertical-align: top;\n",
       "    }\n",
       "\n",
       "    .dataframe thead th {\n",
       "        text-align: right;\n",
       "    }\n",
       "</style>\n",
       "<table border=\"1\" class=\"dataframe\">\n",
       "  <thead>\n",
       "    <tr style=\"text-align: right;\">\n",
       "      <th></th>\n",
       "      <th>company</th>\n",
       "      <th>Name</th>\n",
       "    </tr>\n",
       "  </thead>\n",
       "  <tbody>\n",
       "    <tr>\n",
       "      <th>663</th>\n",
       "      <td>ASUS</td>\n",
       "      <td>Asus ZenFone 9</td>\n",
       "    </tr>\n",
       "    <tr>\n",
       "      <th>1343</th>\n",
       "      <td>COOLPAD</td>\n",
       "      <td>Coolpad Cool 30 Pro</td>\n",
       "    </tr>\n",
       "    <tr>\n",
       "      <th>701</th>\n",
       "      <td>GIONEE</td>\n",
       "      <td>Gionee M12 Pro</td>\n",
       "    </tr>\n",
       "    <tr>\n",
       "      <th>694</th>\n",
       "      <td>LENOVO</td>\n",
       "      <td>Lenovo K13 Pro</td>\n",
       "    </tr>\n",
       "    <tr>\n",
       "      <th>1220</th>\n",
       "      <td>TECNO</td>\n",
       "      <td>Tecno Phantom X2 Pro</td>\n",
       "    </tr>\n",
       "  </tbody>\n",
       "</table>\n",
       "</div>"
      ],
      "text/plain": [
       "      company                  Name\n",
       "663      ASUS        Asus ZenFone 9\n",
       "1343  COOLPAD   Coolpad Cool 30 Pro\n",
       "701    GIONEE        Gionee M12 Pro\n",
       "694    LENOVO        Lenovo K13 Pro\n",
       "1220    TECNO  Tecno Phantom X2 Pro"
      ]
     },
     "execution_count": 87,
     "metadata": {},
     "output_type": "execute_result"
    }
   ],
   "source": [
    "top_product_for_cm = file[file['company'].isin(top_companies['company'])]\n",
    "\n",
    "top_product_per_cm = top_product_for_cm.pivot_table(index='company', values='Rating', aggfunc='idxmax').reset_index()\n",
    "\n",
    "top_product_fin = top_product_for_cm.loc[top_product_per_cm['Rating']][['company', 'Name']]\n",
    "top_product_fin"
   ]
  },
  {
   "cell_type": "markdown",
   "metadata": {},
   "source": [
    "------------------------------------"
   ]
  },
  {
   "cell_type": "markdown",
   "metadata": {},
   "source": [
    "## Number of products for each company"
   ]
  },
  {
   "cell_type": "code",
   "execution_count": 88,
   "metadata": {},
   "outputs": [
    {
     "data": {
      "application/vnd.plotly.v1+json": {
       "config": {
        "plotlyServerURL": "https://plot.ly"
       },
       "data": [
        {
         "branchvalues": "total",
         "customdata": [
          [
           21
          ],
          [
           1
          ],
          [
           5
          ],
          [
           23
          ],
          [
           88
          ],
          [
           62
          ],
          [
           58
          ],
          [
           14
          ],
          [
           19
          ],
          [
           14
          ],
          [
           6
          ],
          [
           127
          ],
          [
           14
          ],
          [
           73
          ],
          [
           65
          ],
          [
           94
          ],
          [
           173
          ],
          [
           176
          ],
          [
           26
          ],
          [
           13
          ],
          [
           176
          ],
          [
           86
          ]
         ],
         "domain": {
          "x": [
           0,
           1
          ],
          "y": [
           0,
           1
          ]
         },
         "hovertemplate": "labels=%{label}<br>Product Count_sum=%{value}<br>parent=%{parent}<br>id=%{id}<extra></extra>",
         "ids": [
          "ASUS",
          "COOLPAD",
          "GIONEE",
          "GOOGLE",
          "HONOR",
          "HUAWEI",
          "IQOO",
          "ITEL",
          "LAVA",
          "LENOVO",
          "LG",
          "MOTOROLA",
          "NOTHING",
          "ONEPLUS",
          "OPPO",
          "POCO",
          "REALME",
          "SAMSUNG",
          "TCL",
          "TECNO",
          "VIVO",
          "XIAOMI"
         ],
         "labels": [
          "ASUS",
          "COOLPAD",
          "GIONEE",
          "GOOGLE",
          "HONOR",
          "HUAWEI",
          "IQOO",
          "ITEL",
          "LAVA",
          "LENOVO",
          "LG",
          "MOTOROLA",
          "NOTHING",
          "ONEPLUS",
          "OPPO",
          "POCO",
          "REALME",
          "SAMSUNG",
          "TCL",
          "TECNO",
          "VIVO",
          "XIAOMI"
         ],
         "marker": {
          "coloraxis": "coloraxis",
          "colors": [
           21,
           1,
           5,
           23,
           88,
           62,
           58,
           14,
           19,
           14,
           6,
           127,
           14,
           73,
           65,
           94,
           173,
           176,
           26,
           13,
           176,
           86
          ]
         },
         "name": "",
         "parents": [
          "",
          "",
          "",
          "",
          "",
          "",
          "",
          "",
          "",
          "",
          "",
          "",
          "",
          "",
          "",
          "",
          "",
          "",
          "",
          "",
          "",
          ""
         ],
         "type": "treemap",
         "values": [
          21,
          1,
          5,
          23,
          88,
          62,
          58,
          14,
          19,
          14,
          6,
          127,
          14,
          73,
          65,
          94,
          173,
          176,
          26,
          13,
          176,
          86
         ]
        }
       ],
       "layout": {
        "coloraxis": {
         "colorbar": {
          "title": {
           "text": "Product Count"
          }
         },
         "colorscale": [
          [
           0,
           "#0d0887"
          ],
          [
           0.1111111111111111,
           "#46039f"
          ],
          [
           0.2222222222222222,
           "#7201a8"
          ],
          [
           0.3333333333333333,
           "#9c179e"
          ],
          [
           0.4444444444444444,
           "#bd3786"
          ],
          [
           0.5555555555555556,
           "#d8576b"
          ],
          [
           0.6666666666666666,
           "#ed7953"
          ],
          [
           0.7777777777777778,
           "#fb9f3a"
          ],
          [
           0.8888888888888888,
           "#fdca26"
          ],
          [
           1,
           "#f0f921"
          ]
         ]
        },
        "legend": {
         "tracegroupgap": 0
        },
        "template": {
         "data": {
          "bar": [
           {
            "error_x": {
             "color": "#2a3f5f"
            },
            "error_y": {
             "color": "#2a3f5f"
            },
            "marker": {
             "line": {
              "color": "#E5ECF6",
              "width": 0.5
             },
             "pattern": {
              "fillmode": "overlay",
              "size": 10,
              "solidity": 0.2
             }
            },
            "type": "bar"
           }
          ],
          "barpolar": [
           {
            "marker": {
             "line": {
              "color": "#E5ECF6",
              "width": 0.5
             },
             "pattern": {
              "fillmode": "overlay",
              "size": 10,
              "solidity": 0.2
             }
            },
            "type": "barpolar"
           }
          ],
          "carpet": [
           {
            "aaxis": {
             "endlinecolor": "#2a3f5f",
             "gridcolor": "white",
             "linecolor": "white",
             "minorgridcolor": "white",
             "startlinecolor": "#2a3f5f"
            },
            "baxis": {
             "endlinecolor": "#2a3f5f",
             "gridcolor": "white",
             "linecolor": "white",
             "minorgridcolor": "white",
             "startlinecolor": "#2a3f5f"
            },
            "type": "carpet"
           }
          ],
          "choropleth": [
           {
            "colorbar": {
             "outlinewidth": 0,
             "ticks": ""
            },
            "type": "choropleth"
           }
          ],
          "contour": [
           {
            "colorbar": {
             "outlinewidth": 0,
             "ticks": ""
            },
            "colorscale": [
             [
              0,
              "#0d0887"
             ],
             [
              0.1111111111111111,
              "#46039f"
             ],
             [
              0.2222222222222222,
              "#7201a8"
             ],
             [
              0.3333333333333333,
              "#9c179e"
             ],
             [
              0.4444444444444444,
              "#bd3786"
             ],
             [
              0.5555555555555556,
              "#d8576b"
             ],
             [
              0.6666666666666666,
              "#ed7953"
             ],
             [
              0.7777777777777778,
              "#fb9f3a"
             ],
             [
              0.8888888888888888,
              "#fdca26"
             ],
             [
              1,
              "#f0f921"
             ]
            ],
            "type": "contour"
           }
          ],
          "contourcarpet": [
           {
            "colorbar": {
             "outlinewidth": 0,
             "ticks": ""
            },
            "type": "contourcarpet"
           }
          ],
          "heatmap": [
           {
            "colorbar": {
             "outlinewidth": 0,
             "ticks": ""
            },
            "colorscale": [
             [
              0,
              "#0d0887"
             ],
             [
              0.1111111111111111,
              "#46039f"
             ],
             [
              0.2222222222222222,
              "#7201a8"
             ],
             [
              0.3333333333333333,
              "#9c179e"
             ],
             [
              0.4444444444444444,
              "#bd3786"
             ],
             [
              0.5555555555555556,
              "#d8576b"
             ],
             [
              0.6666666666666666,
              "#ed7953"
             ],
             [
              0.7777777777777778,
              "#fb9f3a"
             ],
             [
              0.8888888888888888,
              "#fdca26"
             ],
             [
              1,
              "#f0f921"
             ]
            ],
            "type": "heatmap"
           }
          ],
          "heatmapgl": [
           {
            "colorbar": {
             "outlinewidth": 0,
             "ticks": ""
            },
            "colorscale": [
             [
              0,
              "#0d0887"
             ],
             [
              0.1111111111111111,
              "#46039f"
             ],
             [
              0.2222222222222222,
              "#7201a8"
             ],
             [
              0.3333333333333333,
              "#9c179e"
             ],
             [
              0.4444444444444444,
              "#bd3786"
             ],
             [
              0.5555555555555556,
              "#d8576b"
             ],
             [
              0.6666666666666666,
              "#ed7953"
             ],
             [
              0.7777777777777778,
              "#fb9f3a"
             ],
             [
              0.8888888888888888,
              "#fdca26"
             ],
             [
              1,
              "#f0f921"
             ]
            ],
            "type": "heatmapgl"
           }
          ],
          "histogram": [
           {
            "marker": {
             "pattern": {
              "fillmode": "overlay",
              "size": 10,
              "solidity": 0.2
             }
            },
            "type": "histogram"
           }
          ],
          "histogram2d": [
           {
            "colorbar": {
             "outlinewidth": 0,
             "ticks": ""
            },
            "colorscale": [
             [
              0,
              "#0d0887"
             ],
             [
              0.1111111111111111,
              "#46039f"
             ],
             [
              0.2222222222222222,
              "#7201a8"
             ],
             [
              0.3333333333333333,
              "#9c179e"
             ],
             [
              0.4444444444444444,
              "#bd3786"
             ],
             [
              0.5555555555555556,
              "#d8576b"
             ],
             [
              0.6666666666666666,
              "#ed7953"
             ],
             [
              0.7777777777777778,
              "#fb9f3a"
             ],
             [
              0.8888888888888888,
              "#fdca26"
             ],
             [
              1,
              "#f0f921"
             ]
            ],
            "type": "histogram2d"
           }
          ],
          "histogram2dcontour": [
           {
            "colorbar": {
             "outlinewidth": 0,
             "ticks": ""
            },
            "colorscale": [
             [
              0,
              "#0d0887"
             ],
             [
              0.1111111111111111,
              "#46039f"
             ],
             [
              0.2222222222222222,
              "#7201a8"
             ],
             [
              0.3333333333333333,
              "#9c179e"
             ],
             [
              0.4444444444444444,
              "#bd3786"
             ],
             [
              0.5555555555555556,
              "#d8576b"
             ],
             [
              0.6666666666666666,
              "#ed7953"
             ],
             [
              0.7777777777777778,
              "#fb9f3a"
             ],
             [
              0.8888888888888888,
              "#fdca26"
             ],
             [
              1,
              "#f0f921"
             ]
            ],
            "type": "histogram2dcontour"
           }
          ],
          "mesh3d": [
           {
            "colorbar": {
             "outlinewidth": 0,
             "ticks": ""
            },
            "type": "mesh3d"
           }
          ],
          "parcoords": [
           {
            "line": {
             "colorbar": {
              "outlinewidth": 0,
              "ticks": ""
             }
            },
            "type": "parcoords"
           }
          ],
          "pie": [
           {
            "automargin": true,
            "type": "pie"
           }
          ],
          "scatter": [
           {
            "fillpattern": {
             "fillmode": "overlay",
             "size": 10,
             "solidity": 0.2
            },
            "type": "scatter"
           }
          ],
          "scatter3d": [
           {
            "line": {
             "colorbar": {
              "outlinewidth": 0,
              "ticks": ""
             }
            },
            "marker": {
             "colorbar": {
              "outlinewidth": 0,
              "ticks": ""
             }
            },
            "type": "scatter3d"
           }
          ],
          "scattercarpet": [
           {
            "marker": {
             "colorbar": {
              "outlinewidth": 0,
              "ticks": ""
             }
            },
            "type": "scattercarpet"
           }
          ],
          "scattergeo": [
           {
            "marker": {
             "colorbar": {
              "outlinewidth": 0,
              "ticks": ""
             }
            },
            "type": "scattergeo"
           }
          ],
          "scattergl": [
           {
            "marker": {
             "colorbar": {
              "outlinewidth": 0,
              "ticks": ""
             }
            },
            "type": "scattergl"
           }
          ],
          "scattermapbox": [
           {
            "marker": {
             "colorbar": {
              "outlinewidth": 0,
              "ticks": ""
             }
            },
            "type": "scattermapbox"
           }
          ],
          "scatterpolar": [
           {
            "marker": {
             "colorbar": {
              "outlinewidth": 0,
              "ticks": ""
             }
            },
            "type": "scatterpolar"
           }
          ],
          "scatterpolargl": [
           {
            "marker": {
             "colorbar": {
              "outlinewidth": 0,
              "ticks": ""
             }
            },
            "type": "scatterpolargl"
           }
          ],
          "scatterternary": [
           {
            "marker": {
             "colorbar": {
              "outlinewidth": 0,
              "ticks": ""
             }
            },
            "type": "scatterternary"
           }
          ],
          "surface": [
           {
            "colorbar": {
             "outlinewidth": 0,
             "ticks": ""
            },
            "colorscale": [
             [
              0,
              "#0d0887"
             ],
             [
              0.1111111111111111,
              "#46039f"
             ],
             [
              0.2222222222222222,
              "#7201a8"
             ],
             [
              0.3333333333333333,
              "#9c179e"
             ],
             [
              0.4444444444444444,
              "#bd3786"
             ],
             [
              0.5555555555555556,
              "#d8576b"
             ],
             [
              0.6666666666666666,
              "#ed7953"
             ],
             [
              0.7777777777777778,
              "#fb9f3a"
             ],
             [
              0.8888888888888888,
              "#fdca26"
             ],
             [
              1,
              "#f0f921"
             ]
            ],
            "type": "surface"
           }
          ],
          "table": [
           {
            "cells": {
             "fill": {
              "color": "#EBF0F8"
             },
             "line": {
              "color": "white"
             }
            },
            "header": {
             "fill": {
              "color": "#C8D4E3"
             },
             "line": {
              "color": "white"
             }
            },
            "type": "table"
           }
          ]
         },
         "layout": {
          "annotationdefaults": {
           "arrowcolor": "#2a3f5f",
           "arrowhead": 0,
           "arrowwidth": 1
          },
          "autotypenumbers": "strict",
          "coloraxis": {
           "colorbar": {
            "outlinewidth": 0,
            "ticks": ""
           }
          },
          "colorscale": {
           "diverging": [
            [
             0,
             "#8e0152"
            ],
            [
             0.1,
             "#c51b7d"
            ],
            [
             0.2,
             "#de77ae"
            ],
            [
             0.3,
             "#f1b6da"
            ],
            [
             0.4,
             "#fde0ef"
            ],
            [
             0.5,
             "#f7f7f7"
            ],
            [
             0.6,
             "#e6f5d0"
            ],
            [
             0.7,
             "#b8e186"
            ],
            [
             0.8,
             "#7fbc41"
            ],
            [
             0.9,
             "#4d9221"
            ],
            [
             1,
             "#276419"
            ]
           ],
           "sequential": [
            [
             0,
             "#0d0887"
            ],
            [
             0.1111111111111111,
             "#46039f"
            ],
            [
             0.2222222222222222,
             "#7201a8"
            ],
            [
             0.3333333333333333,
             "#9c179e"
            ],
            [
             0.4444444444444444,
             "#bd3786"
            ],
            [
             0.5555555555555556,
             "#d8576b"
            ],
            [
             0.6666666666666666,
             "#ed7953"
            ],
            [
             0.7777777777777778,
             "#fb9f3a"
            ],
            [
             0.8888888888888888,
             "#fdca26"
            ],
            [
             1,
             "#f0f921"
            ]
           ],
           "sequentialminus": [
            [
             0,
             "#0d0887"
            ],
            [
             0.1111111111111111,
             "#46039f"
            ],
            [
             0.2222222222222222,
             "#7201a8"
            ],
            [
             0.3333333333333333,
             "#9c179e"
            ],
            [
             0.4444444444444444,
             "#bd3786"
            ],
            [
             0.5555555555555556,
             "#d8576b"
            ],
            [
             0.6666666666666666,
             "#ed7953"
            ],
            [
             0.7777777777777778,
             "#fb9f3a"
            ],
            [
             0.8888888888888888,
             "#fdca26"
            ],
            [
             1,
             "#f0f921"
            ]
           ]
          },
          "colorway": [
           "#636efa",
           "#EF553B",
           "#00cc96",
           "#ab63fa",
           "#FFA15A",
           "#19d3f3",
           "#FF6692",
           "#B6E880",
           "#FF97FF",
           "#FECB52"
          ],
          "font": {
           "color": "#2a3f5f"
          },
          "geo": {
           "bgcolor": "white",
           "lakecolor": "white",
           "landcolor": "#E5ECF6",
           "showlakes": true,
           "showland": true,
           "subunitcolor": "white"
          },
          "hoverlabel": {
           "align": "left"
          },
          "hovermode": "closest",
          "mapbox": {
           "style": "light"
          },
          "paper_bgcolor": "white",
          "plot_bgcolor": "#E5ECF6",
          "polar": {
           "angularaxis": {
            "gridcolor": "white",
            "linecolor": "white",
            "ticks": ""
           },
           "bgcolor": "#E5ECF6",
           "radialaxis": {
            "gridcolor": "white",
            "linecolor": "white",
            "ticks": ""
           }
          },
          "scene": {
           "xaxis": {
            "backgroundcolor": "#E5ECF6",
            "gridcolor": "white",
            "gridwidth": 2,
            "linecolor": "white",
            "showbackground": true,
            "ticks": "",
            "zerolinecolor": "white"
           },
           "yaxis": {
            "backgroundcolor": "#E5ECF6",
            "gridcolor": "white",
            "gridwidth": 2,
            "linecolor": "white",
            "showbackground": true,
            "ticks": "",
            "zerolinecolor": "white"
           },
           "zaxis": {
            "backgroundcolor": "#E5ECF6",
            "gridcolor": "white",
            "gridwidth": 2,
            "linecolor": "white",
            "showbackground": true,
            "ticks": "",
            "zerolinecolor": "white"
           }
          },
          "shapedefaults": {
           "line": {
            "color": "#2a3f5f"
           }
          },
          "ternary": {
           "aaxis": {
            "gridcolor": "white",
            "linecolor": "white",
            "ticks": ""
           },
           "baxis": {
            "gridcolor": "white",
            "linecolor": "white",
            "ticks": ""
           },
           "bgcolor": "#E5ECF6",
           "caxis": {
            "gridcolor": "white",
            "linecolor": "white",
            "ticks": ""
           }
          },
          "title": {
           "x": 0.05
          },
          "xaxis": {
           "automargin": true,
           "gridcolor": "white",
           "linecolor": "white",
           "ticks": "",
           "title": {
            "standoff": 15
           },
           "zerolinecolor": "white",
           "zerolinewidth": 2
          },
          "yaxis": {
           "automargin": true,
           "gridcolor": "white",
           "linecolor": "white",
           "ticks": "",
           "title": {
            "standoff": 15
           },
           "zerolinecolor": "white",
           "zerolinewidth": 2
          }
         }
        },
        "title": {
         "text": "#Products for Each Company"
        }
       }
      }
     },
     "metadata": {},
     "output_type": "display_data"
    }
   ],
   "source": [
    "products = file[['company', 'Name']]\n",
    "\n",
    "prodcuts_pivot = products.pivot_table(index='company', values='Name', aggfunc='nunique').reset_index() \\\n",
    "                    .rename(columns={'Name': 'Product Count'})\n",
    "\n",
    "px.treemap(prodcuts_pivot, names = 'company', path=['company'], values='Product Count', color='Product Count' \\\n",
    "           , hover_data={'Product Count': False}, title='#Products for Each Company')"
   ]
  },
  {
   "cell_type": "markdown",
   "metadata": {},
   "source": [
    "--------------------------------"
   ]
  },
  {
   "cell_type": "markdown",
   "metadata": {},
   "source": [
    "## AVG Price per Company"
   ]
  },
  {
   "cell_type": "code",
   "execution_count": 89,
   "metadata": {},
   "outputs": [
    {
     "data": {
      "image/png": "[encoded data removed]",
      "text/plain": [
       "<Figure size 2000x700 with 1 Axes>"
      ]
     },
     "metadata": {},
     "output_type": "display_data"
    }
   ],
   "source": [
    "avg_price_cm = file.pivot_table(index='company', values=['Price', 'Name'], aggfunc={'Price': 'mean', 'Name':'nunique'}).sort_values(by='Price', ascending=False).reset_index()\n",
    "avg_price_cm\n",
    "fig, ax = plt.subplots(1,1, figsize=(20,7), tight_layout=True)\n",
    "ax.set_title('Average Price per Company (with distinct Company''s product number)', fontsize = 22)\n",
    "ax.set_xlabel(\"Company\")\n",
    "ax.set_ylabel(\"AVG Price\")\n",
    "ax.bar(avg_price_cm['company'], height= avg_price_cm['Price'])\n",
    "\n",
    "for i, v in enumerate(avg_price_cm['Name']):\n",
    "    ax.text(i, v, v , ha='center', va='bottom', fontsize=12, color='white', weight='bold')\n",
    "\n",
    "plt.xticks(rotation=45) \n",
    "plt.show()"
   ]
  },
  {
   "cell_type": "markdown",
   "metadata": {},
   "source": [
    "--------------------------------------"
   ]
  },
  {
   "cell_type": "markdown",
   "metadata": {},
   "source": [
    "## Price Range per Company"
   ]
  },
  {
   "cell_type": "code",
   "execution_count": 90,
   "metadata": {},
   "outputs": [],
   "source": [
    "boxplot_data = file[['Price', 'company']].sort_values(by='Price').copy()"
   ]
  },
  {
   "cell_type": "code",
   "execution_count": 91,
   "metadata": {},
   "outputs": [
    {
     "data": {
      "image/png": "[encoded data removed]",
      "text/plain": [
       "<Figure size 2000x800 with 1 Axes>"
      ]
     },
     "metadata": {},
     "output_type": "display_data"
    }
   ],
   "source": [
    "c = \"red\"\n",
    "ax1 = boxplot_data.boxplot(column='Price', by='company', figsize=(20,8), patch_artist=True, boxprops=dict(facecolor='navy', color='navy'),\n",
    "            capprops=dict(color='red'),\n",
    "            whiskerprops=dict(color='blue'),\n",
    "            flierprops=dict(color=c, markeredgecolor='blue'),\n",
    "            medianprops=dict(color='yellow'))\n",
    "ax1.set_ylabel('Price Range')\n",
    "ax1.set_xlabel('Company')\n",
    "ax1.set_title(\"\")\n",
    "plt.suptitle('Price Range per Company', fontsize = 22)\n",
    "plt.xticks(rotation=45) \n",
    "plt.show()"
   ]
  },
  {
   "cell_type": "markdown",
   "metadata": {},
   "source": [
    "### This graph can be used to understand the market price distribution in order to strategically price the products"
   ]
  },
  {
   "cell_type": "markdown",
   "metadata": {},
   "source": [
    "---------------------------------------"
   ]
  },
  {
   "cell_type": "markdown",
   "metadata": {},
   "source": [
    "### Rating vs Price"
   ]
  },
  {
   "cell_type": "code",
   "execution_count": 92,
   "metadata": {},
   "outputs": [
    {
     "data": {
      "application/vnd.plotly.v1+json": {
       "config": {
        "plotlyServerURL": "https://plot.ly"
       },
       "data": [
        {
         "hovertemplate": "Rating=%{x}<br>Price=%{y}<extra></extra>",
         "legendgroup": "",
         "marker": {
          "color": "#636efa",
          "symbol": "circle"
         },
         "mode": "markers",
         "name": "",
         "showlegend": false,
         "type": "scattergl",
         "x": [
          4.65,
          4.2,
          4.3,
          4.1,
          4.1,
          4.4,
          4.1,
          4.1,
          4.05,
          4.5,
          4.25,
          4.4,
          4.05,
          4.4,
          4.05,
          4.1,
          4.2,
          4.75,
          4.75,
          4.3,
          4.2,
          4.2,
          4.5,
          4.1,
          4.75,
          4.15,
          4.4,
          4.75,
          4.4,
          4.15,
          4.35,
          4.25,
          4.35,
          4.3,
          4.25,
          4.15,
          4.2,
          4.5,
          4.45,
          4.75,
          4.25,
          4.35,
          4.1,
          4.45,
          4.6,
          4.2,
          4,
          4.1,
          4.55,
          4.15,
          4,
          4.75,
          4.55,
          4.2,
          4.5,
          4,
          4.1,
          4,
          4.1,
          4.05,
          4,
          4.55,
          4.75,
          4.35,
          4,
          4,
          4.25,
          4.35,
          4.2,
          4.5,
          4.35,
          4.2,
          4.35,
          4.1,
          4.05,
          4.4,
          4.05,
          4.45,
          4.45,
          4.75,
          4.05,
          4.35,
          4.6,
          4.3,
          4.05,
          4.75,
          4.3,
          4.6,
          4.35,
          4,
          4.45,
          4,
          4.1,
          4.35,
          4.2,
          4.3,
          4.1,
          4.25,
          4.5,
          4.35,
          4,
          4.65,
          4.25,
          4.3,
          4.65,
          4.65,
          4.05,
          4.25,
          4.4,
          4.3,
          4.7,
          4.3,
          4.05,
          4.6,
          4.7,
          4.35,
          4.4,
          4.6,
          3.95,
          4,
          4.7,
          4.1,
          4.15,
          4.5,
          4.3,
          3.75,
          4.35,
          4.2,
          4.35,
          4.15,
          4.4,
          4.4,
          4.4,
          4.3,
          4.45,
          4.15,
          4.55,
          4.5,
          4.7,
          4.25,
          4.1,
          4.35,
          4.3,
          4.25,
          4.5,
          4.75,
          3.9,
          4.65,
          4.6,
          4.6,
          4.1,
          4.7,
          4.1,
          4.75,
          4,
          4.35,
          4.15,
          4.45,
          4.2,
          4.35,
          4,
          4.35,
          4.4,
          4.5,
          4.4,
          4.25,
          4.25,
          4.25,
          4.55,
          4.3,
          4.6,
          4.3,
          4.2,
          4.65,
          4.1,
          4.25,
          4.05,
          4.65,
          4.65,
          4.75,
          4.25,
          4.6,
          4.15,
          4.45,
          4.6,
          4.25,
          4.15,
          4.4,
          4.75,
          4.7,
          4.6,
          4.7,
          4.1,
          4.55,
          4.3,
          4.45,
          4.15,
          4,
          4.15,
          4.55,
          4.45,
          4.2,
          4.3,
          4.55,
          4.25,
          4.4,
          4.65,
          4.45,
          4.05,
          4.7,
          4.65,
          4.35,
          4.4,
          4.15,
          4.55,
          4.7,
          4.5,
          4.4,
          4.15,
          4.25,
          4.35,
          4.55,
          4.75,
          4.35,
          4.45,
          4.5,
          4.75,
          4,
          4.25,
          3.95,
          4.5,
          4.15,
          4.2,
          4.65,
          4.1,
          4.2,
          4.55,
          4.05,
          4.55,
          4.6,
          4.25,
          4.6,
          4.45,
          4,
          4.25,
          4.2,
          4.45,
          4.6,
          4.3,
          4.25,
          4.7,
          4.4,
          4.05,
          4.15,
          4.5,
          4.3,
          4.7,
          4.5,
          4.55,
          3.95,
          4.25,
          4.5,
          4.2,
          4.1,
          3.85,
          4.35,
          4.65,
          4.2,
          4,
          4.7,
          4.65,
          4.05,
          4.45,
          4,
          4.65,
          4.75,
          4.75,
          4.55,
          4.3,
          4.35,
          4.45,
          4.25,
          4.1,
          4.7,
          4.6,
          4.65,
          4.65,
          4.75,
          4.15,
          4.2,
          4.2,
          4.05,
          4.15,
          4.25,
          4.05,
          4.45,
          4.65,
          4.15,
          4.7,
          4.45,
          4.7,
          4.5,
          4.4,
          4.7,
          4.6,
          4.7,
          4.15,
          4.45,
          4.35,
          4.6,
          4.75,
          4.15,
          4.45,
          4.5,
          4.2,
          4,
          4.55,
          4.3,
          4.5,
          4.3,
          4.75,
          4.35,
          4.7,
          4.65,
          4.45,
          4.15,
          4.45,
          4.75,
          4.15,
          4.1,
          4.45,
          4.4,
          4.75,
          4.75,
          4.4,
          4.7,
          4.25,
          4.5,
          4.5,
          4.6,
          4.55,
          4.7,
          4.55,
          4.25,
          4.25,
          4.35,
          4.45,
          4.75,
          4.2,
          4.6,
          4.25,
          4.7,
          4.55,
          4.7,
          4.45,
          4,
          4.45,
          4.35,
          4.2,
          4.05,
          4.3,
          4.65,
          4.6,
          4.05,
          4.4,
          4.2,
          4.5,
          4.75,
          4.35,
          4.25,
          4.65,
          4.45,
          4.7,
          4.35,
          4.6,
          4.55,
          4.6,
          4.4,
          4.15,
          4.6,
          4,
          4.15,
          4,
          4.45,
          4.65,
          4.35,
          4.15,
          4.05,
          4.65,
          4.3,
          4.4,
          4.3,
          4.5,
          4.3,
          4.55,
          4.15,
          4.15,
          4.55,
          4.05,
          4.2,
          4.45,
          4.65,
          4.75,
          4.1,
          4.25,
          4.65,
          4,
          4.2,
          4.75,
          4,
          4.7,
          4.05,
          4.55,
          4.6,
          4.45,
          4.75,
          4.3,
          4.55,
          4.5,
          4.6,
          4.55,
          4.1,
          4.15,
          4.55,
          4.75,
          4.3,
          4.4,
          4.7,
          4.5,
          4.65,
          4.05,
          4.35,
          4.05,
          4.6,
          4.15,
          4.1,
          4.75,
          4.6,
          4.3,
          4.3,
          4.4,
          4.55,
          4.45,
          4.65,
          4.15,
          4.3,
          4.55,
          4.3,
          4.55,
          4.65,
          4.75,
          4.65,
          4.1,
          4.15,
          4.7,
          4.45,
          4.05,
          4.55,
          4.4,
          4.2,
          4.6,
          4.25,
          4.5,
          4.35,
          4.05,
          4.75,
          4.5,
          4,
          4.45,
          4.45,
          4.35,
          4.5,
          4.65,
          4.75,
          4.2,
          4.15,
          4.6,
          4,
          4,
          4.25,
          4.45,
          4.55,
          4.05,
          4.45,
          4.4,
          4.75,
          4.35,
          4.4,
          4.3,
          4,
          4.15,
          4.65,
          4.75,
          4.15,
          4.45,
          4,
          4.55,
          4.2,
          4.4,
          4.5,
          4.5,
          4.2,
          3.95,
          4.35,
          4.4,
          4.25,
          4.4,
          4.3,
          4.6,
          4.2,
          4.5,
          4.35,
          4.4,
          4.2,
          4.35,
          4.7,
          4.65,
          4.1,
          4.5,
          4.3,
          4.1,
          4.05,
          4.7,
          4.1,
          4.55,
          4.5,
          4.75,
          4.15,
          4.5,
          4.2,
          3.95,
          4.4,
          4.25,
          4.45,
          4.45,
          4.6,
          4.75,
          4.6,
          4.4,
          4.5,
          4.4,
          4.15,
          4.65,
          4.1,
          4.65,
          4.15,
          4.35,
          4.4,
          4.65,
          4.6,
          4.7,
          4,
          4.4,
          4.1,
          4.5,
          4.3,
          4.1,
          4.05,
          4.1,
          4.65,
          4.7,
          4.65,
          4.65,
          4.05,
          4.25,
          4.65,
          4.65,
          4,
          4.05,
          4.7,
          4.6,
          4.65,
          4.65,
          4.45,
          4.5,
          4.05,
          4.75,
          4.7,
          4.3,
          4.65,
          4.7,
          4.65,
          4.7,
          4.15,
          4.15,
          4.2,
          4.4,
          4.05,
          4.35,
          4.15,
          4.75,
          4.15,
          4.45,
          4.6,
          4.2,
          4.25,
          4.55,
          4.4,
          4.75,
          4.3,
          4.1,
          4.7,
          4.4,
          4.4,
          4.3,
          4.1,
          4.6,
          4.5,
          4.75,
          4.3,
          4.15,
          4.7,
          4.2,
          4.45,
          4.25,
          4.1,
          4.35,
          4.25,
          4.25,
          3.95,
          4.75,
          4.05,
          4,
          4.7,
          4.05,
          4.35,
          4,
          4.15,
          4.45,
          4,
          4.15,
          4.7,
          4.3,
          4.4,
          4.4,
          4.65,
          4.15,
          4.4,
          4.45,
          4.5,
          4.1,
          4.5,
          4.2,
          4.45,
          4.15,
          4.7,
          4.15,
          4.35,
          4.45,
          4.55,
          4.35,
          4.55,
          4.1,
          4.6,
          4.55,
          4.15,
          4.4,
          4.6,
          4.55,
          4.1,
          4.3,
          4.3,
          4.35,
          4.75,
          4.65,
          4.15,
          4.55,
          4.7,
          4.65,
          4.3,
          4.35,
          4.75,
          4.5,
          4.45,
          4.3,
          4.75,
          4.55,
          4,
          4,
          4.45,
          4.6,
          4.45,
          4.2,
          4.55,
          4.3,
          4.05,
          4.75,
          4.3,
          4.3,
          4.25,
          4.4,
          4.65,
          4.6,
          4.3,
          4.75,
          4.15,
          4,
          4.7,
          4.45,
          4.6,
          4.75,
          4.7,
          4.15,
          4.7,
          4.5,
          4.3,
          4.7,
          4.4,
          4.05,
          4.7,
          4.35,
          4.65,
          4.3,
          4.05,
          4.1,
          4.05,
          4.15,
          4.75,
          4.45,
          4,
          4,
          4.3,
          4.2,
          4.3,
          4.15,
          4.15,
          4.2,
          4.7,
          4.75,
          4.7,
          4.3,
          4.55,
          4.4,
          4.35,
          4.4,
          4.5,
          4.7,
          4.35,
          3.95,
          4.05,
          4.15,
          4.65,
          4.1,
          4.65,
          4.45,
          4.25,
          4.15,
          4.45,
          4.2,
          4,
          4.45,
          4.25,
          4.65,
          4.35,
          4.55,
          4.5,
          4.4,
          4.75,
          4,
          4.3,
          4.3,
          4.6,
          4.55,
          4.05,
          4.65,
          4.1,
          4.55,
          4.1,
          4.05,
          4,
          4.55,
          4.35,
          4.65,
          4.55,
          4.25,
          4.7,
          4.55,
          4.35,
          4.35,
          4.65,
          4.7,
          4.55,
          4.1,
          4.55,
          4.5,
          4,
          4.3,
          4.15,
          4.05,
          4.25,
          4.6,
          4.35,
          4.15,
          4.45,
          4.2,
          4.25,
          4.05,
          4.65,
          4.15,
          4.15,
          4.2,
          4.2,
          4.5,
          4.35,
          4.05,
          4.2,
          4.2,
          4.4,
          4.35,
          4.45,
          4.2,
          4.1,
          4.1,
          4.7,
          4.2,
          4.3,
          4.2,
          4.4,
          4.75,
          4.05,
          4.3,
          4.3,
          4.6,
          4,
          4.55,
          4.6,
          4.3,
          4.45,
          4.1,
          4.7,
          4.15,
          4.4,
          4.6,
          4.55,
          4.05,
          4.5,
          4.75,
          4.3,
          4.65,
          4.2,
          4.65,
          4.55,
          4.5,
          4.55,
          4,
          4.15,
          4.1,
          4.55,
          4.4,
          4.35,
          4,
          4.5,
          4.2,
          4.35,
          4.65,
          4.65,
          4.7,
          4.55,
          4.25,
          4.55,
          4.75,
          4.05,
          4.25,
          4.65,
          4,
          4,
          4.6,
          4.4,
          4.45,
          4.6,
          4.55,
          4.65,
          4.6,
          4.4,
          3.95,
          4.25,
          4.4,
          4.6,
          4.7,
          4.15,
          4.6,
          4.65,
          4.05,
          4.15,
          4.55,
          4.35,
          4.65,
          4.6,
          4.4,
          4,
          4,
          4.25,
          4.55,
          4,
          4.4,
          4.1,
          4.3,
          4.65,
          4.2,
          4.65,
          4.4,
          4.75,
          4.5,
          4.4,
          4.4,
          4.05,
          4,
          4.65,
          4.5,
          4.35,
          4.2,
          4.75,
          4.2,
          4.4,
          4.25,
          4.1,
          4.45,
          4.15,
          4.15,
          4.55,
          4.45,
          4.25,
          4.55,
          4.15,
          4,
          4.55,
          4.55,
          4.75,
          4.6,
          4.35,
          4,
          4.1,
          4.35,
          4.05,
          4.3,
          4.45,
          4.7,
          4.2,
          4.15,
          4.75,
          4.7,
          4.45,
          4.05,
          4.4,
          4.05,
          4.6,
          4.25,
          4.65,
          4.7,
          4.15,
          4.4,
          4.6,
          4.15,
          4.1,
          4,
          4,
          4.6,
          4.4,
          4.3,
          4.5,
          4.3,
          4.5,
          4.4,
          4.55,
          4.35,
          4,
          4.3,
          4,
          4.45,
          4.35,
          4.6,
          4.6,
          4.1,
          4.15,
          4.5,
          4.3,
          4,
          4.35,
          4.05,
          4.65,
          4.55,
          4.4,
          4.55,
          4.1,
          4.15,
          4.35,
          4.1,
          4.5,
          4,
          4.6,
          4.05,
          4.55,
          4.55,
          4.45,
          4.65,
          4.55,
          4.35,
          4.15,
          4.7,
          4.3,
          4.15,
          4.65,
          3.9,
          4.7,
          4.65,
          4.4,
          4.75,
          4.4,
          4.55,
          4.15,
          4.65,
          4,
          4.3,
          4.35,
          4.3,
          4.15,
          4.2,
          4.3,
          4.2,
          4.5,
          4.65,
          4.45,
          4.15,
          4.1,
          4.4,
          4.75,
          4.75,
          4.4,
          4.25,
          4,
          4.6,
          4.15,
          4.7,
          4.15,
          4,
          4.3,
          4.2,
          4.05,
          4.35,
          4.55,
          4.2,
          4.15,
          4.1,
          4.7,
          4.4,
          4.4,
          4.1,
          4.4,
          4.1,
          4,
          4.05,
          4.4,
          4.25,
          4.25,
          4.7,
          4.25,
          4.5,
          4,
          4.6,
          4.45,
          4.65,
          4.15,
          4.3,
          4.2,
          4.4,
          4.7,
          4.15,
          4.7,
          4,
          4.2,
          4.6,
          4.4,
          4.45,
          4.1,
          4.1,
          4.15,
          4.45,
          4.3,
          4.05,
          4.5,
          4.4,
          4.1,
          4.35,
          4.35,
          4.75,
          4.55,
          4.65,
          4.6,
          4.15,
          4.6,
          4.5,
          4.75,
          4.45,
          4.45,
          4.2,
          4.5,
          4.6,
          4.5,
          4.55,
          4,
          4.05,
          4.4,
          4,
          4.25,
          4.2,
          4.35,
          4.6,
          4.75,
          4.6,
          4.45,
          4,
          4.35,
          4.4,
          4.3,
          4.45,
          4.35,
          4.35,
          4.3,
          4.1,
          4.15,
          4.5,
          4.35,
          4.4,
          4.45,
          4.45,
          4.15,
          4.15,
          4.7,
          4.5,
          4.4,
          4.6,
          4.5,
          4.5,
          4.7,
          4.5,
          4.75,
          4.4,
          4.4,
          4.4,
          4.6,
          4.1,
          4.05,
          4,
          4.25,
          4.35,
          4.05,
          4.55,
          4.15,
          3.9,
          4.5,
          4.55,
          4,
          4.55,
          4.7,
          4.55,
          4.75,
          4.6,
          4.45,
          4.3,
          4.5,
          4.7,
          4.55,
          4.5,
          4.6,
          4.75,
          4.6,
          4.75,
          4.65,
          4.4,
          4.55,
          4.4,
          4.5,
          4.05,
          4.05,
          4.55,
          4.35,
          4.5,
          4.2,
          4.25,
          4,
          4.65,
          4.5,
          4.55,
          4.7,
          4.35,
          4.2,
          4.05,
          4.6,
          4.2,
          4.1,
          4.75,
          4.15,
          4,
          4.5,
          4.1,
          4.25,
          4.25,
          4.6,
          4.4,
          4.3,
          4.1,
          4.35,
          4.65,
          4.7,
          4.7,
          4.5,
          4.65,
          4.75,
          4.05,
          4.35,
          4.05,
          4.55,
          4.65,
          4.65,
          4.5,
          4.6,
          4,
          4.7,
          4,
          4.5,
          4.7,
          4.5,
          4.3,
          4.55,
          4.3,
          4.2,
          4.65,
          4.4,
          4.65,
          4.55,
          4.25,
          4.5,
          4.65,
          4.35,
          4.3,
          4.35,
          4.15,
          4.6,
          4.55,
          4.05,
          4.75,
          4.75,
          4.25,
          4.5,
          4.4,
          4.65,
          4.55,
          4,
          4.45,
          4.75,
          4.1,
          4.6,
          4.15,
          4.1,
          4.05,
          4.3,
          4.45,
          4.25,
          4.1,
          4,
          4.55,
          4.55,
          4.45,
          4.65,
          4.45,
          4.6,
          4.65,
          4.35,
          4.55,
          4.1,
          4.5,
          4.25,
          4.2,
          4.75,
          4.5,
          4.7,
          4.45,
          4.05,
          4,
          4.15,
          4.15,
          4.25,
          4.3,
          4.15,
          4.25,
          4.3,
          4.55,
          4.3,
          4.65,
          4.5,
          4.45,
          4.6,
          4.5,
          4.6,
          4.2,
          4.5,
          4.75,
          4.25,
          4.3,
          4.75,
          4.2,
          4.05,
          4.55,
          4.45,
          4.2,
          4.7,
          4.35,
          4,
          4.1,
          4.1,
          4.05,
          4.35,
          4.55,
          4.3,
          4.75,
          4.15,
          4.45,
          4,
          4.4,
          4.35,
          4,
          4.2,
          4.6,
          4.25,
          4.7,
          4.65,
          4.35,
          4.6,
          4.3,
          4.25,
          4.5,
          4.65,
          4.25,
          4.3,
          4.15,
          4.35,
          4.1,
          4.6,
          4.05,
          4.3,
          4.55,
          4.25,
          4,
          4.6,
          4.25,
          4.4,
          4,
          4.5,
          4.25,
          4,
          4.05,
          4.15,
          4.65,
          4.3,
          4.45,
          4.6,
          4.3,
          4.65,
          4.45,
          4.65,
          4.6,
          4.45,
          4.3,
          4.7,
          4.7,
          4.05,
          4.1,
          4,
          4.5,
          4.65
         ],
         "xaxis": "x",
         "y": [
          9999,
          9990,
          11999,
          11999,
          11999,
          11990,
          11990,
          11990,
          11599,
          12298,
          14999,
          14999,
          14999,
          14999,
          14999,
          14999,
          14990,
          14990,
          14949,
          19999,
          19999,
          19990,
          19990,
          19799,
          19499,
          18999,
          18999,
          18990,
          18990,
          20999,
          29999,
          29999,
          29999,
          29999,
          29999,
          29999,
          28990,
          28990,
          30500,
          30999,
          39999,
          39990,
          39990,
          39990,
          38900,
          37999,
          37999,
          37999,
          37999,
          41289,
          41790,
          42990,
          42999,
          49999,
          49999,
          49999,
          49990,
          49000,
          47990,
          44999,
          44999,
          44990,
          51999,
          54990,
          54999,
          59999,
          59999,
          59999,
          59999,
          57990,
          64999,
          65690,
          69990,
          69999,
          69999,
          70000,
          199990,
          184999,
          179990,
          177999,
          164999,
          164999,
          159999,
          159999,
          159999,
          154999,
          139999,
          130376,
          129999,
          6990,
          6999,
          7499,
          7999,
          8033,
          8199,
          8490,
          9999,
          9999,
          9999,
          9999,
          9999,
          9990,
          9990,
          9990,
          9990,
          9499,
          10199,
          10499,
          10499,
          11999,
          11999,
          11999,
          11990,
          11990,
          11990,
          11990,
          11899,
          11580,
          11490,
          11490,
          11390,
          10999,
          12350,
          12490,
          12490,
          15050,
          14999,
          14999,
          14999,
          14999,
          14999,
          14999,
          14990,
          14990,
          14990,
          14990,
          14990,
          14990,
          19999,
          19999,
          19990,
          19990,
          19990,
          19990,
          19990,
          29999,
          29999,
          29999,
          29990,
          29990,
          29990,
          29990,
          29990,
          29799,
          30739,
          31398,
          31990,
          31990,
          39999,
          39990,
          39990,
          39990,
          39990,
          39990,
          38990,
          38799,
          37999,
          37990,
          40990,
          42990,
          42990,
          42999,
          49999,
          49990,
          49940,
          48990,
          46990,
          45990,
          45210,
          44990,
          44990,
          50999,
          51999,
          54999,
          56990,
          58990,
          62990,
          63999,
          64990,
          65490,
          69990,
          69990,
          71990,
          74899,
          76990,
          76990,
          79999,
          80990,
          139990,
          118990,
          115990,
          113990,
          110990,
          109990,
          107990,
          106990,
          99990,
          99990,
          99990,
          94999,
          89999,
          89990,
          82990,
          82990,
          6950,
          6950,
          7199,
          7450,
          7480,
          7499,
          7499,
          7790,
          7815,
          7850,
          7919,
          7920,
          7945,
          7950,
          7980,
          9999,
          9999,
          9999,
          9990,
          9990,
          9990,
          9990,
          9990,
          9990,
          9893,
          9820,
          10299,
          10390,
          10499,
          10499,
          11999,
          11999,
          11999,
          11999,
          11999,
          11999,
          11999,
          11990,
          11990,
          11910,
          11749,
          11499,
          11499,
          12251,
          12490,
          12490,
          14999,
          14999,
          14999,
          14999,
          14999,
          14990,
          14990,
          14990,
          14844,
          14499,
          13999,
          13999,
          15299,
          15329,
          15749,
          15990,
          15990,
          19999,
          19999,
          19999,
          19990,
          19990,
          19990,
          19990,
          19783,
          18999,
          18999,
          18990,
          20499,
          20500,
          20599,
          30049,
          29999,
          29999,
          29999,
          29996,
          29990,
          29990,
          29990,
          29990,
          29990,
          29990,
          28979,
          28339,
          30999,
          30999,
          31089,
          39999,
          39999,
          39999,
          39999,
          38999,
          38990,
          36999,
          36990,
          35999,
          34999,
          34999,
          34990,
          34990,
          33999,
          33999,
          33999,
          33990,
          40990,
          42990,
          44990,
          44999,
          49990,
          49990,
          49990,
          49990,
          49999,
          14990,
          13999,
          13999,
          13999,
          13999,
          15499,
          15990,
          19999,
          19999,
          19990,
          19990,
          19990,
          18999,
          18990,
          18990,
          18990,
          20699,
          20990,
          20999,
          20999,
          29999,
          29999,
          29990,
          29990,
          29990,
          29990,
          29990,
          28900,
          30200,
          30900,
          39999,
          38999,
          36990,
          35999,
          35990,
          34990,
          42990,
          42990,
          44990,
          44990,
          44990,
          44999,
          45999,
          47990,
          47999,
          49999,
          49499,
          50990,
          54990,
          69990,
          71990,
          78990,
          79990,
          79990,
          84990,
          84999,
          89990,
          89999,
          94990,
          99990,
          99990,
          134999,
          129990,
          119900,
          114990,
          10990,
          11999,
          12899,
          12990,
          13499,
          13990,
          13990,
          14990,
          15990,
          15990,
          15990,
          15999,
          17990,
          17999,
          18990,
          18990,
          19499,
          19990,
          19999,
          19990,
          19990,
          21838,
          22486,
          22990,
          22999,
          29999,
          29990,
          29990,
          29990,
          28999,
          26990,
          25999,
          25990,
          30990,
          32990,
          33990,
          34999,
          36999,
          37990,
          38990,
          39990,
          39990,
          38999,
          42990,
          43990,
          44990,
          44999,
          49990,
          52652,
          52999,
          57999,
          58990,
          58990,
          64990,
          64990,
          64990,
          72990,
          76429,
          6999,
          6999,
          7299,
          7499,
          7580,
          7890,
          7972,
          7990,
          7999,
          7999,
          7999,
          8490,
          8490,
          8499,
          8689,
          8990,
          8999,
          8999,
          8999,
          8999,
          9999,
          9999,
          9990,
          9990,
          9990,
          9990,
          9799,
          9690,
          9499,
          9249,
          10330,
          10499,
          10880,
          10999,
          11499,
          11539,
          11990,
          12194,
          12490,
          12990,
          12990,
          12999,
          13267,
          13290,
          13490,
          13999,
          13999,
          14499,
          14899,
          14950,
          14990,
          14990,
          14999,
          15590,
          15990,
          15990,
          15999,
          15999,
          15999,
          16999,
          16999,
          17945,
          17990,
          17990,
          19499,
          19490,
          20999,
          21990,
          21990,
          21999,
          21999,
          22999,
          24499,
          24990,
          25890,
          25999,
          26499,
          27990,
          27999,
          28990,
          29999,
          29999,
          29990,
          29990,
          31990,
          32990,
          33999,
          34990,
          36999,
          39999,
          40990,
          42999,
          45990,
          46990,
          14990,
          14990,
          14990,
          14990,
          13999,
          13999,
          13999,
          13990,
          13990,
          15990,
          19990,
          19990,
          19990,
          18999,
          20499,
          20999,
          29990,
          29990,
          29990,
          29990,
          27999,
          27999,
          27990,
          27199,
          30990,
          30999,
          31999,
          32990,
          32990,
          34990,
          39990,
          39990,
          38999,
          34999,
          42999,
          43990,
          44990,
          44990,
          44999,
          49990,
          49999,
          51999,
          54990,
          54990,
          55990,
          56999,
          66499,
          67990,
          77990,
          79990,
          79999,
          79999,
          89990,
          89999,
          94990,
          94990,
          99990,
          102999,
          187990,
          139999,
          124999,
          114990,
          104999,
          103999,
          23999,
          24990,
          25999,
          27990,
          27999,
          31999,
          33999,
          36999,
          37999,
          40299,
          40999,
          45990,
          49990,
          89999,
          13999,
          19999,
          32999,
          37999,
          43999,
          46999,
          49990,
          52999,
          59990,
          59999,
          62999,
          69999,
          69999,
          74990,
          89999,
          94990,
          99990,
          101999,
          108999,
          109990,
          125990,
          146990,
          159990,
          6990,
          6999,
          7190,
          7299,
          7299,
          7309,
          7394,
          8990,
          9999,
          49990,
          52999,
          59999,
          63990,
          64999,
          70990,
          71990,
          71999,
          72999,
          74990,
          74999,
          109900,
          107990,
          94999,
          94990,
          89999,
          89990,
          82999,
          81990,
          79999,
          79990,
          9499,
          27999,
          49999,
          54999,
          79990,
          82990,
          7124,
          7290,
          7499,
          7499,
          9990,
          9499,
          11490,
          13990,
          34990,
          46990,
          49990,
          54990,
          59999,
          64999,
          7499,
          7990,
          7990,
          11990,
          13990,
          7999,
          8199,
          9499,
          7999,
          9099,
          7599,
          9490,
          7899,
          7499,
          7999,
          8499,
          8999,
          9499,
          8999,
          7990,
          8899,
          8990,
          8690,
          11110,
          11450,
          11000,
          10631,
          10999,
          10390,
          10499,
          10299,
          10900,
          10990,
          10999,
          10490,
          12999,
          12999,
          13999,
          12332,
          13429,
          13599,
          12490,
          14199,
          12990,
          12990,
          15999,
          17990,
          15999,
          15982,
          16990,
          17900,
          17499,
          16990,
          16990,
          17999,
          16990,
          15999,
          17999,
          15999,
          17999,
          26990,
          24999,
          22863,
          27899,
          24990,
          26690,
          25171,
          21499,
          24499,
          21390,
          24999,
          26899,
          22492,
          23999,
          26499,
          36880,
          36999,
          33779,
          36999,
          32883,
          33499,
          29999,
          35499,
          34990,
          41740,
          43990,
          124990,
          89748,
          79999,
          99999,
          74990,
          99999,
          104999,
          81999,
          105999,
          103000,
          74999,
          8999,
          8990,
          8999,
          8980,
          8999,
          8489,
          8660,
          9999,
          13499,
          12999,
          13999,
          12749,
          12990,
          13950,
          12990,
          14499,
          12990,
          14499,
          16499,
          15990,
          15999,
          15499,
          16299,
          15990,
          16999,
          17999,
          17990,
          17999,
          17995,
          15190,
          18990,
          27999,
          24990,
          23999,
          23499,
          21999,
          21999,
          24999,
          21499,
          20999,
          20999,
          25299,
          21490,
          24999,
          24990,
          20198,
          30799,
          35990,
          32999,
          35999,
          36199,
          39990,
          33499,
          37999,
          36999,
          31899,
          36990,
          45215,
          69999,
          68899,
          63490,
          8349,
          7820,
          8890,
          9478,
          9764,
          8999,
          9489,
          8744,
          9800,
          8990,
          7290,
          11049,
          10190,
          10466,
          10990,
          10499,
          10750,
          10899,
          10999,
          12877,
          13374,
          12499,
          12900,
          12999,
          13489,
          12999,
          12990,
          12990,
          13999,
          15999,
          15323,
          18708,
          16485,
          18398,
          18577,
          16499,
          16400,
          16949,
          16990,
          17990,
          17949,
          16998,
          17789,
          16500,
          24999,
          21828,
          27875,
          21477,
          23880,
          23999,
          23900,
          20615,
          23999,
          23649,
          29004,
          22799,
          26999,
          24150,
          29999,
          30990,
          33900,
          54990,
          54999,
          52990,
          94990,
          104990,
          89990,
          8999,
          9999,
          7999,
          6999,
          6999,
          7999,
          8499,
          8499,
          7998,
          6999,
          6999,
          8999,
          8999,
          8990,
          6999,
          6999,
          7999,
          7090,
          8990,
          9990,
          11999,
          10999,
          11999,
          9999,
          10999,
          11999,
          10990,
          9990,
          9999,
          11999,
          10990,
          14999,
          14999,
          14989,
          12490,
          14990,
          14990,
          12990,
          13990,
          12990,
          13990,
          12990,
          14999,
          12999,
          12999,
          12990,
          16999,
          18928,
          16999,
          17990,
          19999,
          19990,
          19990,
          16999,
          15990,
          19999,
          15990,
          16990,
          16990,
          19999,
          19990,
          20999,
          22999,
          26999,
          20990,
          29999,
          24999,
          29999,
          21999,
          28990,
          24999,
          22999,
          20990,
          23990,
          25999,
          29990,
          20999,
          31999,
          34990,
          35999,
          33499,
          30990,
          39990,
          34990,
          39999,
          31990,
          37999,
          39990,
          32990,
          39990,
          35999,
          34990,
          39990,
          37990,
          49990,
          49990,
          44999,
          49999,
          42990,
          49990,
          41990,
          45990,
          46999,
          39999,
          55990,
          59990,
          59990,
          54990,
          54990,
          59990,
          54990,
          59990,
          88990,
          69999,
          69999,
          69990,
          159990,
          89990,
          79990,
          79990,
          74999,
          89990,
          89990,
          129990,
          62990,
          94990,
          149999,
          14999,
          20000,
          16899,
          18879,
          16134,
          18999,
          16990,
          18999,
          19999,
          18990,
          24454,
          29999,
          20065,
          22592,
          20990,
          26674,
          22999,
          23999,
          22499,
          29990,
          29990,
          29990,
          22990,
          29990,
          20999,
          22990,
          24990,
          24990,
          24999,
          29990,
          32999,
          35990,
          35609,
          39888,
          30999,
          30999,
          33990,
          34999,
          34999,
          32990,
          34990,
          29990,
          34999,
          42437,
          43889,
          40108,
          45990,
          47998,
          49990,
          46990,
          41990,
          49990,
          47990,
          43299,
          44990,
          42999,
          58699,
          50999,
          58990,
          59990,
          55999,
          54999,
          63359,
          64990,
          69999,
          129990,
          70990,
          69999,
          59990,
          79990,
          74999,
          62999,
          64990,
          64990,
          69999,
          7699,
          6999,
          8499,
          9999,
          9190,
          7900,
          7689,
          9999,
          8999,
          7890,
          9998,
          8990,
          9990,
          8499,
          9990,
          7990,
          9999,
          8980,
          7990,
          7699,
          11159,
          10499,
          11350,
          11999,
          10269,
          11489,
          11425,
          9998,
          11990,
          10490,
          11499,
          10999,
          11999,
          10490,
          10990,
          10949,
          14999,
          13999,
          12120,
          13999,
          12239,
          12428,
          13490,
          12499,
          13999,
          12990,
          13990,
          12990,
          13990,
          13999,
          12990,
          13999,
          14999,
          15898,
          18377,
          20075,
          17990,
          17975,
          19999,
          15990,
          14999,
          16890,
          15990,
          18390,
          17990,
          15499,
          15999,
          18499,
          19990,
          14990,
          14999,
          23990,
          22297,
          28517,
          24990,
          24329,
          20048,
          26479,
          27990,
          24890,
          23999,
          29990,
          23990,
          22499,
          27999,
          27999,
          23999,
          24449,
          24999,
          23990,
          34990,
          36898,
          44949,
          49990,
          54990,
          54999,
          52990,
          59990,
          74999,
          69899,
          89990,
          99990,
          89990,
          11990,
          14990,
          14990,
          12999,
          14990,
          19990,
          16990,
          18499,
          15990,
          17999,
          19990,
          24990,
          26990,
          24990,
          23990,
          24999,
          23999,
          21990,
          23999,
          29990,
          21990,
          29990,
          22990,
          20990,
          20990,
          29990,
          29990,
          22990,
          22999,
          32990,
          34990,
          49990,
          46990,
          46999,
          40990,
          42990,
          45999,
          59999,
          53990,
          59990,
          56990,
          52990,
          115990,
          74990,
          83999,
          93990,
          84990,
          63990,
          214990,
          79990,
          99990,
          129990,
          69990,
          134990,
          69990,
          121999,
          191999,
          82990,
          69990,
          92990,
          79990,
          110990,
          9990,
          8990,
          9999,
          11999,
          10990,
          11990,
          11999,
          12990,
          16999,
          17990,
          18990,
          16999,
          17990,
          17990,
          18990,
          25499,
          21999,
          24990,
          24990,
          23999,
          21990,
          24990,
          23990,
          24990,
          39999,
          7319,
          10999,
          10749,
          10489,
          10999,
          14499,
          8799,
          9799,
          9990,
          7999,
          9099,
          9999,
          6999,
          7299,
          8346,
          6999,
          8990,
          8499,
          6999,
          9999,
          7949,
          8499,
          7990,
          6999,
          9999,
          23990,
          7990,
          9990,
          7999,
          9990,
          8999,
          8990,
          7990,
          10999,
          13999,
          13990,
          13999,
          12990,
          13990,
          14990,
          13990,
          14499,
          19990,
          15990,
          17999,
          15990,
          19990,
          18999,
          24990,
          23990,
          22499,
          119990
         ],
         "yaxis": "y"
        }
       ],
       "layout": {
        "legend": {
         "tracegroupgap": 0
        },
        "template": {
         "data": {
          "bar": [
           {
            "error_x": {
             "color": "#2a3f5f"
            },
            "error_y": {
             "color": "#2a3f5f"
            },
            "marker": {
             "line": {
              "color": "#E5ECF6",
              "width": 0.5
             },
             "pattern": {
              "fillmode": "overlay",
              "size": 10,
              "solidity": 0.2
             }
            },
            "type": "bar"
           }
          ],
          "barpolar": [
           {
            "marker": {
             "line": {
              "color": "#E5ECF6",
              "width": 0.5
             },
             "pattern": {
              "fillmode": "overlay",
              "size": 10,
              "solidity": 0.2
             }
            },
            "type": "barpolar"
           }
          ],
          "carpet": [
           {
            "aaxis": {
             "endlinecolor": "#2a3f5f",
             "gridcolor": "white",
             "linecolor": "white",
             "minorgridcolor": "white",
             "startlinecolor": "#2a3f5f"
            },
            "baxis": {
             "endlinecolor": "#2a3f5f",
             "gridcolor": "white",
             "linecolor": "white",
             "minorgridcolor": "white",
             "startlinecolor": "#2a3f5f"
            },
            "type": "carpet"
           }
          ],
          "choropleth": [
           {
            "colorbar": {
             "outlinewidth": 0,
             "ticks": ""
            },
            "type": "choropleth"
           }
          ],
          "contour": [
           {
            "colorbar": {
             "outlinewidth": 0,
             "ticks": ""
            },
            "colorscale": [
             [
              0,
              "#0d0887"
             ],
             [
              0.1111111111111111,
              "#46039f"
             ],
             [
              0.2222222222222222,
              "#7201a8"
             ],
             [
              0.3333333333333333,
              "#9c179e"
             ],
             [
              0.4444444444444444,
              "#bd3786"
             ],
             [
              0.5555555555555556,
              "#d8576b"
             ],
             [
              0.6666666666666666,
              "#ed7953"
             ],
             [
              0.7777777777777778,
              "#fb9f3a"
             ],
             [
              0.8888888888888888,
              "#fdca26"
             ],
             [
              1,
              "#f0f921"
             ]
            ],
            "type": "contour"
           }
          ],
          "contourcarpet": [
           {
            "colorbar": {
             "outlinewidth": 0,
             "ticks": ""
            },
            "type": "contourcarpet"
           }
          ],
          "heatmap": [
           {
            "colorbar": {
             "outlinewidth": 0,
             "ticks": ""
            },
            "colorscale": [
             [
              0,
              "#0d0887"
             ],
             [
              0.1111111111111111,
              "#46039f"
             ],
             [
              0.2222222222222222,
              "#7201a8"
             ],
             [
              0.3333333333333333,
              "#9c179e"
             ],
             [
              0.4444444444444444,
              "#bd3786"
             ],
             [
              0.5555555555555556,
              "#d8576b"
             ],
             [
              0.6666666666666666,
              "#ed7953"
             ],
             [
              0.7777777777777778,
              "#fb9f3a"
             ],
             [
              0.8888888888888888,
              "#fdca26"
             ],
             [
              1,
              "#f0f921"
             ]
            ],
            "type": "heatmap"
           }
          ],
          "heatmapgl": [
           {
            "colorbar": {
             "outlinewidth": 0,
             "ticks": ""
            },
            "colorscale": [
             [
              0,
              "#0d0887"
             ],
             [
              0.1111111111111111,
              "#46039f"
             ],
             [
              0.2222222222222222,
              "#7201a8"
             ],
             [
              0.3333333333333333,
              "#9c179e"
             ],
             [
              0.4444444444444444,
              "#bd3786"
             ],
             [
              0.5555555555555556,
              "#d8576b"
             ],
             [
              0.6666666666666666,
              "#ed7953"
             ],
             [
              0.7777777777777778,
              "#fb9f3a"
             ],
             [
              0.8888888888888888,
              "#fdca26"
             ],
             [
              1,
              "#f0f921"
             ]
            ],
            "type": "heatmapgl"
           }
          ],
          "histogram": [
           {
            "marker": {
             "pattern": {
              "fillmode": "overlay",
              "size": 10,
              "solidity": 0.2
             }
            },
            "type": "histogram"
           }
          ],
          "histogram2d": [
           {
            "colorbar": {
             "outlinewidth": 0,
             "ticks": ""
            },
            "colorscale": [
             [
              0,
              "#0d0887"
             ],
             [
              0.1111111111111111,
              "#46039f"
             ],
             [
              0.2222222222222222,
              "#7201a8"
             ],
             [
              0.3333333333333333,
              "#9c179e"
             ],
             [
              0.4444444444444444,
              "#bd3786"
             ],
             [
              0.5555555555555556,
              "#d8576b"
             ],
             [
              0.6666666666666666,
              "#ed7953"
             ],
             [
              0.7777777777777778,
              "#fb9f3a"
             ],
             [
              0.8888888888888888,
              "#fdca26"
             ],
             [
              1,
              "#f0f921"
             ]
            ],
            "type": "histogram2d"
           }
          ],
          "histogram2dcontour": [
           {
            "colorbar": {
             "outlinewidth": 0,
             "ticks": ""
            },
            "colorscale": [
             [
              0,
              "#0d0887"
             ],
             [
              0.1111111111111111,
              "#46039f"
             ],
             [
              0.2222222222222222,
              "#7201a8"
             ],
             [
              0.3333333333333333,
              "#9c179e"
             ],
             [
              0.4444444444444444,
              "#bd3786"
             ],
             [
              0.5555555555555556,
              "#d8576b"
             ],
             [
              0.6666666666666666,
              "#ed7953"
             ],
             [
              0.7777777777777778,
              "#fb9f3a"
             ],
             [
              0.8888888888888888,
              "#fdca26"
             ],
             [
              1,
              "#f0f921"
             ]
            ],
            "type": "histogram2dcontour"
           }
          ],
          "mesh3d": [
           {
            "colorbar": {
             "outlinewidth": 0,
             "ticks": ""
            },
            "type": "mesh3d"
           }
          ],
          "parcoords": [
           {
            "line": {
             "colorbar": {
              "outlinewidth": 0,
              "ticks": ""
             }
            },
            "type": "parcoords"
           }
          ],
          "pie": [
           {
            "automargin": true,
            "type": "pie"
           }
          ],
          "scatter": [
           {
            "fillpattern": {
             "fillmode": "overlay",
             "size": 10,
             "solidity": 0.2
            },
            "type": "scatter"
           }
          ],
          "scatter3d": [
           {
            "line": {
             "colorbar": {
              "outlinewidth": 0,
              "ticks": ""
             }
            },
            "marker": {
             "colorbar": {
              "outlinewidth": 0,
              "ticks": ""
             }
            },
            "type": "scatter3d"
           }
          ],
          "scattercarpet": [
           {
            "marker": {
             "colorbar": {
              "outlinewidth": 0,
              "ticks": ""
             }
            },
            "type": "scattercarpet"
           }
          ],
          "scattergeo": [
           {
            "marker": {
             "colorbar": {
              "outlinewidth": 0,
              "ticks": ""
             }
            },
            "type": "scattergeo"
           }
          ],
          "scattergl": [
           {
            "marker": {
             "colorbar": {
              "outlinewidth": 0,
              "ticks": ""
             }
            },
            "type": "scattergl"
           }
          ],
          "scattermapbox": [
           {
            "marker": {
             "colorbar": {
              "outlinewidth": 0,
              "ticks": ""
             }
            },
            "type": "scattermapbox"
           }
          ],
          "scatterpolar": [
           {
            "marker": {
             "colorbar": {
              "outlinewidth": 0,
              "ticks": ""
             }
            },
            "type": "scatterpolar"
           }
          ],
          "scatterpolargl": [
           {
            "marker": {
             "colorbar": {
              "outlinewidth": 0,
              "ticks": ""
             }
            },
            "type": "scatterpolargl"
           }
          ],
          "scatterternary": [
           {
            "marker": {
             "colorbar": {
              "outlinewidth": 0,
              "ticks": ""
             }
            },
            "type": "scatterternary"
           }
          ],
          "surface": [
           {
            "colorbar": {
             "outlinewidth": 0,
             "ticks": ""
            },
            "colorscale": [
             [
              0,
              "#0d0887"
             ],
             [
              0.1111111111111111,
              "#46039f"
             ],
             [
              0.2222222222222222,
              "#7201a8"
             ],
             [
              0.3333333333333333,
              "#9c179e"
             ],
             [
              0.4444444444444444,
              "#bd3786"
             ],
             [
              0.5555555555555556,
              "#d8576b"
             ],
             [
              0.6666666666666666,
              "#ed7953"
             ],
             [
              0.7777777777777778,
              "#fb9f3a"
             ],
             [
              0.8888888888888888,
              "#fdca26"
             ],
             [
              1,
              "#f0f921"
             ]
            ],
            "type": "surface"
           }
          ],
          "table": [
           {
            "cells": {
             "fill": {
              "color": "#EBF0F8"
             },
             "line": {
              "color": "white"
             }
            },
            "header": {
             "fill": {
              "color": "#C8D4E3"
             },
             "line": {
              "color": "white"
             }
            },
            "type": "table"
           }
          ]
         },
         "layout": {
          "annotationdefaults": {
           "arrowcolor": "#2a3f5f",
           "arrowhead": 0,
           "arrowwidth": 1
          },
          "autotypenumbers": "strict",
          "coloraxis": {
           "colorbar": {
            "outlinewidth": 0,
            "ticks": ""
           }
          },
          "colorscale": {
           "diverging": [
            [
             0,
             "#8e0152"
            ],
            [
             0.1,
             "#c51b7d"
            ],
            [
             0.2,
             "#de77ae"
            ],
            [
             0.3,
             "#f1b6da"
            ],
            [
             0.4,
             "#fde0ef"
            ],
            [
             0.5,
             "#f7f7f7"
            ],
            [
             0.6,
             "#e6f5d0"
            ],
            [
             0.7,
             "#b8e186"
            ],
            [
             0.8,
             "#7fbc41"
            ],
            [
             0.9,
             "#4d9221"
            ],
            [
             1,
             "#276419"
            ]
           ],
           "sequential": [
            [
             0,
             "#0d0887"
            ],
            [
             0.1111111111111111,
             "#46039f"
            ],
            [
             0.2222222222222222,
             "#7201a8"
            ],
            [
             0.3333333333333333,
             "#9c179e"
            ],
            [
             0.4444444444444444,
             "#bd3786"
            ],
            [
             0.5555555555555556,
             "#d8576b"
            ],
            [
             0.6666666666666666,
             "#ed7953"
            ],
            [
             0.7777777777777778,
             "#fb9f3a"
            ],
            [
             0.8888888888888888,
             "#fdca26"
            ],
            [
             1,
             "#f0f921"
            ]
           ],
           "sequentialminus": [
            [
             0,
             "#0d0887"
            ],
            [
             0.1111111111111111,
             "#46039f"
            ],
            [
             0.2222222222222222,
             "#7201a8"
            ],
            [
             0.3333333333333333,
             "#9c179e"
            ],
            [
             0.4444444444444444,
             "#bd3786"
            ],
            [
             0.5555555555555556,
             "#d8576b"
            ],
            [
             0.6666666666666666,
             "#ed7953"
            ],
            [
             0.7777777777777778,
             "#fb9f3a"
            ],
            [
             0.8888888888888888,
             "#fdca26"
            ],
            [
             1,
             "#f0f921"
            ]
           ]
          },
          "colorway": [
           "#636efa",
           "#EF553B",
           "#00cc96",
           "#ab63fa",
           "#FFA15A",
           "#19d3f3",
           "#FF6692",
           "#B6E880",
           "#FF97FF",
           "#FECB52"
          ],
          "font": {
           "color": "#2a3f5f"
          },
          "geo": {
           "bgcolor": "white",
           "lakecolor": "white",
           "landcolor": "#E5ECF6",
           "showlakes": true,
           "showland": true,
           "subunitcolor": "white"
          },
          "hoverlabel": {
           "align": "left"
          },
          "hovermode": "closest",
          "mapbox": {
           "style": "light"
          },
          "paper_bgcolor": "white",
          "plot_bgcolor": "#E5ECF6",
          "polar": {
           "angularaxis": {
            "gridcolor": "white",
            "linecolor": "white",
            "ticks": ""
           },
           "bgcolor": "#E5ECF6",
           "radialaxis": {
            "gridcolor": "white",
            "linecolor": "white",
            "ticks": ""
           }
          },
          "scene": {
           "xaxis": {
            "backgroundcolor": "#E5ECF6",
            "gridcolor": "white",
            "gridwidth": 2,
            "linecolor": "white",
            "showbackground": true,
            "ticks": "",
            "zerolinecolor": "white"
           },
           "yaxis": {
            "backgroundcolor": "#E5ECF6",
            "gridcolor": "white",
            "gridwidth": 2,
            "linecolor": "white",
            "showbackground": true,
            "ticks": "",
            "zerolinecolor": "white"
           },
           "zaxis": {
            "backgroundcolor": "#E5ECF6",
            "gridcolor": "white",
            "gridwidth": 2,
            "linecolor": "white",
            "showbackground": true,
            "ticks": "",
            "zerolinecolor": "white"
           }
          },
          "shapedefaults": {
           "line": {
            "color": "#2a3f5f"
           }
          },
          "ternary": {
           "aaxis": {
            "gridcolor": "white",
            "linecolor": "white",
            "ticks": ""
           },
           "baxis": {
            "gridcolor": "white",
            "linecolor": "white",
            "ticks": ""
           },
           "bgcolor": "#E5ECF6",
           "caxis": {
            "gridcolor": "white",
            "linecolor": "white",
            "ticks": ""
           }
          },
          "title": {
           "x": 0.05
          },
          "xaxis": {
           "automargin": true,
           "gridcolor": "white",
           "linecolor": "white",
           "ticks": "",
           "title": {
            "standoff": 15
           },
           "zerolinecolor": "white",
           "zerolinewidth": 2
          },
          "yaxis": {
           "automargin": true,
           "gridcolor": "white",
           "linecolor": "white",
           "ticks": "",
           "title": {
            "standoff": 15
           },
           "zerolinecolor": "white",
           "zerolinewidth": 2
          }
         }
        },
        "title": {
         "text": "Rating vs Price"
        },
        "xaxis": {
         "anchor": "y",
         "domain": [
          0,
          1
         ],
         "title": {
          "text": "Rating"
         }
        },
        "yaxis": {
         "anchor": "x",
         "domain": [
          0,
          1
         ],
         "title": {
          "text": "Price"
         }
        }
       }
      }
     },
     "metadata": {},
     "output_type": "display_data"
    }
   ],
   "source": [
    "rating_v_price_df = file[['Name', 'Rating', 'Price']].copy()\n",
    "\n",
    "px.scatter(x=file['Rating'], y=file['Price'], title=\"Rating vs Price\", labels={'x': 'Rating', 'y': 'Price'})\n"
   ]
  },
  {
   "cell_type": "markdown",
   "metadata": {},
   "source": [
    "####  This suggests that the rating parameter may not be a strong predictor of price in our analysis. When the prices increase, the ratings are not increasing that much."
   ]
  },
  {
   "cell_type": "markdown",
   "metadata": {},
   "source": [
    "------------------------------------------------"
   ]
  },
  {
   "cell_type": "markdown",
   "metadata": {},
   "source": [
    "## Specs Importance"
   ]
  },
  {
   "cell_type": "code",
   "execution_count": 93,
   "metadata": {},
   "outputs": [
    {
     "data": {
      "application/vnd.plotly.v1+json": {
       "config": {
        "plotlyServerURL": "https://plot.ly"
       },
       "data": [
        {
         "hovertemplate": "Spec Score=%{x}<br>Price=%{y}<extra></extra>",
         "legendgroup": "",
         "marker": {
          "color": "#636efa",
          "symbol": "circle"
         },
         "mode": "markers",
         "name": "",
         "showlegend": false,
         "type": "scattergl",
         "x": [
          68,
          63,
          75,
          73,
          69,
          75,
          76,
          71,
          75,
          75,
          85,
          78,
          72,
          75,
          75,
          74,
          73,
          75,
          79,
          80,
          80,
          62,
          75,
          76,
          81,
          81,
          79,
          76,
          82,
          82,
          87,
          86,
          88,
          85,
          84,
          83,
          89,
          86,
          83,
          88,
          86,
          86,
          86,
          78,
          89,
          83,
          87,
          88,
          83,
          89,
          87,
          91,
          90,
          88,
          89,
          85,
          76,
          88,
          80,
          83,
          89,
          79,
          79,
          88,
          88,
          89,
          88,
          87,
          86,
          88,
          88,
          75,
          78,
          86,
          88,
          76,
          96,
          93,
          92,
          91,
          93,
          92,
          96,
          91,
          91,
          92,
          95,
          93,
          95,
          65,
          59,
          42,
          67,
          60,
          59,
          61,
          72,
          69,
          65,
          54,
          66,
          75,
          72,
          65,
          65,
          70,
          69,
          72,
          66,
          75,
          67,
          74,
          74,
          68,
          71,
          68,
          75,
          72,
          74,
          67,
          73,
          75,
          51,
          64,
          63,
          53,
          78,
          80,
          75,
          71,
          71,
          74,
          72,
          78,
          77,
          74,
          73,
          70,
          82,
          79,
          80,
          78,
          79,
          80,
          84,
          86,
          85,
          86,
          70,
          84,
          85,
          84,
          73,
          84,
          84,
          86,
          87,
          81,
          85,
          89,
          85,
          89,
          84,
          88,
          88,
          85,
          86,
          84,
          87,
          88,
          89,
          85,
          85,
          89,
          91,
          89,
          91,
          87,
          88,
          89,
          88,
          89,
          91,
          86,
          88,
          92,
          82,
          91,
          89,
          92,
          84,
          89,
          89,
          91,
          96,
          90,
          91,
          94,
          86,
          93,
          98,
          93,
          90,
          84,
          91,
          92,
          94,
          97,
          91,
          95,
          93,
          89,
          90,
          92,
          58,
          62,
          60,
          62,
          61,
          59,
          68,
          65,
          70,
          65,
          71,
          69,
          64,
          62,
          69,
          74,
          65,
          69,
          73,
          76,
          58,
          68,
          67,
          70,
          68,
          77,
          74,
          75,
          72,
          72,
          75,
          75,
          78,
          78,
          71,
          75,
          71,
          80,
          66,
          75,
          73,
          74,
          68,
          78,
          75,
          75,
          82,
          80,
          79,
          73,
          76,
          71,
          82,
          78,
          77,
          79,
          79,
          84,
          75,
          80,
          80,
          83,
          69,
          82,
          82,
          80,
          84,
          84,
          82,
          82,
          84,
          83,
          84,
          84,
          75,
          80,
          84,
          82,
          85,
          81,
          84,
          89,
          84,
          77,
          75,
          84,
          85,
          80,
          86,
          88,
          85,
          86,
          86,
          87,
          85,
          87,
          86,
          83,
          89,
          83,
          88,
          86,
          82,
          83,
          88,
          84,
          79,
          82,
          86,
          86,
          86,
          89,
          86,
          85,
          89,
          83,
          88,
          80,
          88,
          74,
          71,
          78,
          81,
          76,
          74,
          77,
          86,
          81,
          82,
          82,
          82,
          78,
          76,
          75,
          78,
          84,
          84,
          86,
          82,
          89,
          84,
          84,
          83,
          81,
          81,
          83,
          84,
          87,
          87,
          86,
          86,
          89,
          78,
          88,
          88,
          85,
          85,
          89,
          86,
          87,
          86,
          86,
          89,
          90,
          81,
          89,
          90,
          90,
          94,
          91,
          90,
          93,
          90,
          89,
          91,
          88,
          89,
          92,
          83,
          90,
          86,
          89,
          85,
          95,
          69,
          79,
          75,
          74,
          81,
          78,
          74,
          76,
          81,
          77,
          69,
          82,
          80,
          82,
          83,
          71,
          83,
          82,
          83,
          81,
          76,
          84,
          80,
          83,
          70,
          83,
          86,
          84,
          84,
          83,
          84,
          83,
          84,
          86,
          84,
          84,
          82,
          83,
          83,
          85,
          75,
          84,
          84,
          84,
          87,
          86,
          89,
          88,
          85,
          89,
          90,
          89,
          89,
          83,
          92,
          87,
          86,
          88,
          69,
          71,
          61,
          68,
          68,
          66,
          74,
          71,
          71,
          75,
          62,
          75,
          69,
          66,
          71,
          68,
          74,
          70,
          68,
          64,
          77,
          75,
          75,
          66,
          75,
          75,
          76,
          74,
          75,
          73,
          77,
          77,
          78,
          75,
          80,
          79,
          77,
          79,
          81,
          77,
          83,
          76,
          79,
          80,
          75,
          81,
          76,
          81,
          82,
          80,
          77,
          79,
          83,
          84,
          66,
          81,
          84,
          81,
          76,
          84,
          84,
          82,
          84,
          81,
          81,
          80,
          83,
          84,
          85,
          84,
          84,
          84,
          84,
          84,
          82,
          82,
          86,
          80,
          86,
          85,
          84,
          85,
          67,
          75,
          75,
          85,
          85,
          86,
          87,
          86,
          88,
          86,
          88,
          88,
          78,
          75,
          80,
          72,
          71,
          81,
          75,
          75,
          72,
          80,
          83,
          80,
          71,
          78,
          83,
          72,
          86,
          85,
          84,
          77,
          82,
          74,
          83,
          89,
          86,
          87,
          80,
          84,
          85,
          87,
          88,
          89,
          85,
          84,
          88,
          89,
          89,
          87,
          87,
          89,
          89,
          91,
          91,
          88,
          91,
          84,
          95,
          87,
          93,
          96,
          90,
          90,
          91,
          89,
          94,
          94,
          89,
          92,
          93,
          92,
          89,
          98,
          88,
          92,
          86,
          80,
          86,
          77,
          87,
          85,
          86,
          86,
          88,
          89,
          89,
          88,
          81,
          94,
          66,
          78,
          78,
          86,
          71,
          85,
          78,
          78,
          77,
          79,
          89,
          77,
          78,
          85,
          90,
          83,
          89,
          81,
          82,
          84,
          83,
          90,
          84,
          57,
          68,
          61,
          63,
          60,
          73,
          67,
          72,
          74,
          77,
          87,
          86,
          86,
          89,
          89,
          88,
          86,
          88,
          89,
          91,
          93,
          90,
          93,
          88,
          88,
          91,
          89,
          92,
          89,
          89,
          61,
          76,
          85,
          85,
          91,
          91,
          64,
          64,
          61,
          64,
          75,
          61,
          72,
          75,
          84,
          87,
          87,
          88,
          89,
          88,
          67,
          59,
          60,
          69,
          63,
          70,
          74,
          77,
          68,
          74,
          66,
          71,
          54,
          67,
          60,
          66,
          71,
          67,
          49,
          63,
          68,
          64,
          68,
          79,
          76,
          71,
          77,
          75,
          74,
          69,
          70,
          72,
          71,
          72,
          70,
          83,
          75,
          82,
          79,
          77,
          82,
          78,
          76,
          75,
          77,
          81,
          75,
          80,
          84,
          76,
          79,
          79,
          80,
          70,
          80,
          75,
          79,
          79,
          75,
          81,
          87,
          86,
          89,
          85,
          87,
          87,
          85,
          84,
          86,
          83,
          85,
          89,
          82,
          85,
          86,
          85,
          88,
          87,
          86,
          86,
          88,
          86,
          89,
          79,
          87,
          80,
          84,
          94,
          89,
          93,
          82,
          89,
          94,
          94,
          93,
          94,
          88,
          72,
          71,
          68,
          64,
          53,
          54,
          66,
          64,
          75,
          78,
          75,
          80,
          77,
          79,
          71,
          77,
          79,
          78,
          80,
          73,
          79,
          77,
          83,
          81,
          79,
          79,
          74,
          82,
          82,
          80,
          82,
          86,
          86,
          81,
          85,
          83,
          81,
          82,
          82,
          76,
          81,
          86,
          83,
          83,
          80,
          82,
          84,
          88,
          85,
          85,
          84,
          89,
          86,
          84,
          86,
          86,
          88,
          88,
          92,
          91,
          89,
          75,
          70,
          75,
          74,
          76,
          73,
          76,
          70,
          73,
          63,
          65,
          75,
          76,
          75,
          75,
          74,
          75,
          71,
          72,
          77,
          77,
          75,
          79,
          78,
          78,
          75,
          81,
          75,
          78,
          80,
          80,
          84,
          82,
          83,
          83,
          78,
          83,
          82,
          74,
          85,
          84,
          81,
          83,
          79,
          86,
          82,
          85,
          80,
          83,
          85,
          82,
          84,
          83,
          84,
          86,
          81,
          83,
          82,
          84,
          86,
          88,
          90,
          89,
          80,
          88,
          91,
          88,
          78,
          80,
          75,
          65,
          71,
          71,
          75,
          68,
          73,
          67,
          67,
          74,
          70,
          64,
          70,
          71,
          75,
          69,
          70,
          73,
          77,
          74,
          82,
          75,
          75,
          66,
          69,
          72,
          67,
          70,
          75,
          84,
          84,
          84,
          77,
          83,
          78,
          73,
          78,
          81,
          80,
          71,
          76,
          70,
          78,
          65,
          85,
          86,
          85,
          86,
          83,
          86,
          86,
          82,
          83,
          77,
          76,
          75,
          75,
          74,
          75,
          84,
          85,
          87,
          87,
          78,
          86,
          86,
          85,
          81,
          83,
          87,
          83,
          85,
          85,
          84,
          82,
          87,
          85,
          88,
          87,
          88,
          89,
          71,
          89,
          85,
          87,
          77,
          83,
          77,
          85,
          84,
          87,
          86,
          92,
          83,
          89,
          89,
          88,
          89,
          91,
          81,
          91,
          86,
          78,
          84,
          89,
          84,
          91,
          92,
          90,
          90,
          93,
          92,
          89,
          86,
          86,
          91,
          92,
          89,
          81,
          91,
          87,
          89,
          90,
          87,
          73,
          69,
          84,
          85,
          86,
          81,
          82,
          75,
          76,
          77,
          75,
          83,
          85,
          84,
          85,
          85,
          84,
          85,
          84,
          85,
          86,
          88,
          87,
          83,
          85,
          84,
          78,
          85,
          87,
          85,
          84,
          85,
          85,
          87,
          89,
          86,
          84,
          85,
          86,
          86,
          87,
          86,
          84,
          87,
          87,
          89,
          86,
          87,
          90,
          92,
          89,
          88,
          85,
          86,
          87,
          85,
          85,
          93,
          90,
          90,
          89,
          85,
          87,
          94,
          85,
          93,
          96,
          86,
          90,
          90,
          89,
          92,
          88,
          90,
          90,
          90,
          73,
          64,
          75,
          71,
          75,
          66,
          66,
          77,
          69,
          67,
          76,
          71,
          75,
          74,
          46,
          66,
          68,
          72,
          69,
          61,
          77,
          74,
          75,
          76,
          78,
          79,
          80,
          77,
          75,
          74,
          74,
          76,
          75,
          75,
          74,
          77,
          75,
          80,
          77,
          79,
          80,
          80,
          78,
          77,
          76,
          73,
          75,
          77,
          69,
          84,
          74,
          80,
          73,
          81,
          84,
          85,
          75,
          83,
          83,
          82,
          84,
          81,
          83,
          83,
          81,
          78,
          77,
          85,
          82,
          73,
          78,
          86,
          84,
          87,
          76,
          85,
          85,
          86,
          83,
          79,
          85,
          85,
          83,
          80,
          82,
          86,
          82,
          86,
          81,
          85,
          89,
          85,
          89,
          86,
          89,
          88,
          78,
          82,
          93,
          93,
          93,
          90,
          89,
          57,
          65,
          63,
          66,
          66,
          84,
          80,
          75,
          56,
          66,
          75,
          81,
          83,
          83,
          80,
          66,
          80,
          63,
          84,
          84,
          76,
          77,
          85,
          77,
          78,
          74,
          82,
          80,
          80,
          77,
          79,
          86,
          75,
          83,
          75,
          85,
          74,
          87,
          80,
          86,
          76,
          75,
          92,
          83,
          81,
          85,
          88,
          82,
          95,
          95,
          86,
          88,
          82,
          96,
          90,
          94,
          94,
          92,
          85,
          83,
          79,
          92,
          71,
          60,
          68,
          70,
          61,
          73,
          70,
          73,
          80,
          84,
          81,
          76,
          80,
          77,
          77,
          89,
          84,
          75,
          82,
          84,
          76,
          81,
          76,
          81,
          88,
          73,
          75,
          75,
          72,
          69,
          77,
          73,
          77,
          77,
          75,
          75,
          72,
          64,
          66,
          75,
          65,
          72,
          71,
          63,
          75,
          70,
          74,
          64,
          66,
          63,
          77,
          55,
          72,
          55,
          72,
          57,
          60,
          60,
          65,
          79,
          72,
          75,
          71,
          74,
          67,
          69,
          73,
          78,
          75,
          84,
          71,
          76,
          75,
          80,
          80,
          79,
          93
         ],
         "xaxis": "x",
         "y": [
          9999,
          9990,
          11999,
          11999,
          11999,
          11990,
          11990,
          11990,
          11599,
          12298,
          14999,
          14999,
          14999,
          14999,
          14999,
          14999,
          14990,
          14990,
          14949,
          19999,
          19999,
          19990,
          19990,
          19799,
          19499,
          18999,
          18999,
          18990,
          18990,
          20999,
          29999,
          29999,
          29999,
          29999,
          29999,
          29999,
          28990,
          28990,
          30500,
          30999,
          39999,
          39990,
          39990,
          39990,
          38900,
          37999,
          37999,
          37999,
          37999,
          41289,
          41790,
          42990,
          42999,
          49999,
          49999,
          49999,
          49990,
          49000,
          47990,
          44999,
          44999,
          44990,
          51999,
          54990,
          54999,
          59999,
          59999,
          59999,
          59999,
          57990,
          64999,
          65690,
          69990,
          69999,
          69999,
          70000,
          199990,
          184999,
          179990,
          177999,
          164999,
          164999,
          159999,
          159999,
          159999,
          154999,
          139999,
          130376,
          129999,
          6990,
          6999,
          7499,
          7999,
          8033,
          8199,
          8490,
          9999,
          9999,
          9999,
          9999,
          9999,
          9990,
          9990,
          9990,
          9990,
          9499,
          10199,
          10499,
          10499,
          11999,
          11999,
          11999,
          11990,
          11990,
          11990,
          11990,
          11899,
          11580,
          11490,
          11490,
          11390,
          10999,
          12350,
          12490,
          12490,
          15050,
          14999,
          14999,
          14999,
          14999,
          14999,
          14999,
          14990,
          14990,
          14990,
          14990,
          14990,
          14990,
          19999,
          19999,
          19990,
          19990,
          19990,
          19990,
          19990,
          29999,
          29999,
          29999,
          29990,
          29990,
          29990,
          29990,
          29990,
          29799,
          30739,
          31398,
          31990,
          31990,
          39999,
          39990,
          39990,
          39990,
          39990,
          39990,
          38990,
          38799,
          37999,
          37990,
          40990,
          42990,
          42990,
          42999,
          49999,
          49990,
          49940,
          48990,
          46990,
          45990,
          45210,
          44990,
          44990,
          50999,
          51999,
          54999,
          56990,
          58990,
          62990,
          63999,
          64990,
          65490,
          69990,
          69990,
          71990,
          74899,
          76990,
          76990,
          79999,
          80990,
          139990,
          118990,
          115990,
          113990,
          110990,
          109990,
          107990,
          106990,
          99990,
          99990,
          99990,
          94999,
          89999,
          89990,
          82990,
          82990,
          6950,
          6950,
          7199,
          7450,
          7480,
          7499,
          7499,
          7790,
          7815,
          7850,
          7919,
          7920,
          7945,
          7950,
          7980,
          9999,
          9999,
          9999,
          9990,
          9990,
          9990,
          9990,
          9990,
          9990,
          9893,
          9820,
          10299,
          10390,
          10499,
          10499,
          11999,
          11999,
          11999,
          11999,
          11999,
          11999,
          11999,
          11990,
          11990,
          11910,
          11749,
          11499,
          11499,
          12251,
          12490,
          12490,
          14999,
          14999,
          14999,
          14999,
          14999,
          14990,
          14990,
          14990,
          14844,
          14499,
          13999,
          13999,
          15299,
          15329,
          15749,
          15990,
          15990,
          19999,
          19999,
          19999,
          19990,
          19990,
          19990,
          19990,
          19783,
          18999,
          18999,
          18990,
          20499,
          20500,
          20599,
          30049,
          29999,
          29999,
          29999,
          29996,
          29990,
          29990,
          29990,
          29990,
          29990,
          29990,
          28979,
          28339,
          30999,
          30999,
          31089,
          39999,
          39999,
          39999,
          39999,
          38999,
          38990,
          36999,
          36990,
          35999,
          34999,
          34999,
          34990,
          34990,
          33999,
          33999,
          33999,
          33990,
          40990,
          42990,
          44990,
          44999,
          49990,
          49990,
          49990,
          49990,
          49999,
          14990,
          13999,
          13999,
          13999,
          13999,
          15499,
          15990,
          19999,
          19999,
          19990,
          19990,
          19990,
          18999,
          18990,
          18990,
          18990,
          20699,
          20990,
          20999,
          20999,
          29999,
          29999,
          29990,
          29990,
          29990,
          29990,
          29990,
          28900,
          30200,
          30900,
          39999,
          38999,
          36990,
          35999,
          35990,
          34990,
          42990,
          42990,
          44990,
          44990,
          44990,
          44999,
          45999,
          47990,
          47999,
          49999,
          49499,
          50990,
          54990,
          69990,
          71990,
          78990,
          79990,
          79990,
          84990,
          84999,
          89990,
          89999,
          94990,
          99990,
          99990,
          134999,
          129990,
          119900,
          114990,
          10990,
          11999,
          12899,
          12990,
          13499,
          13990,
          13990,
          14990,
          15990,
          15990,
          15990,
          15999,
          17990,
          17999,
          18990,
          18990,
          19499,
          19990,
          19999,
          19990,
          19990,
          21838,
          22486,
          22990,
          22999,
          29999,
          29990,
          29990,
          29990,
          28999,
          26990,
          25999,
          25990,
          30990,
          32990,
          33990,
          34999,
          36999,
          37990,
          38990,
          39990,
          39990,
          38999,
          42990,
          43990,
          44990,
          44999,
          49990,
          52652,
          52999,
          57999,
          58990,
          58990,
          64990,
          64990,
          64990,
          72990,
          76429,
          6999,
          6999,
          7299,
          7499,
          7580,
          7890,
          7972,
          7990,
          7999,
          7999,
          7999,
          8490,
          8490,
          8499,
          8689,
          8990,
          8999,
          8999,
          8999,
          8999,
          9999,
          9999,
          9990,
          9990,
          9990,
          9990,
          9799,
          9690,
          9499,
          9249,
          10330,
          10499,
          10880,
          10999,
          11499,
          11539,
          11990,
          12194,
          12490,
          12990,
          12990,
          12999,
          13267,
          13290,
          13490,
          13999,
          13999,
          14499,
          14899,
          14950,
          14990,
          14990,
          14999,
          15590,
          15990,
          15990,
          15999,
          15999,
          15999,
          16999,
          16999,
          17945,
          17990,
          17990,
          19499,
          19490,
          20999,
          21990,
          21990,
          21999,
          21999,
          22999,
          24499,
          24990,
          25890,
          25999,
          26499,
          27990,
          27999,
          28990,
          29999,
          29999,
          29990,
          29990,
          31990,
          32990,
          33999,
          34990,
          36999,
          39999,
          40990,
          42999,
          45990,
          46990,
          14990,
          14990,
          14990,
          14990,
          13999,
          13999,
          13999,
          13990,
          13990,
          15990,
          19990,
          19990,
          19990,
          18999,
          20499,
          20999,
          29990,
          29990,
          29990,
          29990,
          27999,
          27999,
          27990,
          27199,
          30990,
          30999,
          31999,
          32990,
          32990,
          34990,
          39990,
          39990,
          38999,
          34999,
          42999,
          43990,
          44990,
          44990,
          44999,
          49990,
          49999,
          51999,
          54990,
          54990,
          55990,
          56999,
          66499,
          67990,
          77990,
          79990,
          79999,
          79999,
          89990,
          89999,
          94990,
          94990,
          99990,
          102999,
          187990,
          139999,
          124999,
          114990,
          104999,
          103999,
          23999,
          24990,
          25999,
          27990,
          27999,
          31999,
          33999,
          36999,
          37999,
          40299,
          40999,
          45990,
          49990,
          89999,
          13999,
          19999,
          32999,
          37999,
          43999,
          46999,
          49990,
          52999,
          59990,
          59999,
          62999,
          69999,
          69999,
          74990,
          89999,
          94990,
          99990,
          101999,
          108999,
          109990,
          125990,
          146990,
          159990,
          6990,
          6999,
          7190,
          7299,
          7299,
          7309,
          7394,
          8990,
          9999,
          49990,
          52999,
          59999,
          63990,
          64999,
          70990,
          71990,
          71999,
          72999,
          74990,
          74999,
          109900,
          107990,
          94999,
          94990,
          89999,
          89990,
          82999,
          81990,
          79999,
          79990,
          9499,
          27999,
          49999,
          54999,
          79990,
          82990,
          7124,
          7290,
          7499,
          7499,
          9990,
          9499,
          11490,
          13990,
          34990,
          46990,
          49990,
          54990,
          59999,
          64999,
          7499,
          7990,
          7990,
          11990,
          13990,
          7999,
          8199,
          9499,
          7999,
          9099,
          7599,
          9490,
          7899,
          7499,
          7999,
          8499,
          8999,
          9499,
          8999,
          7990,
          8899,
          8990,
          8690,
          11110,
          11450,
          11000,
          10631,
          10999,
          10390,
          10499,
          10299,
          10900,
          10990,
          10999,
          10490,
          12999,
          12999,
          13999,
          12332,
          13429,
          13599,
          12490,
          14199,
          12990,
          12990,
          15999,
          17990,
          15999,
          15982,
          16990,
          17900,
          17499,
          16990,
          16990,
          17999,
          16990,
          15999,
          17999,
          15999,
          17999,
          26990,
          24999,
          22863,
          27899,
          24990,
          26690,
          25171,
          21499,
          24499,
          21390,
          24999,
          26899,
          22492,
          23999,
          26499,
          36880,
          36999,
          33779,
          36999,
          32883,
          33499,
          29999,
          35499,
          34990,
          41740,
          43990,
          124990,
          89748,
          79999,
          99999,
          74990,
          99999,
          104999,
          81999,
          105999,
          103000,
          74999,
          8999,
          8990,
          8999,
          8980,
          8999,
          8489,
          8660,
          9999,
          13499,
          12999,
          13999,
          12749,
          12990,
          13950,
          12990,
          14499,
          12990,
          14499,
          16499,
          15990,
          15999,
          15499,
          16299,
          15990,
          16999,
          17999,
          17990,
          17999,
          17995,
          15190,
          18990,
          27999,
          24990,
          23999,
          23499,
          21999,
          21999,
          24999,
          21499,
          20999,
          20999,
          25299,
          21490,
          24999,
          24990,
          20198,
          30799,
          35990,
          32999,
          35999,
          36199,
          39990,
          33499,
          37999,
          36999,
          31899,
          36990,
          45215,
          69999,
          68899,
          63490,
          8349,
          7820,
          8890,
          9478,
          9764,
          8999,
          9489,
          8744,
          9800,
          8990,
          7290,
          11049,
          10190,
          10466,
          10990,
          10499,
          10750,
          10899,
          10999,
          12877,
          13374,
          12499,
          12900,
          12999,
          13489,
          12999,
          12990,
          12990,
          13999,
          15999,
          15323,
          18708,
          16485,
          18398,
          18577,
          16499,
          16400,
          16949,
          16990,
          17990,
          17949,
          16998,
          17789,
          16500,
          24999,
          21828,
          27875,
          21477,
          23880,
          23999,
          23900,
          20615,
          23999,
          23649,
          29004,
          22799,
          26999,
          24150,
          29999,
          30990,
          33900,
          54990,
          54999,
          52990,
          94990,
          104990,
          89990,
          8999,
          9999,
          7999,
          6999,
          6999,
          7999,
          8499,
          8499,
          7998,
          6999,
          6999,
          8999,
          8999,
          8990,
          6999,
          6999,
          7999,
          7090,
          8990,
          9990,
          11999,
          10999,
          11999,
          9999,
          10999,
          11999,
          10990,
          9990,
          9999,
          11999,
          10990,
          14999,
          14999,
          14989,
          12490,
          14990,
          14990,
          12990,
          13990,
          12990,
          13990,
          12990,
          14999,
          12999,
          12999,
          12990,
          16999,
          18928,
          16999,
          17990,
          19999,
          19990,
          19990,
          16999,
          15990,
          19999,
          15990,
          16990,
          16990,
          19999,
          19990,
          20999,
          22999,
          26999,
          20990,
          29999,
          24999,
          29999,
          21999,
          28990,
          24999,
          22999,
          20990,
          23990,
          25999,
          29990,
          20999,
          31999,
          34990,
          35999,
          33499,
          30990,
          39990,
          34990,
          39999,
          31990,
          37999,
          39990,
          32990,
          39990,
          35999,
          34990,
          39990,
          37990,
          49990,
          49990,
          44999,
          49999,
          42990,
          49990,
          41990,
          45990,
          46999,
          39999,
          55990,
          59990,
          59990,
          54990,
          54990,
          59990,
          54990,
          59990,
          88990,
          69999,
          69999,
          69990,
          159990,
          89990,
          79990,
          79990,
          74999,
          89990,
          89990,
          129990,
          62990,
          94990,
          149999,
          14999,
          20000,
          16899,
          18879,
          16134,
          18999,
          16990,
          18999,
          19999,
          18990,
          24454,
          29999,
          20065,
          22592,
          20990,
          26674,
          22999,
          23999,
          22499,
          29990,
          29990,
          29990,
          22990,
          29990,
          20999,
          22990,
          24990,
          24990,
          24999,
          29990,
          32999,
          35990,
          35609,
          39888,
          30999,
          30999,
          33990,
          34999,
          34999,
          32990,
          34990,
          29990,
          34999,
          42437,
          43889,
          40108,
          45990,
          47998,
          49990,
          46990,
          41990,
          49990,
          47990,
          43299,
          44990,
          42999,
          58699,
          50999,
          58990,
          59990,
          55999,
          54999,
          63359,
          64990,
          69999,
          129990,
          70990,
          69999,
          59990,
          79990,
          74999,
          62999,
          64990,
          64990,
          69999,
          7699,
          6999,
          8499,
          9999,
          9190,
          7900,
          7689,
          9999,
          8999,
          7890,
          9998,
          8990,
          9990,
          8499,
          9990,
          7990,
          9999,
          8980,
          7990,
          7699,
          11159,
          10499,
          11350,
          11999,
          10269,
          11489,
          11425,
          9998,
          11990,
          10490,
          11499,
          10999,
          11999,
          10490,
          10990,
          10949,
          14999,
          13999,
          12120,
          13999,
          12239,
          12428,
          13490,
          12499,
          13999,
          12990,
          13990,
          12990,
          13990,
          13999,
          12990,
          13999,
          14999,
          15898,
          18377,
          20075,
          17990,
          17975,
          19999,
          15990,
          14999,
          16890,
          15990,
          18390,
          17990,
          15499,
          15999,
          18499,
          19990,
          14990,
          14999,
          23990,
          22297,
          28517,
          24990,
          24329,
          20048,
          26479,
          27990,
          24890,
          23999,
          29990,
          23990,
          22499,
          27999,
          27999,
          23999,
          24449,
          24999,
          23990,
          34990,
          36898,
          44949,
          49990,
          54990,
          54999,
          52990,
          59990,
          74999,
          69899,
          89990,
          99990,
          89990,
          11990,
          14990,
          14990,
          12999,
          14990,
          19990,
          16990,
          18499,
          15990,
          17999,
          19990,
          24990,
          26990,
          24990,
          23990,
          24999,
          23999,
          21990,
          23999,
          29990,
          21990,
          29990,
          22990,
          20990,
          20990,
          29990,
          29990,
          22990,
          22999,
          32990,
          34990,
          49990,
          46990,
          46999,
          40990,
          42990,
          45999,
          59999,
          53990,
          59990,
          56990,
          52990,
          115990,
          74990,
          83999,
          93990,
          84990,
          63990,
          214990,
          79990,
          99990,
          129990,
          69990,
          134990,
          69990,
          121999,
          191999,
          82990,
          69990,
          92990,
          79990,
          110990,
          9990,
          8990,
          9999,
          11999,
          10990,
          11990,
          11999,
          12990,
          16999,
          17990,
          18990,
          16999,
          17990,
          17990,
          18990,
          25499,
          21999,
          24990,
          24990,
          23999,
          21990,
          24990,
          23990,
          24990,
          39999,
          7319,
          10999,
          10749,
          10489,
          10999,
          14499,
          8799,
          9799,
          9990,
          7999,
          9099,
          9999,
          6999,
          7299,
          8346,
          6999,
          8990,
          8499,
          6999,
          9999,
          7949,
          8499,
          7990,
          6999,
          9999,
          23990,
          7990,
          9990,
          7999,
          9990,
          8999,
          8990,
          7990,
          10999,
          13999,
          13990,
          13999,
          12990,
          13990,
          14990,
          13990,
          14499,
          19990,
          15990,
          17999,
          15990,
          19990,
          18999,
          24990,
          23990,
          22499,
          119990
         ],
         "yaxis": "y"
        }
       ],
       "layout": {
        "legend": {
         "tracegroupgap": 0
        },
        "template": {
         "data": {
          "bar": [
           {
            "error_x": {
             "color": "#2a3f5f"
            },
            "error_y": {
             "color": "#2a3f5f"
            },
            "marker": {
             "line": {
              "color": "#E5ECF6",
              "width": 0.5
             },
             "pattern": {
              "fillmode": "overlay",
              "size": 10,
              "solidity": 0.2
             }
            },
            "type": "bar"
           }
          ],
          "barpolar": [
           {
            "marker": {
             "line": {
              "color": "#E5ECF6",
              "width": 0.5
             },
             "pattern": {
              "fillmode": "overlay",
              "size": 10,
              "solidity": 0.2
             }
            },
            "type": "barpolar"
           }
          ],
          "carpet": [
           {
            "aaxis": {
             "endlinecolor": "#2a3f5f",
             "gridcolor": "white",
             "linecolor": "white",
             "minorgridcolor": "white",
             "startlinecolor": "#2a3f5f"
            },
            "baxis": {
             "endlinecolor": "#2a3f5f",
             "gridcolor": "white",
             "linecolor": "white",
             "minorgridcolor": "white",
             "startlinecolor": "#2a3f5f"
            },
            "type": "carpet"
           }
          ],
          "choropleth": [
           {
            "colorbar": {
             "outlinewidth": 0,
             "ticks": ""
            },
            "type": "choropleth"
           }
          ],
          "contour": [
           {
            "colorbar": {
             "outlinewidth": 0,
             "ticks": ""
            },
            "colorscale": [
             [
              0,
              "#0d0887"
             ],
             [
              0.1111111111111111,
              "#46039f"
             ],
             [
              0.2222222222222222,
              "#7201a8"
             ],
             [
              0.3333333333333333,
              "#9c179e"
             ],
             [
              0.4444444444444444,
              "#bd3786"
             ],
             [
              0.5555555555555556,
              "#d8576b"
             ],
             [
              0.6666666666666666,
              "#ed7953"
             ],
             [
              0.7777777777777778,
              "#fb9f3a"
             ],
             [
              0.8888888888888888,
              "#fdca26"
             ],
             [
              1,
              "#f0f921"
             ]
            ],
            "type": "contour"
           }
          ],
          "contourcarpet": [
           {
            "colorbar": {
             "outlinewidth": 0,
             "ticks": ""
            },
            "type": "contourcarpet"
           }
          ],
          "heatmap": [
           {
            "colorbar": {
             "outlinewidth": 0,
             "ticks": ""
            },
            "colorscale": [
             [
              0,
              "#0d0887"
             ],
             [
              0.1111111111111111,
              "#46039f"
             ],
             [
              0.2222222222222222,
              "#7201a8"
             ],
             [
              0.3333333333333333,
              "#9c179e"
             ],
             [
              0.4444444444444444,
              "#bd3786"
             ],
             [
              0.5555555555555556,
              "#d8576b"
             ],
             [
              0.6666666666666666,
              "#ed7953"
             ],
             [
              0.7777777777777778,
              "#fb9f3a"
             ],
             [
              0.8888888888888888,
              "#fdca26"
             ],
             [
              1,
              "#f0f921"
             ]
            ],
            "type": "heatmap"
           }
          ],
          "heatmapgl": [
           {
            "colorbar": {
             "outlinewidth": 0,
             "ticks": ""
            },
            "colorscale": [
             [
              0,
              "#0d0887"
             ],
             [
              0.1111111111111111,
              "#46039f"
             ],
             [
              0.2222222222222222,
              "#7201a8"
             ],
             [
              0.3333333333333333,
              "#9c179e"
             ],
             [
              0.4444444444444444,
              "#bd3786"
             ],
             [
              0.5555555555555556,
              "#d8576b"
             ],
             [
              0.6666666666666666,
              "#ed7953"
             ],
             [
              0.7777777777777778,
              "#fb9f3a"
             ],
             [
              0.8888888888888888,
              "#fdca26"
             ],
             [
              1,
              "#f0f921"
             ]
            ],
            "type": "heatmapgl"
           }
          ],
          "histogram": [
           {
            "marker": {
             "pattern": {
              "fillmode": "overlay",
              "size": 10,
              "solidity": 0.2
             }
            },
            "type": "histogram"
           }
          ],
          "histogram2d": [
           {
            "colorbar": {
             "outlinewidth": 0,
             "ticks": ""
            },
            "colorscale": [
             [
              0,
              "#0d0887"
             ],
             [
              0.1111111111111111,
              "#46039f"
             ],
             [
              0.2222222222222222,
              "#7201a8"
             ],
             [
              0.3333333333333333,
              "#9c179e"
             ],
             [
              0.4444444444444444,
              "#bd3786"
             ],
             [
              0.5555555555555556,
              "#d8576b"
             ],
             [
              0.6666666666666666,
              "#ed7953"
             ],
             [
              0.7777777777777778,
              "#fb9f3a"
             ],
             [
              0.8888888888888888,
              "#fdca26"
             ],
             [
              1,
              "#f0f921"
             ]
            ],
            "type": "histogram2d"
           }
          ],
          "histogram2dcontour": [
           {
            "colorbar": {
             "outlinewidth": 0,
             "ticks": ""
            },
            "colorscale": [
             [
              0,
              "#0d0887"
             ],
             [
              0.1111111111111111,
              "#46039f"
             ],
             [
              0.2222222222222222,
              "#7201a8"
             ],
             [
              0.3333333333333333,
              "#9c179e"
             ],
             [
              0.4444444444444444,
              "#bd3786"
             ],
             [
              0.5555555555555556,
              "#d8576b"
             ],
             [
              0.6666666666666666,
              "#ed7953"
             ],
             [
              0.7777777777777778,
              "#fb9f3a"
             ],
             [
              0.8888888888888888,
              "#fdca26"
             ],
             [
              1,
              "#f0f921"
             ]
            ],
            "type": "histogram2dcontour"
           }
          ],
          "mesh3d": [
           {
            "colorbar": {
             "outlinewidth": 0,
             "ticks": ""
            },
            "type": "mesh3d"
           }
          ],
          "parcoords": [
           {
            "line": {
             "colorbar": {
              "outlinewidth": 0,
              "ticks": ""
             }
            },
            "type": "parcoords"
           }
          ],
          "pie": [
           {
            "automargin": true,
            "type": "pie"
           }
          ],
          "scatter": [
           {
            "fillpattern": {
             "fillmode": "overlay",
             "size": 10,
             "solidity": 0.2
            },
            "type": "scatter"
           }
          ],
          "scatter3d": [
           {
            "line": {
             "colorbar": {
              "outlinewidth": 0,
              "ticks": ""
             }
            },
            "marker": {
             "colorbar": {
              "outlinewidth": 0,
              "ticks": ""
             }
            },
            "type": "scatter3d"
           }
          ],
          "scattercarpet": [
           {
            "marker": {
             "colorbar": {
              "outlinewidth": 0,
              "ticks": ""
             }
            },
            "type": "scattercarpet"
           }
          ],
          "scattergeo": [
           {
            "marker": {
             "colorbar": {
              "outlinewidth": 0,
              "ticks": ""
             }
            },
            "type": "scattergeo"
           }
          ],
          "scattergl": [
           {
            "marker": {
             "colorbar": {
              "outlinewidth": 0,
              "ticks": ""
             }
            },
            "type": "scattergl"
           }
          ],
          "scattermapbox": [
           {
            "marker": {
             "colorbar": {
              "outlinewidth": 0,
              "ticks": ""
             }
            },
            "type": "scattermapbox"
           }
          ],
          "scatterpolar": [
           {
            "marker": {
             "colorbar": {
              "outlinewidth": 0,
              "ticks": ""
             }
            },
            "type": "scatterpolar"
           }
          ],
          "scatterpolargl": [
           {
            "marker": {
             "colorbar": {
              "outlinewidth": 0,
              "ticks": ""
             }
            },
            "type": "scatterpolargl"
           }
          ],
          "scatterternary": [
           {
            "marker": {
             "colorbar": {
              "outlinewidth": 0,
              "ticks": ""
             }
            },
            "type": "scatterternary"
           }
          ],
          "surface": [
           {
            "colorbar": {
             "outlinewidth": 0,
             "ticks": ""
            },
            "colorscale": [
             [
              0,
              "#0d0887"
             ],
             [
              0.1111111111111111,
              "#46039f"
             ],
             [
              0.2222222222222222,
              "#7201a8"
             ],
             [
              0.3333333333333333,
              "#9c179e"
             ],
             [
              0.4444444444444444,
              "#bd3786"
             ],
             [
              0.5555555555555556,
              "#d8576b"
             ],
             [
              0.6666666666666666,
              "#ed7953"
             ],
             [
              0.7777777777777778,
              "#fb9f3a"
             ],
             [
              0.8888888888888888,
              "#fdca26"
             ],
             [
              1,
              "#f0f921"
             ]
            ],
            "type": "surface"
           }
          ],
          "table": [
           {
            "cells": {
             "fill": {
              "color": "#EBF0F8"
             },
             "line": {
              "color": "white"
             }
            },
            "header": {
             "fill": {
              "color": "#C8D4E3"
             },
             "line": {
              "color": "white"
             }
            },
            "type": "table"
           }
          ]
         },
         "layout": {
          "annotationdefaults": {
           "arrowcolor": "#2a3f5f",
           "arrowhead": 0,
           "arrowwidth": 1
          },
          "autotypenumbers": "strict",
          "coloraxis": {
           "colorbar": {
            "outlinewidth": 0,
            "ticks": ""
           }
          },
          "colorscale": {
           "diverging": [
            [
             0,
             "#8e0152"
            ],
            [
             0.1,
             "#c51b7d"
            ],
            [
             0.2,
             "#de77ae"
            ],
            [
             0.3,
             "#f1b6da"
            ],
            [
             0.4,
             "#fde0ef"
            ],
            [
             0.5,
             "#f7f7f7"
            ],
            [
             0.6,
             "#e6f5d0"
            ],
            [
             0.7,
             "#b8e186"
            ],
            [
             0.8,
             "#7fbc41"
            ],
            [
             0.9,
             "#4d9221"
            ],
            [
             1,
             "#276419"
            ]
           ],
           "sequential": [
            [
             0,
             "#0d0887"
            ],
            [
             0.1111111111111111,
             "#46039f"
            ],
            [
             0.2222222222222222,
             "#7201a8"
            ],
            [
             0.3333333333333333,
             "#9c179e"
            ],
            [
             0.4444444444444444,
             "#bd3786"
            ],
            [
             0.5555555555555556,
             "#d8576b"
            ],
            [
             0.6666666666666666,
             "#ed7953"
            ],
            [
             0.7777777777777778,
             "#fb9f3a"
            ],
            [
             0.8888888888888888,
             "#fdca26"
            ],
            [
             1,
             "#f0f921"
            ]
           ],
           "sequentialminus": [
            [
             0,
             "#0d0887"
            ],
            [
             0.1111111111111111,
             "#46039f"
            ],
            [
             0.2222222222222222,
             "#7201a8"
            ],
            [
             0.3333333333333333,
             "#9c179e"
            ],
            [
             0.4444444444444444,
             "#bd3786"
            ],
            [
             0.5555555555555556,
             "#d8576b"
            ],
            [
             0.6666666666666666,
             "#ed7953"
            ],
            [
             0.7777777777777778,
             "#fb9f3a"
            ],
            [
             0.8888888888888888,
             "#fdca26"
            ],
            [
             1,
             "#f0f921"
            ]
           ]
          },
          "colorway": [
           "#636efa",
           "#EF553B",
           "#00cc96",
           "#ab63fa",
           "#FFA15A",
           "#19d3f3",
           "#FF6692",
           "#B6E880",
           "#FF97FF",
           "#FECB52"
          ],
          "font": {
           "color": "#2a3f5f"
          },
          "geo": {
           "bgcolor": "white",
           "lakecolor": "white",
           "landcolor": "#E5ECF6",
           "showlakes": true,
           "showland": true,
           "subunitcolor": "white"
          },
          "hoverlabel": {
           "align": "left"
          },
          "hovermode": "closest",
          "mapbox": {
           "style": "light"
          },
          "paper_bgcolor": "white",
          "plot_bgcolor": "#E5ECF6",
          "polar": {
           "angularaxis": {
            "gridcolor": "white",
            "linecolor": "white",
            "ticks": ""
           },
           "bgcolor": "#E5ECF6",
           "radialaxis": {
            "gridcolor": "white",
            "linecolor": "white",
            "ticks": ""
           }
          },
          "scene": {
           "xaxis": {
            "backgroundcolor": "#E5ECF6",
            "gridcolor": "white",
            "gridwidth": 2,
            "linecolor": "white",
            "showbackground": true,
            "ticks": "",
            "zerolinecolor": "white"
           },
           "yaxis": {
            "backgroundcolor": "#E5ECF6",
            "gridcolor": "white",
            "gridwidth": 2,
            "linecolor": "white",
            "showbackground": true,
            "ticks": "",
            "zerolinecolor": "white"
           },
           "zaxis": {
            "backgroundcolor": "#E5ECF6",
            "gridcolor": "white",
            "gridwidth": 2,
            "linecolor": "white",
            "showbackground": true,
            "ticks": "",
            "zerolinecolor": "white"
           }
          },
          "shapedefaults": {
           "line": {
            "color": "#2a3f5f"
           }
          },
          "ternary": {
           "aaxis": {
            "gridcolor": "white",
            "linecolor": "white",
            "ticks": ""
           },
           "baxis": {
            "gridcolor": "white",
            "linecolor": "white",
            "ticks": ""
           },
           "bgcolor": "#E5ECF6",
           "caxis": {
            "gridcolor": "white",
            "linecolor": "white",
            "ticks": ""
           }
          },
          "title": {
           "x": 0.05
          },
          "xaxis": {
           "automargin": true,
           "gridcolor": "white",
           "linecolor": "white",
           "ticks": "",
           "title": {
            "standoff": 15
           },
           "zerolinecolor": "white",
           "zerolinewidth": 2
          },
          "yaxis": {
           "automargin": true,
           "gridcolor": "white",
           "linecolor": "white",
           "ticks": "",
           "title": {
            "standoff": 15
           },
           "zerolinecolor": "white",
           "zerolinewidth": 2
          }
         }
        },
        "title": {
         "text": "Spec Score vs Price"
        },
        "xaxis": {
         "anchor": "y",
         "domain": [
          0,
          1
         ],
         "title": {
          "text": "Spec Score"
         }
        },
        "yaxis": {
         "anchor": "x",
         "domain": [
          0,
          1
         ],
         "title": {
          "text": "Price"
         }
        }
       }
      }
     },
     "metadata": {},
     "output_type": "display_data"
    }
   ],
   "source": [
    "specs_imp_df = file[['Name', 'Spec_score', 'Price']].copy()\n",
    "\n",
    "px.scatter(x=specs_imp_df['Spec_score'], y=specs_imp_df['Price'], title='Spec Score vs Price', labels={'x': 'Spec Score', 'y': 'Price'})"
   ]
  },
  {
   "cell_type": "markdown",
   "metadata": {},
   "source": [
    "#### Spec Score will be used as a feature"
   ]
  },
  {
   "cell_type": "markdown",
   "metadata": {},
   "source": [
    "---------------------------------------------"
   ]
  },
  {
   "cell_type": "markdown",
   "metadata": {},
   "source": [
    "## AVG Score vs AVG Price vs Distinct Products"
   ]
  },
  {
   "cell_type": "code",
   "execution_count": 94,
   "metadata": {},
   "outputs": [],
   "source": [
    "price_spec_df = file[['company', 'Name', 'Spec_score', 'Price']].copy()"
   ]
  },
  {
   "cell_type": "code",
   "execution_count": 95,
   "metadata": {},
   "outputs": [],
   "source": [
    "price_spec_pivot = price_spec_df.pivot_table(index='company', values=['Name', 'Spec_score', 'Price'] \\\n",
    "                                                , aggfunc={'Name': 'nunique', 'Spec_score': 'mean', 'Price': 'mean'}).reset_index()\n",
    "\n",
    "price_spec_pivot = price_spec_pivot.rename(columns = {'company': 'Company', 'Name': 'Distinct products', 'Spec_score': 'AVG Spec Score', 'Price': 'AVG Price'})"
   ]
  },
  {
   "cell_type": "code",
   "execution_count": 96,
   "metadata": {},
   "outputs": [
    {
     "data": {
      "application/vnd.plotly.v1+json": {
       "config": {
        "plotlyServerURL": "https://plot.ly"
       },
       "data": [
        {
         "hovertemplate": "Company=ASUS<br>AVG Spec Score=%{x}<br>AVG Price=%{y}<br>Distinct products=%{marker.size}<extra></extra>",
         "legendgroup": "ASUS",
         "marker": {
          "color": "#636efa",
          "size": [
           21
          ],
          "sizemode": "area",
          "sizeref": 0.44,
          "symbol": "circle"
         },
         "mode": "markers",
         "name": "ASUS",
         "orientation": "v",
         "showlegend": true,
         "type": "scatter",
         "x": [
          88.47619047619048
         ],
         "xaxis": "x",
         "y": [
          78228.09523809524
         ],
         "yaxis": "y"
        },
        {
         "hovertemplate": "Company=COOLPAD<br>AVG Spec Score=%{x}<br>AVG Price=%{y}<br>Distinct products=%{marker.size}<extra></extra>",
         "legendgroup": "COOLPAD",
         "marker": {
          "color": "#EF553B",
          "size": [
           1
          ],
          "sizemode": "area",
          "sizeref": 0.44,
          "symbol": "circle"
         },
         "mode": "markers",
         "name": "COOLPAD",
         "orientation": "v",
         "showlegend": true,
         "type": "scatter",
         "x": [
          77
         ],
         "xaxis": "x",
         "y": [
          23990
         ],
         "yaxis": "y"
        },
        {
         "hovertemplate": "Company=GIONEE<br>AVG Spec Score=%{x}<br>AVG Price=%{y}<br>Distinct products=%{marker.size}<extra></extra>",
         "legendgroup": "GIONEE",
         "marker": {
          "color": "#00cc96",
          "size": [
           5
          ],
          "sizemode": "area",
          "sizeref": 0.44,
          "symbol": "circle"
         },
         "mode": "markers",
         "name": "GIONEE",
         "orientation": "v",
         "showlegend": true,
         "type": "scatter",
         "x": [
          63.6
         ],
         "xaxis": "x",
         "y": [
          9891.8
         ],
         "yaxis": "y"
        },
        {
         "hovertemplate": "Company=GOOGLE<br>AVG Spec Score=%{x}<br>AVG Price=%{y}<br>Distinct products=%{marker.size}<extra></extra>",
         "legendgroup": "GOOGLE",
         "marker": {
          "color": "#ab63fa",
          "size": [
           23
          ],
          "sizemode": "area",
          "sizeref": 0.44,
          "symbol": "circle"
         },
         "mode": "markers",
         "name": "GOOGLE",
         "orientation": "v",
         "showlegend": true,
         "type": "scatter",
         "x": [
          81.34782608695652
         ],
         "xaxis": "x",
         "y": [
          75473.73913043478
         ],
         "yaxis": "y"
        },
        {
         "hovertemplate": "Company=HONOR<br>AVG Spec Score=%{x}<br>AVG Price=%{y}<br>Distinct products=%{marker.size}<extra></extra>",
         "legendgroup": "HONOR",
         "marker": {
          "color": "#FFA15A",
          "size": [
           88
          ],
          "sizemode": "area",
          "sizeref": 0.44,
          "symbol": "circle"
         },
         "mode": "markers",
         "name": "HONOR",
         "orientation": "v",
         "showlegend": true,
         "type": "scatter",
         "x": [
          82.7840909090909
         ],
         "xaxis": "x",
         "y": [
          41796.98863636364
         ],
         "yaxis": "y"
        },
        {
         "hovertemplate": "Company=HUAWEI<br>AVG Spec Score=%{x}<br>AVG Price=%{y}<br>Distinct products=%{marker.size}<extra></extra>",
         "legendgroup": "HUAWEI",
         "marker": {
          "color": "#19d3f3",
          "size": [
           62
          ],
          "sizemode": "area",
          "sizeref": 0.44,
          "symbol": "circle"
         },
         "mode": "markers",
         "name": "HUAWEI",
         "orientation": "v",
         "showlegend": true,
         "type": "scatter",
         "x": [
          80.09677419354838
         ],
         "xaxis": "x",
         "y": [
          53596.72580645161
         ],
         "yaxis": "y"
        },
        {
         "hovertemplate": "Company=IQOO<br>AVG Spec Score=%{x}<br>AVG Price=%{y}<br>Distinct products=%{marker.size}<extra></extra>",
         "legendgroup": "IQOO",
         "marker": {
          "color": "#FF6692",
          "size": [
           58
          ],
          "sizemode": "area",
          "sizeref": 0.44,
          "symbol": "circle"
         },
         "mode": "markers",
         "name": "IQOO",
         "orientation": "v",
         "showlegend": true,
         "type": "scatter",
         "x": [
          82.17241379310344
         ],
         "xaxis": "x",
         "y": [
          32412.379310344826
         ],
         "yaxis": "y"
        },
        {
         "hovertemplate": "Company=ITEL<br>AVG Spec Score=%{x}<br>AVG Price=%{y}<br>Distinct products=%{marker.size}<extra></extra>",
         "legendgroup": "ITEL",
         "marker": {
          "color": "#B6E880",
          "size": [
           14
          ],
          "sizemode": "area",
          "sizeref": 0.44,
          "symbol": "circle"
         },
         "mode": "markers",
         "name": "ITEL",
         "orientation": "v",
         "showlegend": true,
         "type": "scatter",
         "x": [
          69.06666666666666
         ],
         "xaxis": "x",
         "y": [
          8968.2
         ],
         "yaxis": "y"
        },
        {
         "hovertemplate": "Company=LAVA<br>AVG Spec Score=%{x}<br>AVG Price=%{y}<br>Distinct products=%{marker.size}<extra></extra>",
         "legendgroup": "LAVA",
         "marker": {
          "color": "#FF97FF",
          "size": [
           19
          ],
          "sizemode": "area",
          "sizeref": 0.44,
          "symbol": "circle"
         },
         "mode": "markers",
         "name": "LAVA",
         "orientation": "v",
         "showlegend": true,
         "type": "scatter",
         "x": [
          70.36842105263158
         ],
         "xaxis": "x",
         "y": [
          8486.894736842105
         ],
         "yaxis": "y"
        },
        {
         "hovertemplate": "Company=LENOVO<br>AVG Spec Score=%{x}<br>AVG Price=%{y}<br>Distinct products=%{marker.size}<extra></extra>",
         "legendgroup": "LENOVO",
         "marker": {
          "color": "#FECB52",
          "size": [
           14
          ],
          "sizemode": "area",
          "sizeref": 0.44,
          "symbol": "circle"
         },
         "mode": "markers",
         "name": "LENOVO",
         "orientation": "v",
         "showlegend": true,
         "type": "scatter",
         "x": [
          75.64285714285714
         ],
         "xaxis": "x",
         "y": [
          27595.64285714286
         ],
         "yaxis": "y"
        },
        {
         "hovertemplate": "Company=LG<br>AVG Spec Score=%{x}<br>AVG Price=%{y}<br>Distinct products=%{marker.size}<extra></extra>",
         "legendgroup": "LG",
         "marker": {
          "color": "#636efa",
          "size": [
           6
          ],
          "sizemode": "area",
          "sizeref": 0.44,
          "symbol": "circle"
         },
         "mode": "markers",
         "name": "LG",
         "orientation": "v",
         "showlegend": true,
         "type": "scatter",
         "x": [
          81.5
         ],
         "xaxis": "x",
         "y": [
          50912.666666666664
         ],
         "yaxis": "y"
        },
        {
         "hovertemplate": "Company=MOTOROLA<br>AVG Spec Score=%{x}<br>AVG Price=%{y}<br>Distinct products=%{marker.size}<extra></extra>",
         "legendgroup": "MOTOROLA",
         "marker": {
          "color": "#EF553B",
          "size": [
           127
          ],
          "sizemode": "area",
          "sizeref": 0.44,
          "symbol": "circle"
         },
         "mode": "markers",
         "name": "MOTOROLA",
         "orientation": "v",
         "showlegend": true,
         "type": "scatter",
         "x": [
          80.94488188976378
         ],
         "xaxis": "x",
         "y": [
          32325.24409448819
         ],
         "yaxis": "y"
        },
        {
         "hovertemplate": "Company=NOTHING<br>AVG Spec Score=%{x}<br>AVG Price=%{y}<br>Distinct products=%{marker.size}<extra></extra>",
         "legendgroup": "NOTHING",
         "marker": {
          "color": "#00cc96",
          "size": [
           14
          ],
          "sizemode": "area",
          "sizeref": 0.44,
          "symbol": "circle"
         },
         "mode": "markers",
         "name": "NOTHING",
         "orientation": "v",
         "showlegend": true,
         "type": "scatter",
         "x": [
          86
         ],
         "xaxis": "x",
         "y": [
          38616.6
         ],
         "yaxis": "y"
        },
        {
         "hovertemplate": "Company=ONEPLUS<br>AVG Spec Score=%{x}<br>AVG Price=%{y}<br>Distinct products=%{marker.size}<extra></extra>",
         "legendgroup": "ONEPLUS",
         "marker": {
          "color": "#ab63fa",
          "size": [
           73
          ],
          "sizemode": "area",
          "sizeref": 0.44,
          "symbol": "circle"
         },
         "mode": "markers",
         "name": "ONEPLUS",
         "orientation": "v",
         "showlegend": true,
         "type": "scatter",
         "x": [
          85.89333333333333
         ],
         "xaxis": "x",
         "y": [
          40081.706666666665
         ],
         "yaxis": "y"
        },
        {
         "hovertemplate": "Company=OPPO<br>AVG Spec Score=%{x}<br>AVG Price=%{y}<br>Distinct products=%{marker.size}<extra></extra>",
         "legendgroup": "OPPO",
         "marker": {
          "color": "#FFA15A",
          "size": [
           65
          ],
          "sizemode": "area",
          "sizeref": 0.44,
          "symbol": "circle"
         },
         "mode": "markers",
         "name": "OPPO",
         "orientation": "v",
         "showlegend": true,
         "type": "scatter",
         "x": [
          84.81538461538462
         ],
         "xaxis": "x",
         "y": [
          46526.24615384615
         ],
         "yaxis": "y"
        },
        {
         "hovertemplate": "Company=POCO<br>AVG Spec Score=%{x}<br>AVG Price=%{y}<br>Distinct products=%{marker.size}<extra></extra>",
         "legendgroup": "POCO",
         "marker": {
          "color": "#19d3f3",
          "size": [
           94
          ],
          "sizemode": "area",
          "sizeref": 0.44,
          "symbol": "circle"
         },
         "mode": "markers",
         "name": "POCO",
         "orientation": "v",
         "showlegend": true,
         "type": "scatter",
         "x": [
          77.87234042553192
         ],
         "xaxis": "x",
         "y": [
          17399.68085106383
         ],
         "yaxis": "y"
        },
        {
         "hovertemplate": "Company=REALME<br>AVG Spec Score=%{x}<br>AVG Price=%{y}<br>Distinct products=%{marker.size}<extra></extra>",
         "legendgroup": "REALME",
         "marker": {
          "color": "#FF6692",
          "size": [
           173
          ],
          "sizemode": "area",
          "sizeref": 0.44,
          "symbol": "circle"
         },
         "mode": "markers",
         "name": "REALME",
         "orientation": "v",
         "showlegend": true,
         "type": "scatter",
         "x": [
          78.32795698924731
         ],
         "xaxis": "x",
         "y": [
          21391.247311827956
         ],
         "yaxis": "y"
        },
        {
         "hovertemplate": "Company=SAMSUNG<br>AVG Spec Score=%{x}<br>AVG Price=%{y}<br>Distinct products=%{marker.size}<extra></extra>",
         "legendgroup": "SAMSUNG",
         "marker": {
          "color": "#B6E880",
          "size": [
           176
          ],
          "sizemode": "area",
          "sizeref": 0.44,
          "symbol": "circle"
         },
         "mode": "markers",
         "name": "SAMSUNG",
         "orientation": "v",
         "showlegend": true,
         "type": "scatter",
         "x": [
          80.9060773480663
         ],
         "xaxis": "x",
         "y": [
          39658.59668508287
         ],
         "yaxis": "y"
        },
        {
         "hovertemplate": "Company=TCL<br>AVG Spec Score=%{x}<br>AVG Price=%{y}<br>Distinct products=%{marker.size}<extra></extra>",
         "legendgroup": "TCL",
         "marker": {
          "color": "#FF97FF",
          "size": [
           26
          ],
          "sizemode": "area",
          "sizeref": 0.44,
          "symbol": "circle"
         },
         "mode": "markers",
         "name": "TCL",
         "orientation": "v",
         "showlegend": true,
         "type": "scatter",
         "x": [
          71.8076923076923
         ],
         "xaxis": "x",
         "y": [
          18685.423076923078
         ],
         "yaxis": "y"
        },
        {
         "hovertemplate": "Company=TECNO<br>AVG Spec Score=%{x}<br>AVG Price=%{y}<br>Distinct products=%{marker.size}<extra></extra>",
         "legendgroup": "TECNO",
         "marker": {
          "color": "#FECB52",
          "size": [
           13
          ],
          "sizemode": "area",
          "sizeref": 0.44,
          "symbol": "circle"
         },
         "mode": "markers",
         "name": "TECNO",
         "orientation": "v",
         "showlegend": true,
         "type": "scatter",
         "x": [
          88
         ],
         "xaxis": "x",
         "y": [
          62666.46153846154
         ],
         "yaxis": "y"
        },
        {
         "hovertemplate": "Company=VIVO<br>AVG Spec Score=%{x}<br>AVG Price=%{y}<br>Distinct products=%{marker.size}<extra></extra>",
         "legendgroup": "VIVO",
         "marker": {
          "color": "#636efa",
          "size": [
           176
          ],
          "sizemode": "area",
          "sizeref": 0.44,
          "symbol": "circle"
         },
         "mode": "markers",
         "name": "VIVO",
         "orientation": "v",
         "showlegend": true,
         "type": "scatter",
         "x": [
          79.79569892473118
         ],
         "xaxis": "x",
         "y": [
          33921.2688172043
         ],
         "yaxis": "y"
        },
        {
         "hovertemplate": "Company=XIAOMI<br>AVG Spec Score=%{x}<br>AVG Price=%{y}<br>Distinct products=%{marker.size}<extra></extra>",
         "legendgroup": "XIAOMI",
         "marker": {
          "color": "#EF553B",
          "size": [
           86
          ],
          "sizemode": "area",
          "sizeref": 0.44,
          "symbol": "circle"
         },
         "mode": "markers",
         "name": "XIAOMI",
         "orientation": "v",
         "showlegend": true,
         "type": "scatter",
         "x": [
          77.2
         ],
         "xaxis": "x",
         "y": [
          15225.366666666667
         ],
         "yaxis": "y"
        }
       ],
       "layout": {
        "legend": {
         "itemsizing": "constant",
         "title": {
          "text": "Company"
         },
         "tracegroupgap": 0
        },
        "template": {
         "data": {
          "bar": [
           {
            "error_x": {
             "color": "#2a3f5f"
            },
            "error_y": {
             "color": "#2a3f5f"
            },
            "marker": {
             "line": {
              "color": "#E5ECF6",
              "width": 0.5
             },
             "pattern": {
              "fillmode": "overlay",
              "size": 10,
              "solidity": 0.2
             }
            },
            "type": "bar"
           }
          ],
          "barpolar": [
           {
            "marker": {
             "line": {
              "color": "#E5ECF6",
              "width": 0.5
             },
             "pattern": {
              "fillmode": "overlay",
              "size": 10,
              "solidity": 0.2
             }
            },
            "type": "barpolar"
           }
          ],
          "carpet": [
           {
            "aaxis": {
             "endlinecolor": "#2a3f5f",
             "gridcolor": "white",
             "linecolor": "white",
             "minorgridcolor": "white",
             "startlinecolor": "#2a3f5f"
            },
            "baxis": {
             "endlinecolor": "#2a3f5f",
             "gridcolor": "white",
             "linecolor": "white",
             "minorgridcolor": "white",
             "startlinecolor": "#2a3f5f"
            },
            "type": "carpet"
           }
          ],
          "choropleth": [
           {
            "colorbar": {
             "outlinewidth": 0,
             "ticks": ""
            },
            "type": "choropleth"
           }
          ],
          "contour": [
           {
            "colorbar": {
             "outlinewidth": 0,
             "ticks": ""
            },
            "colorscale": [
             [
              0,
              "#0d0887"
             ],
             [
              0.1111111111111111,
              "#46039f"
             ],
             [
              0.2222222222222222,
              "#7201a8"
             ],
             [
              0.3333333333333333,
              "#9c179e"
             ],
             [
              0.4444444444444444,
              "#bd3786"
             ],
             [
              0.5555555555555556,
              "#d8576b"
             ],
             [
              0.6666666666666666,
              "#ed7953"
             ],
             [
              0.7777777777777778,
              "#fb9f3a"
             ],
             [
              0.8888888888888888,
              "#fdca26"
             ],
             [
              1,
              "#f0f921"
             ]
            ],
            "type": "contour"
           }
          ],
          "contourcarpet": [
           {
            "colorbar": {
             "outlinewidth": 0,
             "ticks": ""
            },
            "type": "contourcarpet"
           }
          ],
          "heatmap": [
           {
            "colorbar": {
             "outlinewidth": 0,
             "ticks": ""
            },
            "colorscale": [
             [
              0,
              "#0d0887"
             ],
             [
              0.1111111111111111,
              "#46039f"
             ],
             [
              0.2222222222222222,
              "#7201a8"
             ],
             [
              0.3333333333333333,
              "#9c179e"
             ],
             [
              0.4444444444444444,
              "#bd3786"
             ],
             [
              0.5555555555555556,
              "#d8576b"
             ],
             [
              0.6666666666666666,
              "#ed7953"
             ],
             [
              0.7777777777777778,
              "#fb9f3a"
             ],
             [
              0.8888888888888888,
              "#fdca26"
             ],
             [
              1,
              "#f0f921"
             ]
            ],
            "type": "heatmap"
           }
          ],
          "heatmapgl": [
           {
            "colorbar": {
             "outlinewidth": 0,
             "ticks": ""
            },
            "colorscale": [
             [
              0,
              "#0d0887"
             ],
             [
              0.1111111111111111,
              "#46039f"
             ],
             [
              0.2222222222222222,
              "#7201a8"
             ],
             [
              0.3333333333333333,
              "#9c179e"
             ],
             [
              0.4444444444444444,
              "#bd3786"
             ],
             [
              0.5555555555555556,
              "#d8576b"
             ],
             [
              0.6666666666666666,
              "#ed7953"
             ],
             [
              0.7777777777777778,
              "#fb9f3a"
             ],
             [
              0.8888888888888888,
              "#fdca26"
             ],
             [
              1,
              "#f0f921"
             ]
            ],
            "type": "heatmapgl"
           }
          ],
          "histogram": [
           {
            "marker": {
             "pattern": {
              "fillmode": "overlay",
              "size": 10,
              "solidity": 0.2
             }
            },
            "type": "histogram"
           }
          ],
          "histogram2d": [
           {
            "colorbar": {
             "outlinewidth": 0,
             "ticks": ""
            },
            "colorscale": [
             [
              0,
              "#0d0887"
             ],
             [
              0.1111111111111111,
              "#46039f"
             ],
             [
              0.2222222222222222,
              "#7201a8"
             ],
             [
              0.3333333333333333,
              "#9c179e"
             ],
             [
              0.4444444444444444,
              "#bd3786"
             ],
             [
              0.5555555555555556,
              "#d8576b"
             ],
             [
              0.6666666666666666,
              "#ed7953"
             ],
             [
              0.7777777777777778,
              "#fb9f3a"
             ],
             [
              0.8888888888888888,
              "#fdca26"
             ],
             [
              1,
              "#f0f921"
             ]
            ],
            "type": "histogram2d"
           }
          ],
          "histogram2dcontour": [
           {
            "colorbar": {
             "outlinewidth": 0,
             "ticks": ""
            },
            "colorscale": [
             [
              0,
              "#0d0887"
             ],
             [
              0.1111111111111111,
              "#46039f"
             ],
             [
              0.2222222222222222,
              "#7201a8"
             ],
             [
              0.3333333333333333,
              "#9c179e"
             ],
             [
              0.4444444444444444,
              "#bd3786"
             ],
             [
              0.5555555555555556,
              "#d8576b"
             ],
             [
              0.6666666666666666,
              "#ed7953"
             ],
             [
              0.7777777777777778,
              "#fb9f3a"
             ],
             [
              0.8888888888888888,
              "#fdca26"
             ],
             [
              1,
              "#f0f921"
             ]
            ],
            "type": "histogram2dcontour"
           }
          ],
          "mesh3d": [
           {
            "colorbar": {
             "outlinewidth": 0,
             "ticks": ""
            },
            "type": "mesh3d"
           }
          ],
          "parcoords": [
           {
            "line": {
             "colorbar": {
              "outlinewidth": 0,
              "ticks": ""
             }
            },
            "type": "parcoords"
           }
          ],
          "pie": [
           {
            "automargin": true,
            "type": "pie"
           }
          ],
          "scatter": [
           {
            "fillpattern": {
             "fillmode": "overlay",
             "size": 10,
             "solidity": 0.2
            },
            "type": "scatter"
           }
          ],
          "scatter3d": [
           {
            "line": {
             "colorbar": {
              "outlinewidth": 0,
              "ticks": ""
             }
            },
            "marker": {
             "colorbar": {
              "outlinewidth": 0,
              "ticks": ""
             }
            },
            "type": "scatter3d"
           }
          ],
          "scattercarpet": [
           {
            "marker": {
             "colorbar": {
              "outlinewidth": 0,
              "ticks": ""
             }
            },
            "type": "scattercarpet"
           }
          ],
          "scattergeo": [
           {
            "marker": {
             "colorbar": {
              "outlinewidth": 0,
              "ticks": ""
             }
            },
            "type": "scattergeo"
           }
          ],
          "scattergl": [
           {
            "marker": {
             "colorbar": {
              "outlinewidth": 0,
              "ticks": ""
             }
            },
            "type": "scattergl"
           }
          ],
          "scattermapbox": [
           {
            "marker": {
             "colorbar": {
              "outlinewidth": 0,
              "ticks": ""
             }
            },
            "type": "scattermapbox"
           }
          ],
          "scatterpolar": [
           {
            "marker": {
             "colorbar": {
              "outlinewidth": 0,
              "ticks": ""
             }
            },
            "type": "scatterpolar"
           }
          ],
          "scatterpolargl": [
           {
            "marker": {
             "colorbar": {
              "outlinewidth": 0,
              "ticks": ""
             }
            },
            "type": "scatterpolargl"
           }
          ],
          "scatterternary": [
           {
            "marker": {
             "colorbar": {
              "outlinewidth": 0,
              "ticks": ""
             }
            },
            "type": "scatterternary"
           }
          ],
          "surface": [
           {
            "colorbar": {
             "outlinewidth": 0,
             "ticks": ""
            },
            "colorscale": [
             [
              0,
              "#0d0887"
             ],
             [
              0.1111111111111111,
              "#46039f"
             ],
             [
              0.2222222222222222,
              "#7201a8"
             ],
             [
              0.3333333333333333,
              "#9c179e"
             ],
             [
              0.4444444444444444,
              "#bd3786"
             ],
             [
              0.5555555555555556,
              "#d8576b"
             ],
             [
              0.6666666666666666,
              "#ed7953"
             ],
             [
              0.7777777777777778,
              "#fb9f3a"
             ],
             [
              0.8888888888888888,
              "#fdca26"
             ],
             [
              1,
              "#f0f921"
             ]
            ],
            "type": "surface"
           }
          ],
          "table": [
           {
            "cells": {
             "fill": {
              "color": "#EBF0F8"
             },
             "line": {
              "color": "white"
             }
            },
            "header": {
             "fill": {
              "color": "#C8D4E3"
             },
             "line": {
              "color": "white"
             }
            },
            "type": "table"
           }
          ]
         },
         "layout": {
          "annotationdefaults": {
           "arrowcolor": "#2a3f5f",
           "arrowhead": 0,
           "arrowwidth": 1
          },
          "autotypenumbers": "strict",
          "coloraxis": {
           "colorbar": {
            "outlinewidth": 0,
            "ticks": ""
           }
          },
          "colorscale": {
           "diverging": [
            [
             0,
             "#8e0152"
            ],
            [
             0.1,
             "#c51b7d"
            ],
            [
             0.2,
             "#de77ae"
            ],
            [
             0.3,
             "#f1b6da"
            ],
            [
             0.4,
             "#fde0ef"
            ],
            [
             0.5,
             "#f7f7f7"
            ],
            [
             0.6,
             "#e6f5d0"
            ],
            [
             0.7,
             "#b8e186"
            ],
            [
             0.8,
             "#7fbc41"
            ],
            [
             0.9,
             "#4d9221"
            ],
            [
             1,
             "#276419"
            ]
           ],
           "sequential": [
            [
             0,
             "#0d0887"
            ],
            [
             0.1111111111111111,
             "#46039f"
            ],
            [
             0.2222222222222222,
             "#7201a8"
            ],
            [
             0.3333333333333333,
             "#9c179e"
            ],
            [
             0.4444444444444444,
             "#bd3786"
            ],
            [
             0.5555555555555556,
             "#d8576b"
            ],
            [
             0.6666666666666666,
             "#ed7953"
            ],
            [
             0.7777777777777778,
             "#fb9f3a"
            ],
            [
             0.8888888888888888,
             "#fdca26"
            ],
            [
             1,
             "#f0f921"
            ]
           ],
           "sequentialminus": [
            [
             0,
             "#0d0887"
            ],
            [
             0.1111111111111111,
             "#46039f"
            ],
            [
             0.2222222222222222,
             "#7201a8"
            ],
            [
             0.3333333333333333,
             "#9c179e"
            ],
            [
             0.4444444444444444,
             "#bd3786"
            ],
            [
             0.5555555555555556,
             "#d8576b"
            ],
            [
             0.6666666666666666,
             "#ed7953"
            ],
            [
             0.7777777777777778,
             "#fb9f3a"
            ],
            [
             0.8888888888888888,
             "#fdca26"
            ],
            [
             1,
             "#f0f921"
            ]
           ]
          },
          "colorway": [
           "#636efa",
           "#EF553B",
           "#00cc96",
           "#ab63fa",
           "#FFA15A",
           "#19d3f3",
           "#FF6692",
           "#B6E880",
           "#FF97FF",
           "#FECB52"
          ],
          "font": {
           "color": "#2a3f5f"
          },
          "geo": {
           "bgcolor": "white",
           "lakecolor": "white",
           "landcolor": "#E5ECF6",
           "showlakes": true,
           "showland": true,
           "subunitcolor": "white"
          },
          "hoverlabel": {
           "align": "left"
          },
          "hovermode": "closest",
          "mapbox": {
           "style": "light"
          },
          "paper_bgcolor": "white",
          "plot_bgcolor": "#E5ECF6",
          "polar": {
           "angularaxis": {
            "gridcolor": "white",
            "linecolor": "white",
            "ticks": ""
           },
           "bgcolor": "#E5ECF6",
           "radialaxis": {
            "gridcolor": "white",
            "linecolor": "white",
            "ticks": ""
           }
          },
          "scene": {
           "xaxis": {
            "backgroundcolor": "#E5ECF6",
            "gridcolor": "white",
            "gridwidth": 2,
            "linecolor": "white",
            "showbackground": true,
            "ticks": "",
            "zerolinecolor": "white"
           },
           "yaxis": {
            "backgroundcolor": "#E5ECF6",
            "gridcolor": "white",
            "gridwidth": 2,
            "linecolor": "white",
            "showbackground": true,
            "ticks": "",
            "zerolinecolor": "white"
           },
           "zaxis": {
            "backgroundcolor": "#E5ECF6",
            "gridcolor": "white",
            "gridwidth": 2,
            "linecolor": "white",
            "showbackground": true,
            "ticks": "",
            "zerolinecolor": "white"
           }
          },
          "shapedefaults": {
           "line": {
            "color": "#2a3f5f"
           }
          },
          "ternary": {
           "aaxis": {
            "gridcolor": "white",
            "linecolor": "white",
            "ticks": ""
           },
           "baxis": {
            "gridcolor": "white",
            "linecolor": "white",
            "ticks": ""
           },
           "bgcolor": "#E5ECF6",
           "caxis": {
            "gridcolor": "white",
            "linecolor": "white",
            "ticks": ""
           }
          },
          "title": {
           "x": 0.05
          },
          "xaxis": {
           "automargin": true,
           "gridcolor": "white",
           "linecolor": "white",
           "ticks": "",
           "title": {
            "standoff": 15
           },
           "zerolinecolor": "white",
           "zerolinewidth": 2
          },
          "yaxis": {
           "automargin": true,
           "gridcolor": "white",
           "linecolor": "white",
           "ticks": "",
           "title": {
            "standoff": 15
           },
           "zerolinecolor": "white",
           "zerolinewidth": 2
          }
         }
        },
        "title": {
         "text": "AVG Spec Score and AVG Price vs Distinct Product, for Each Company "
        },
        "xaxis": {
         "anchor": "y",
         "domain": [
          0,
          1
         ],
         "title": {
          "text": "AVG Spec Score"
         }
        },
        "yaxis": {
         "anchor": "x",
         "domain": [
          0,
          1
         ],
         "title": {
          "text": "AVG Price"
         }
        }
       }
      }
     },
     "metadata": {},
     "output_type": "display_data"
    }
   ],
   "source": [
    "px.scatter(price_spec_pivot, x='AVG Spec Score', y='AVG Price', size='Distinct products', color='Company', title=\"AVG Spec Score and AVG Price vs Distinct Product, for Each Company \")"
   ]
  },
  {
   "cell_type": "markdown",
   "metadata": {},
   "source": [
    "#### This plot represents the market. It can be used to find the best possible combination between specs and price to gain a competitive advantage. This graph can help in developing products that balance specs and pricing level to meet the demand.\n",
    "\n",
    "#### The Spec Score, again, seems to be valuable as a feature for our analysis."
   ]
  },
  {
   "cell_type": "markdown",
   "metadata": {},
   "source": [
    "------------------------------------"
   ]
  },
  {
   "cell_type": "markdown",
   "metadata": {},
   "source": [
    "## Data Formatting"
   ]
  },
  {
   "cell_type": "code",
   "execution_count": 99,
   "metadata": {},
   "outputs": [],
   "source": [
    "def extract_display(display_str):\n",
    "    import re\n",
    "\n",
    "    match = re.search(r'(\\d\\.\\d|\\d+)', str(display_str))\n",
    "\n",
    "    if match:\n",
    "        return match.group()\n",
    "    else:\n",
    "        None\n",
    "        \n",
    "file['Display'] = file['Display'].apply(extract_display)"
   ]
  },
  {
   "cell_type": "code",
   "execution_count": 100,
   "metadata": {},
   "outputs": [],
   "source": [
    "def extract_charging_info(ch_str):\n",
    "    import re\n",
    "\n",
    "    match = re.search(r'(\\d+)', str(ch_str))\n",
    "\n",
    "    if match:\n",
    "        return match.group()\n",
    "    else:\n",
    "        None\n",
    "        \n",
    "file['fast_charging'] = file['fast_charging'].apply(extract_charging_info)"
   ]
  },
  {
   "cell_type": "code",
   "execution_count": 101,
   "metadata": {},
   "outputs": [],
   "source": [
    "file['No_of_sim'] = file['No_of_sim'].apply(lambda x: x[:-2])\n",
    "\n",
    "sim_mapping = {\n",
    "    'No Sim Supported': 0, \n",
    "    'Dual Sim, 3G, VoLTE': 1,\n",
    "    'Single Sim, 3G, 4G, VoLTE': 2,\n",
    "    'Dual Sim, 3G, 4G': 3,\n",
    "    'Dual Sim, 3G, 4G, VoLTE': 4,\n",
    "    'Single Sim, 3G, 4G, 5G, VoLTE': 5,\n",
    "    'Dual Sim, 3G, 4G, 5G, VoLTE': 6, \n",
    "    'Single Sim, 3G, 4G, 5G, VoLTE, Vo5G': 7,\n",
    "    'Dual Sim, 3G, 4G, 5G, VoLTE, Vo5G': 8,\n",
    "}\n",
    "\n",
    "file['No_of_sim_encoded'] = file['No_of_sim'].map(sim_mapping)"
   ]
  },
  {
   "cell_type": "code",
   "execution_count": 102,
   "metadata": {},
   "outputs": [],
   "source": [
    "file['Inbuilt_memory'] = file['Inbuilt_memory'].str.strip()\n",
    "\n",
    "def extract_inbMemory_info(proc_str):\n",
    "\n",
    "    import re\n",
    "\n",
    "    match = re.search(r'(\\d+)', str(proc_str))\n",
    "\n",
    "    if match:\n",
    "\n",
    "        if \"TB\" in str(proc_str):\n",
    "\n",
    "            match = int(match.group()) * 1000\n",
    "\n",
    "            return match\n",
    "\n",
    "        else:\n",
    "\n",
    "            return match.group()\n",
    "    \n",
    "    else:\n",
    "        return None\n",
    "    \n",
    "file['Inbuilt_memory'] = file['Inbuilt_memory'].apply(extract_inbMemory_info)"
   ]
  },
  {
   "cell_type": "code",
   "execution_count": 103,
   "metadata": {},
   "outputs": [],
   "source": [
    "def front_camera_ext(cam_str):\n",
    "    \n",
    "    import re\n",
    "\n",
    "    otp = re.search(r'([\\d+\\s\\+MP]+Rear)', str(cam_str))\n",
    "    if otp:\n",
    "        return otp.group()\n",
    "    else:\n",
    "        return None"
   ]
  },
  {
   "cell_type": "code",
   "execution_count": 105,
   "metadata": {},
   "outputs": [
    {
     "name": "stdout",
     "output_type": "stream",
     "text": [
      "\u001b[1m\u001b[33mException for Foldable Display, Dual Display\u001b[0m\n"
     ]
    }
   ],
   "source": [
    "file['Rear Camera'] = [None] * len(file['Camera'])\n",
    "file['Front Camera'] = [None] * len(file['Camera'])\n",
    "\n",
    "try:\n",
    "\n",
    "    for i,v in enumerate(file['Camera']):\n",
    "        # REAR CAMERA\n",
    "        first_part = v.split(\";\")[0]\n",
    "        intermediate = re.findall(r'(\\d+)', str(first_part))\n",
    "        # FRONT CAMERA\n",
    "        second_part = v.split(\";\")[1]\n",
    "        second_int = re.findall(r'(\\d+)', str(second_part))\n",
    "\n",
    "        # MEGAPIXELS SUM\n",
    "        intermediate_sum = sum([int(num) for num in intermediate])\n",
    "        second_int_sum = sum([int(num) for num in second_int])\n",
    "\n",
    "        # UPDATE COLUMN VALUE   \n",
    "        file.loc[i, 'Rear Camera'] = intermediate_sum\n",
    "        file.loc[i, 'Front Camera'] = second_int_sum\n",
    "\n",
    "except Exception as e:\n",
    "\n",
    "    print(colored(f\"Exception for {v}\", color='yellow', attrs=['bold']))"
   ]
  },
  {
   "cell_type": "markdown",
   "metadata": {},
   "source": [
    "## Correlation Heatmap"
   ]
  },
  {
   "cell_type": "code",
   "execution_count": 109,
   "metadata": {},
   "outputs": [
    {
     "data": {
      "text/plain": [
       "Text(0.5, 1.0, 'Correlation with Price')"
      ]
     },
     "execution_count": 109,
     "metadata": {},
     "output_type": "execute_result"
    },
    {
     "data": {
      "image/png": "[encoded data removed]",
      "text/plain": [
       "<Figure size 640x480 with 2 Axes>"
      ]
     },
     "metadata": {},
     "output_type": "display_data"
    }
   ],
   "source": [
    "correlation = file.corr(numeric_only=True)[['Price']].sort_values(by='Price', ascending=False)\n",
    "heatmap1 = sns.heatmap(correlation, annot=True, cmap='BrBG')\n",
    "heatmap1.set_title('Correlation with Price', fontdict={'fontsize':12}, pad=12)"
   ]
  },
  {
   "cell_type": "markdown",
   "metadata": {},
   "source": [
    "## Feature Importance"
   ]
  },
  {
   "cell_type": "code",
   "execution_count": 124,
   "metadata": {},
   "outputs": [
    {
     "data": {
      "image/png": "[encoded data removed]",
      "text/plain": [
       "<Figure size 1000x600 with 1 Axes>"
      ]
     },
     "metadata": {},
     "output_type": "display_data"
    }
   ],
   "source": [
    "from sklearn.ensemble import RandomForestClassifier  \n",
    "rf = RandomForestClassifier() \n",
    "X_new = file[['Rating', 'Spec_score', 'Ram', 'Battery', 'Inbuilt_memory', 'fast_charging', 'Screen_resolution', 'No_of_sim_encoded', 'Rear Camera', 'Front Camera']].copy()\n",
    "X_fin = X_new.fillna(0)\n",
    "rf.fit(X_fin, y)\n",
    "\n",
    "# Get feature importances\n",
    "importances = rf.feature_importances_\n",
    "\n",
    "# Sort feature importances in descending order\n",
    "indices = np.argsort(importances)[::-1]\n",
    "\n",
    "feature_labels = X_fin.columns  # Assuming X is a pandas DataFrame\n",
    "\n",
    "import matplotlib.pyplot as plt\n",
    "\n",
    "plt.figure(figsize=(10, 6))\n",
    "plt.title(\"Feature Importances - Random Forest\")\n",
    "plt.bar(range(X_fin.shape[1]), importances[indices], align=\"center\")\n",
    "plt.xticks(range(X_fin.shape[1]), feature_labels[indices], rotation=90)\n",
    "plt.xlim([-1, X_fin.shape[1]])\n",
    "plt.tight_layout()\n",
    "plt.show()"
   ]
  },
  {
   "cell_type": "markdown",
   "metadata": {},
   "source": [
    "## Linear Regression"
   ]
  },
  {
   "cell_type": "code",
   "execution_count": 106,
   "metadata": {},
   "outputs": [
    {
     "data": {
      "text/plain": [
       "(0.0, 227120.51810758113)"
      ]
     },
     "execution_count": 106,
     "metadata": {},
     "output_type": "execute_result"
    },
    {
     "data": {
      "image/png": "[encoded data removed]",
      "text/plain": [
       "<Figure size 640x480 with 1 Axes>"
      ]
     },
     "metadata": {},
     "output_type": "display_data"
    }
   ],
   "source": [
    "features = ['Spec_score']\n",
    "X = file[features]\n",
    "y = file['Price']\n",
    "\n",
    "X_train, X_test, y_train, y_test = train_test_split(X,y,random_state=0, train_size=0.75)\n",
    "\n",
    "model = LinearRegression()\n",
    "model.fit(X_train, y_train)\n",
    "\n",
    "################################\n",
    "# b=model.intercept_\n",
    "# w=model.coef_\n",
    "# formula = w * X_train + b\n",
    "################################\n",
    "\n",
    "y_pred_train1 = model.predict(X_train)\n",
    "y_pred_test1 = model.predict(X_test)\n",
    "\n",
    "plt.scatter(X_train, y_train,c='navy', label='Train data')\n",
    "plt.scatter(X_test, y_test, c='lightblue', label='Test data')\n",
    "plt.plot(X_test, y_pred_test1, c='red', label='Prediction')\n",
    "plt.xlabel('Spec_score')\n",
    "plt.ylabel('Price')\n",
    "plt.tight_layout()\n",
    "plt.legend()\n",
    "plt.ylim(0)"
   ]
  },
  {
   "cell_type": "markdown",
   "metadata": {},
   "source": [
    "#### The scatter plot and regression red line illustrate the predictive power of the \"Spec_score\" feature on pricing. \n",
    "#### Let's add more parameters."
   ]
  },
  {
   "cell_type": "markdown",
   "metadata": {},
   "source": [
    "-------------------------------"
   ]
  },
  {
   "cell_type": "code",
   "execution_count": 116,
   "metadata": {},
   "outputs": [
    {
     "data": {
      "text/html": [
       "<div>\n",
       "<style scoped>\n",
       "    .dataframe tbody tr th:only-of-type {\n",
       "        vertical-align: middle;\n",
       "    }\n",
       "\n",
       "    .dataframe tbody tr th {\n",
       "        vertical-align: top;\n",
       "    }\n",
       "\n",
       "    .dataframe thead th {\n",
       "        text-align: right;\n",
       "    }\n",
       "</style>\n",
       "<table border=\"1\" class=\"dataframe\">\n",
       "  <thead>\n",
       "    <tr style=\"text-align: right;\">\n",
       "      <th></th>\n",
       "      <th>Name</th>\n",
       "      <th>Rating</th>\n",
       "      <th>Spec_score</th>\n",
       "      <th>No_of_sim</th>\n",
       "      <th>Ram</th>\n",
       "      <th>Battery</th>\n",
       "      <th>Display</th>\n",
       "      <th>Camera</th>\n",
       "      <th>External_Memory</th>\n",
       "      <th>Android_version</th>\n",
       "      <th>Price</th>\n",
       "      <th>company</th>\n",
       "      <th>Inbuilt_memory</th>\n",
       "      <th>fast_charging</th>\n",
       "      <th>Screen_resolution</th>\n",
       "      <th>Processor</th>\n",
       "      <th>Processor_name</th>\n",
       "      <th>No_of_sim_encoded</th>\n",
       "      <th>Rear Camera</th>\n",
       "      <th>Front Camera</th>\n",
       "    </tr>\n",
       "  </thead>\n",
       "  <tbody>\n",
       "    <tr>\n",
       "      <th>0</th>\n",
       "      <td>Samsung Galaxy F14 5G</td>\n",
       "      <td>4.65</td>\n",
       "      <td>68</td>\n",
       "      <td>Dual Sim, 3G, 4G, 5G, VoLTE</td>\n",
       "      <td>4.0</td>\n",
       "      <td>6000.0</td>\n",
       "      <td>6.6</td>\n",
       "      <td>50 MP + 2 MP Dual Rear &amp;amp; 13 MP Front Camera</td>\n",
       "      <td>Memory Card Supported, upto 1 TB</td>\n",
       "      <td>13</td>\n",
       "      <td>9999.0</td>\n",
       "      <td>SAMSUNG</td>\n",
       "      <td>128</td>\n",
       "      <td>25</td>\n",
       "      <td>2600640.0</td>\n",
       "      <td>Octa Core Processor</td>\n",
       "      <td>Exynos 1330</td>\n",
       "      <td>6</td>\n",
       "      <td>52</td>\n",
       "      <td>13</td>\n",
       "    </tr>\n",
       "  </tbody>\n",
       "</table>\n",
       "</div>"
      ],
      "text/plain": [
       "                    Name  Rating  Spec_score                    No_of_sim  \\\n",
       "0  Samsung Galaxy F14 5G    4.65          68  Dual Sim, 3G, 4G, 5G, VoLTE   \n",
       "\n",
       "   Ram  Battery Display                                           Camera  \\\n",
       "0  4.0   6000.0     6.6  50 MP + 2 MP Dual Rear &amp; 13 MP Front Camera   \n",
       "\n",
       "                    External_Memory Android_version   Price  company  \\\n",
       "0  Memory Card Supported, upto 1 TB              13  9999.0  SAMSUNG   \n",
       "\n",
       "  Inbuilt_memory fast_charging  Screen_resolution             Processor  \\\n",
       "0            128            25          2600640.0   Octa Core Processor   \n",
       "\n",
       "  Processor_name  No_of_sim_encoded Rear Camera Front Camera  \n",
       "0    Exynos 1330                  6          52           13  "
      ]
     },
     "execution_count": 116,
     "metadata": {},
     "output_type": "execute_result"
    }
   ],
   "source": [
    "file.head(1)"
   ]
  }
 ],
 "metadata": {
  "kernelspec": {
   "display_name": "base",
   "language": "python",
   "name": "python3"
  },
  "language_info": {
   "codemirror_mode": {
    "name": "ipython",
    "version": 3
   },
   "file_extension": ".py",
   "mimetype": "text/x-python",
   "name": "python",
   "nbconvert_exporter": "python",
   "pygments_lexer": "ipython3",
   "version": "3.11.4"
  }
 },
 "nbformat": 4,
 "nbformat_minor": 2
}
