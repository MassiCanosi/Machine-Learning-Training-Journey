{
 "cells": [
  {
   "cell_type": "markdown",
   "metadata": {},
   "source": [
    "## Mobile phone usability"
   ]
  },
  {
   "cell_type": "code",
   "execution_count": 33,
   "metadata": {},
   "outputs": [],
   "source": [
    "import numpy as np\n",
    "import pandas as pd \n",
    "import re\n",
    "from sklearn.model_selection import train_test_split\n",
    "from sklearn.linear_model import LinearRegression\n",
    "from sklearn.metrics import mean_squared_error, r2_score\n",
    "from sklearn.impute import SimpleImputer\n",
    "import matplotlib.pyplot as plt\n",
    "import plotly.express as px"
   ]
  },
  {
   "cell_type": "code",
   "execution_count": 3,
   "metadata": {},
   "outputs": [],
   "source": [
    "file = pd.read_csv(r'c:\\Users\\massimiliano.canosi\\Downloads\\archive\\mobile phone price prediction.csv')"
   ]
  },
  {
   "cell_type": "code",
   "execution_count": 4,
   "metadata": {},
   "outputs": [],
   "source": [
    "file = file.drop(file.columns[0], axis=1)"
   ]
  },
  {
   "cell_type": "code",
   "execution_count": 5,
   "metadata": {},
   "outputs": [
    {
     "data": {
      "text/html": [
       "<div>\n",
       "<style scoped>\n",
       "    .dataframe tbody tr th:only-of-type {\n",
       "        vertical-align: middle;\n",
       "    }\n",
       "\n",
       "    .dataframe tbody tr th {\n",
       "        vertical-align: top;\n",
       "    }\n",
       "\n",
       "    .dataframe thead th {\n",
       "        text-align: right;\n",
       "    }\n",
       "</style>\n",
       "<table border=\"1\" class=\"dataframe\">\n",
       "  <thead>\n",
       "    <tr style=\"text-align: right;\">\n",
       "      <th></th>\n",
       "      <th>Rating</th>\n",
       "      <th>Spec_score</th>\n",
       "    </tr>\n",
       "  </thead>\n",
       "  <tbody>\n",
       "    <tr>\n",
       "      <th>count</th>\n",
       "      <td>1370.000000</td>\n",
       "      <td>1370.000000</td>\n",
       "    </tr>\n",
       "    <tr>\n",
       "      <th>mean</th>\n",
       "      <td>4.374416</td>\n",
       "      <td>80.234307</td>\n",
       "    </tr>\n",
       "    <tr>\n",
       "      <th>std</th>\n",
       "      <td>0.230176</td>\n",
       "      <td>8.373922</td>\n",
       "    </tr>\n",
       "    <tr>\n",
       "      <th>min</th>\n",
       "      <td>3.750000</td>\n",
       "      <td>42.000000</td>\n",
       "    </tr>\n",
       "    <tr>\n",
       "      <th>25%</th>\n",
       "      <td>4.150000</td>\n",
       "      <td>75.000000</td>\n",
       "    </tr>\n",
       "    <tr>\n",
       "      <th>50%</th>\n",
       "      <td>4.400000</td>\n",
       "      <td>82.000000</td>\n",
       "    </tr>\n",
       "    <tr>\n",
       "      <th>75%</th>\n",
       "      <td>4.550000</td>\n",
       "      <td>86.000000</td>\n",
       "    </tr>\n",
       "    <tr>\n",
       "      <th>max</th>\n",
       "      <td>4.750000</td>\n",
       "      <td>98.000000</td>\n",
       "    </tr>\n",
       "  </tbody>\n",
       "</table>\n",
       "</div>"
      ],
      "text/plain": [
       "            Rating   Spec_score\n",
       "count  1370.000000  1370.000000\n",
       "mean      4.374416    80.234307\n",
       "std       0.230176     8.373922\n",
       "min       3.750000    42.000000\n",
       "25%       4.150000    75.000000\n",
       "50%       4.400000    82.000000\n",
       "75%       4.550000    86.000000\n",
       "max       4.750000    98.000000"
      ]
     },
     "execution_count": 5,
     "metadata": {},
     "output_type": "execute_result"
    }
   ],
   "source": [
    "file.describe()"
   ]
  },
  {
   "cell_type": "code",
   "execution_count": 6,
   "metadata": {},
   "outputs": [
    {
     "name": "stdout",
     "output_type": "stream",
     "text": [
      "<class 'pandas.core.frame.DataFrame'>\n",
      "RangeIndex: 1370 entries, 0 to 1369\n",
      "Data columns (total 17 columns):\n",
      " #   Column             Non-Null Count  Dtype  \n",
      "---  ------             --------------  -----  \n",
      " 0   Name               1370 non-null   object \n",
      " 1   Rating             1370 non-null   float64\n",
      " 2   Spec_score         1370 non-null   int64  \n",
      " 3   No_of_sim          1370 non-null   object \n",
      " 4   Ram                1370 non-null   object \n",
      " 5   Battery            1370 non-null   object \n",
      " 6   Display            1370 non-null   object \n",
      " 7   Camera             1370 non-null   object \n",
      " 8   External_Memory    1370 non-null   object \n",
      " 9   Android_version    927 non-null    object \n",
      " 10  Price              1370 non-null   object \n",
      " 11  company            1370 non-null   object \n",
      " 12  Inbuilt_memory     1351 non-null   object \n",
      " 13  fast_charging      1281 non-null   object \n",
      " 14  Screen_resolution  1368 non-null   object \n",
      " 15  Processor          1342 non-null   object \n",
      " 16  Processor_name     1370 non-null   object \n",
      "dtypes: float64(1), int64(1), object(15)\n",
      "memory usage: 182.1+ KB\n"
     ]
    }
   ],
   "source": [
    "data_info = file.info()"
   ]
  },
  {
   "cell_type": "code",
   "execution_count": 7,
   "metadata": {},
   "outputs": [],
   "source": [
    "file['Ram'] = file['Ram'].astype(str).str.extract('(\\d+)').astype(float)\n",
    "# file['Ram'].unique()"
   ]
  },
  {
   "cell_type": "code",
   "execution_count": 8,
   "metadata": {},
   "outputs": [],
   "source": [
    "file['Battery'] = file['Battery'].astype(str).str.extract('(\\d+)').astype(float)\n",
    "# file['Battery'].unique()"
   ]
  },
  {
   "cell_type": "code",
   "execution_count": 9,
   "metadata": {},
   "outputs": [],
   "source": [
    "file['Price'] = (file['Price'].apply(lambda x: x.replace(\",\",\"\"))).astype(float)"
   ]
  },
  {
   "cell_type": "code",
   "execution_count": 10,
   "metadata": {},
   "outputs": [],
   "source": [
    "file['company'] = file['company'].str.upper()"
   ]
  },
  {
   "cell_type": "code",
   "execution_count": 11,
   "metadata": {},
   "outputs": [],
   "source": [
    "file['Android_version'].fillna(file['Android_version'].mode()[0], inplace=True)\n",
    "file['Inbuilt_memory'].fillna(file['Inbuilt_memory'].mode()[0],inplace=True)\n",
    "file['Processor'].fillna(file['Processor'].mode()[0],inplace=True)\n",
    "file['Screen_resolution'].fillna(file['Screen_resolution'].mode()[0],inplace=True)\n",
    "file['fast_charging'].fillna(file['fast_charging'].mode()[0],inplace=True)"
   ]
  },
  {
   "cell_type": "code",
   "execution_count": 12,
   "metadata": {},
   "outputs": [],
   "source": [
    "def extract_res(res_str):\n",
    "\n",
    "    import re \n",
    "\n",
    "    match = re.search(r'(\\d+)\\s*x\\s*(\\d+)', str(res_str))\n",
    "\n",
    "    if match:\n",
    "        return int(match.group(1)) * int(match.group(2))\n",
    "    else:\n",
    "        return None"
   ]
  },
  {
   "cell_type": "code",
   "execution_count": 13,
   "metadata": {},
   "outputs": [],
   "source": [
    "file['Screen_resolution'] = file['Screen_resolution'].apply(extract_res)\n",
    "# file['Screen_resolution'].unique()"
   ]
  },
  {
   "cell_type": "markdown",
   "metadata": {},
   "source": [
    "## Top Companies"
   ]
  },
  {
   "cell_type": "code",
   "execution_count": 14,
   "metadata": {},
   "outputs": [
    {
     "data": {
      "text/html": [
       "<div>\n",
       "<style scoped>\n",
       "    .dataframe tbody tr th:only-of-type {\n",
       "        vertical-align: middle;\n",
       "    }\n",
       "\n",
       "    .dataframe tbody tr th {\n",
       "        vertical-align: top;\n",
       "    }\n",
       "\n",
       "    .dataframe thead th {\n",
       "        text-align: right;\n",
       "    }\n",
       "</style>\n",
       "<table border=\"1\" class=\"dataframe\">\n",
       "  <thead>\n",
       "    <tr style=\"text-align: right;\">\n",
       "      <th></th>\n",
       "      <th>company</th>\n",
       "      <th>Rating</th>\n",
       "    </tr>\n",
       "  </thead>\n",
       "  <tbody>\n",
       "    <tr>\n",
       "      <th>0</th>\n",
       "      <td>COOLPAD</td>\n",
       "      <td>4.600000</td>\n",
       "    </tr>\n",
       "    <tr>\n",
       "      <th>1</th>\n",
       "      <td>GIONEE</td>\n",
       "      <td>4.470000</td>\n",
       "    </tr>\n",
       "    <tr>\n",
       "      <th>2</th>\n",
       "      <td>ASUS</td>\n",
       "      <td>4.447619</td>\n",
       "    </tr>\n",
       "    <tr>\n",
       "      <th>3</th>\n",
       "      <td>LENOVO</td>\n",
       "      <td>4.442857</td>\n",
       "    </tr>\n",
       "    <tr>\n",
       "      <th>4</th>\n",
       "      <td>TECNO</td>\n",
       "      <td>4.426923</td>\n",
       "    </tr>\n",
       "  </tbody>\n",
       "</table>\n",
       "</div>"
      ],
      "text/plain": [
       "   company    Rating\n",
       "0  COOLPAD  4.600000\n",
       "1   GIONEE  4.470000\n",
       "2     ASUS  4.447619\n",
       "3   LENOVO  4.442857\n",
       "4    TECNO  4.426923"
      ]
     },
     "execution_count": 14,
     "metadata": {},
     "output_type": "execute_result"
    }
   ],
   "source": [
    "top_companies = file.pivot_table(index='company', values='Rating', aggfunc='mean').sort_values(by='Rating', ascending=False).reset_index()[:5]\n",
    "top_companies"
   ]
  },
  {
   "cell_type": "markdown",
   "metadata": {},
   "source": [
    "## Top Products"
   ]
  },
  {
   "cell_type": "code",
   "execution_count": 15,
   "metadata": {},
   "outputs": [
    {
     "data": {
      "text/html": [
       "<div>\n",
       "<style scoped>\n",
       "    .dataframe tbody tr th:only-of-type {\n",
       "        vertical-align: middle;\n",
       "    }\n",
       "\n",
       "    .dataframe tbody tr th {\n",
       "        vertical-align: top;\n",
       "    }\n",
       "\n",
       "    .dataframe thead th {\n",
       "        text-align: right;\n",
       "    }\n",
       "</style>\n",
       "<table border=\"1\" class=\"dataframe\">\n",
       "  <thead>\n",
       "    <tr style=\"text-align: right;\">\n",
       "      <th></th>\n",
       "      <th>company</th>\n",
       "      <th>Name</th>\n",
       "      <th>Rating</th>\n",
       "    </tr>\n",
       "  </thead>\n",
       "  <tbody>\n",
       "    <tr>\n",
       "      <th>0</th>\n",
       "      <td>LENOVO</td>\n",
       "      <td>Lenovo Legion Duel 3 5G</td>\n",
       "      <td>4.75</td>\n",
       "    </tr>\n",
       "    <tr>\n",
       "      <th>1</th>\n",
       "      <td>LENOVO</td>\n",
       "      <td>Lenovo K13 Pro</td>\n",
       "      <td>4.75</td>\n",
       "    </tr>\n",
       "    <tr>\n",
       "      <th>2</th>\n",
       "      <td>ASUS</td>\n",
       "      <td>Asus ZenFone 9</td>\n",
       "      <td>4.75</td>\n",
       "    </tr>\n",
       "    <tr>\n",
       "      <th>3</th>\n",
       "      <td>ASUS</td>\n",
       "      <td>Asus ROG Phone 8 Ultimate</td>\n",
       "      <td>4.75</td>\n",
       "    </tr>\n",
       "    <tr>\n",
       "      <th>4</th>\n",
       "      <td>ASUS</td>\n",
       "      <td>Asus ROG Phone 6 Pro 5G</td>\n",
       "      <td>4.75</td>\n",
       "    </tr>\n",
       "  </tbody>\n",
       "</table>\n",
       "</div>"
      ],
      "text/plain": [
       "  company                       Name  Rating\n",
       "0  LENOVO    Lenovo Legion Duel 3 5G    4.75\n",
       "1  LENOVO             Lenovo K13 Pro    4.75\n",
       "2    ASUS             Asus ZenFone 9    4.75\n",
       "3    ASUS  Asus ROG Phone 8 Ultimate    4.75\n",
       "4    ASUS    Asus ROG Phone 6 Pro 5G    4.75"
      ]
     },
     "execution_count": 15,
     "metadata": {},
     "output_type": "execute_result"
    }
   ],
   "source": [
    "top_products_df = file[file['company'].isin(top_companies['company'])]\n",
    "\n",
    "top_products = top_products_df.pivot_table(index=['company', 'Name'], values='Rating', aggfunc='mean') \\\n",
    "                .sort_values(by=['Rating', 'company', 'Name'], ascending=False).reset_index()[:5]\n",
    "\n",
    "top_products"
   ]
  },
  {
   "cell_type": "markdown",
   "metadata": {},
   "source": [
    "#### Top Product per company"
   ]
  },
  {
   "cell_type": "code",
   "execution_count": 16,
   "metadata": {},
   "outputs": [
    {
     "data": {
      "text/html": [
       "<div>\n",
       "<style scoped>\n",
       "    .dataframe tbody tr th:only-of-type {\n",
       "        vertical-align: middle;\n",
       "    }\n",
       "\n",
       "    .dataframe tbody tr th {\n",
       "        vertical-align: top;\n",
       "    }\n",
       "\n",
       "    .dataframe thead th {\n",
       "        text-align: right;\n",
       "    }\n",
       "</style>\n",
       "<table border=\"1\" class=\"dataframe\">\n",
       "  <thead>\n",
       "    <tr style=\"text-align: right;\">\n",
       "      <th></th>\n",
       "      <th>company</th>\n",
       "      <th>Name</th>\n",
       "    </tr>\n",
       "  </thead>\n",
       "  <tbody>\n",
       "    <tr>\n",
       "      <th>663</th>\n",
       "      <td>ASUS</td>\n",
       "      <td>Asus ZenFone 9</td>\n",
       "    </tr>\n",
       "    <tr>\n",
       "      <th>1343</th>\n",
       "      <td>COOLPAD</td>\n",
       "      <td>Coolpad Cool 30 Pro</td>\n",
       "    </tr>\n",
       "    <tr>\n",
       "      <th>701</th>\n",
       "      <td>GIONEE</td>\n",
       "      <td>Gionee M12 Pro</td>\n",
       "    </tr>\n",
       "    <tr>\n",
       "      <th>694</th>\n",
       "      <td>LENOVO</td>\n",
       "      <td>Lenovo K13 Pro</td>\n",
       "    </tr>\n",
       "    <tr>\n",
       "      <th>1220</th>\n",
       "      <td>TECNO</td>\n",
       "      <td>Tecno Phantom X2 Pro</td>\n",
       "    </tr>\n",
       "  </tbody>\n",
       "</table>\n",
       "</div>"
      ],
      "text/plain": [
       "      company                  Name\n",
       "663      ASUS        Asus ZenFone 9\n",
       "1343  COOLPAD   Coolpad Cool 30 Pro\n",
       "701    GIONEE        Gionee M12 Pro\n",
       "694    LENOVO        Lenovo K13 Pro\n",
       "1220    TECNO  Tecno Phantom X2 Pro"
      ]
     },
     "execution_count": 16,
     "metadata": {},
     "output_type": "execute_result"
    }
   ],
   "source": [
    "top_product_for_cm = file[file['company'].isin(top_companies['company'])]\n",
    "\n",
    "top_product_per_cm = top_product_for_cm.pivot_table(index='company', values='Rating', aggfunc='idxmax').reset_index()\n",
    "\n",
    "top_product_fin = top_product_for_cm.loc[top_product_per_cm['Rating']][['company', 'Name']]\n",
    "top_product_fin"
   ]
  },
  {
   "cell_type": "markdown",
   "metadata": {},
   "source": [
    "## Number of products for each company"
   ]
  },
  {
   "cell_type": "code",
   "execution_count": 29,
   "metadata": {},
   "outputs": [
    {
     "data": {
      "application/vnd.plotly.v1+json": {
       "config": {
        "plotlyServerURL": "https://plot.ly"
       },
       "data": [
        {
         "branchvalues": "total",
         "customdata": [
          [
           21
          ],
          [
           1
          ],
          [
           5
          ],
          [
           23
          ],
          [
           88
          ],
          [
           62
          ],
          [
           58
          ],
          [
           14
          ],
          [
           19
          ],
          [
           14
          ],
          [
           6
          ],
          [
           127
          ],
          [
           14
          ],
          [
           73
          ],
          [
           65
          ],
          [
           94
          ],
          [
           173
          ],
          [
           176
          ],
          [
           26
          ],
          [
           13
          ],
          [
           176
          ],
          [
           86
          ]
         ],
         "domain": {
          "x": [
           0,
           1
          ],
          "y": [
           0,
           1
          ]
         },
         "hovertemplate": "labels=%{label}<br>Product Count_sum=%{value}<br>parent=%{parent}<br>id=%{id}<extra></extra>",
         "ids": [
          "ASUS",
          "COOLPAD",
          "GIONEE",
          "GOOGLE",
          "HONOR",
          "HUAWEI",
          "IQOO",
          "ITEL",
          "LAVA",
          "LENOVO",
          "LG",
          "MOTOROLA",
          "NOTHING",
          "ONEPLUS",
          "OPPO",
          "POCO",
          "REALME",
          "SAMSUNG",
          "TCL",
          "TECNO",
          "VIVO",
          "XIAOMI"
         ],
         "labels": [
          "ASUS",
          "COOLPAD",
          "GIONEE",
          "GOOGLE",
          "HONOR",
          "HUAWEI",
          "IQOO",
          "ITEL",
          "LAVA",
          "LENOVO",
          "LG",
          "MOTOROLA",
          "NOTHING",
          "ONEPLUS",
          "OPPO",
          "POCO",
          "REALME",
          "SAMSUNG",
          "TCL",
          "TECNO",
          "VIVO",
          "XIAOMI"
         ],
         "marker": {
          "coloraxis": "coloraxis",
          "colors": [
           21,
           1,
           5,
           23,
           88,
           62,
           58,
           14,
           19,
           14,
           6,
           127,
           14,
           73,
           65,
           94,
           173,
           176,
           26,
           13,
           176,
           86
          ]
         },
         "name": "",
         "parents": [
          "",
          "",
          "",
          "",
          "",
          "",
          "",
          "",
          "",
          "",
          "",
          "",
          "",
          "",
          "",
          "",
          "",
          "",
          "",
          "",
          "",
          ""
         ],
         "type": "treemap",
         "values": [
          21,
          1,
          5,
          23,
          88,
          62,
          58,
          14,
          19,
          14,
          6,
          127,
          14,
          73,
          65,
          94,
          173,
          176,
          26,
          13,
          176,
          86
         ]
        }
       ],
       "layout": {
        "coloraxis": {
         "colorbar": {
          "title": {
           "text": "Product Count"
          }
         },
         "colorscale": [
          [
           0,
           "#0d0887"
          ],
          [
           0.1111111111111111,
           "#46039f"
          ],
          [
           0.2222222222222222,
           "#7201a8"
          ],
          [
           0.3333333333333333,
           "#9c179e"
          ],
          [
           0.4444444444444444,
           "#bd3786"
          ],
          [
           0.5555555555555556,
           "#d8576b"
          ],
          [
           0.6666666666666666,
           "#ed7953"
          ],
          [
           0.7777777777777778,
           "#fb9f3a"
          ],
          [
           0.8888888888888888,
           "#fdca26"
          ],
          [
           1,
           "#f0f921"
          ]
         ]
        },
        "legend": {
         "tracegroupgap": 0
        },
        "template": {
         "data": {
          "bar": [
           {
            "error_x": {
             "color": "#2a3f5f"
            },
            "error_y": {
             "color": "#2a3f5f"
            },
            "marker": {
             "line": {
              "color": "#E5ECF6",
              "width": 0.5
             },
             "pattern": {
              "fillmode": "overlay",
              "size": 10,
              "solidity": 0.2
             }
            },
            "type": "bar"
           }
          ],
          "barpolar": [
           {
            "marker": {
             "line": {
              "color": "#E5ECF6",
              "width": 0.5
             },
             "pattern": {
              "fillmode": "overlay",
              "size": 10,
              "solidity": 0.2
             }
            },
            "type": "barpolar"
           }
          ],
          "carpet": [
           {
            "aaxis": {
             "endlinecolor": "#2a3f5f",
             "gridcolor": "white",
             "linecolor": "white",
             "minorgridcolor": "white",
             "startlinecolor": "#2a3f5f"
            },
            "baxis": {
             "endlinecolor": "#2a3f5f",
             "gridcolor": "white",
             "linecolor": "white",
             "minorgridcolor": "white",
             "startlinecolor": "#2a3f5f"
            },
            "type": "carpet"
           }
          ],
          "choropleth": [
           {
            "colorbar": {
             "outlinewidth": 0,
             "ticks": ""
            },
            "type": "choropleth"
           }
          ],
          "contour": [
           {
            "colorbar": {
             "outlinewidth": 0,
             "ticks": ""
            },
            "colorscale": [
             [
              0,
              "#0d0887"
             ],
             [
              0.1111111111111111,
              "#46039f"
             ],
             [
              0.2222222222222222,
              "#7201a8"
             ],
             [
              0.3333333333333333,
              "#9c179e"
             ],
             [
              0.4444444444444444,
              "#bd3786"
             ],
             [
              0.5555555555555556,
              "#d8576b"
             ],
             [
              0.6666666666666666,
              "#ed7953"
             ],
             [
              0.7777777777777778,
              "#fb9f3a"
             ],
             [
              0.8888888888888888,
              "#fdca26"
             ],
             [
              1,
              "#f0f921"
             ]
            ],
            "type": "contour"
           }
          ],
          "contourcarpet": [
           {
            "colorbar": {
             "outlinewidth": 0,
             "ticks": ""
            },
            "type": "contourcarpet"
           }
          ],
          "heatmap": [
           {
            "colorbar": {
             "outlinewidth": 0,
             "ticks": ""
            },
            "colorscale": [
             [
              0,
              "#0d0887"
             ],
             [
              0.1111111111111111,
              "#46039f"
             ],
             [
              0.2222222222222222,
              "#7201a8"
             ],
             [
              0.3333333333333333,
              "#9c179e"
             ],
             [
              0.4444444444444444,
              "#bd3786"
             ],
             [
              0.5555555555555556,
              "#d8576b"
             ],
             [
              0.6666666666666666,
              "#ed7953"
             ],
             [
              0.7777777777777778,
              "#fb9f3a"
             ],
             [
              0.8888888888888888,
              "#fdca26"
             ],
             [
              1,
              "#f0f921"
             ]
            ],
            "type": "heatmap"
           }
          ],
          "heatmapgl": [
           {
            "colorbar": {
             "outlinewidth": 0,
             "ticks": ""
            },
            "colorscale": [
             [
              0,
              "#0d0887"
             ],
             [
              0.1111111111111111,
              "#46039f"
             ],
             [
              0.2222222222222222,
              "#7201a8"
             ],
             [
              0.3333333333333333,
              "#9c179e"
             ],
             [
              0.4444444444444444,
              "#bd3786"
             ],
             [
              0.5555555555555556,
              "#d8576b"
             ],
             [
              0.6666666666666666,
              "#ed7953"
             ],
             [
              0.7777777777777778,
              "#fb9f3a"
             ],
             [
              0.8888888888888888,
              "#fdca26"
             ],
             [
              1,
              "#f0f921"
             ]
            ],
            "type": "heatmapgl"
           }
          ],
          "histogram": [
           {
            "marker": {
             "pattern": {
              "fillmode": "overlay",
              "size": 10,
              "solidity": 0.2
             }
            },
            "type": "histogram"
           }
          ],
          "histogram2d": [
           {
            "colorbar": {
             "outlinewidth": 0,
             "ticks": ""
            },
            "colorscale": [
             [
              0,
              "#0d0887"
             ],
             [
              0.1111111111111111,
              "#46039f"
             ],
             [
              0.2222222222222222,
              "#7201a8"
             ],
             [
              0.3333333333333333,
              "#9c179e"
             ],
             [
              0.4444444444444444,
              "#bd3786"
             ],
             [
              0.5555555555555556,
              "#d8576b"
             ],
             [
              0.6666666666666666,
              "#ed7953"
             ],
             [
              0.7777777777777778,
              "#fb9f3a"
             ],
             [
              0.8888888888888888,
              "#fdca26"
             ],
             [
              1,
              "#f0f921"
             ]
            ],
            "type": "histogram2d"
           }
          ],
          "histogram2dcontour": [
           {
            "colorbar": {
             "outlinewidth": 0,
             "ticks": ""
            },
            "colorscale": [
             [
              0,
              "#0d0887"
             ],
             [
              0.1111111111111111,
              "#46039f"
             ],
             [
              0.2222222222222222,
              "#7201a8"
             ],
             [
              0.3333333333333333,
              "#9c179e"
             ],
             [
              0.4444444444444444,
              "#bd3786"
             ],
             [
              0.5555555555555556,
              "#d8576b"
             ],
             [
              0.6666666666666666,
              "#ed7953"
             ],
             [
              0.7777777777777778,
              "#fb9f3a"
             ],
             [
              0.8888888888888888,
              "#fdca26"
             ],
             [
              1,
              "#f0f921"
             ]
            ],
            "type": "histogram2dcontour"
           }
          ],
          "mesh3d": [
           {
            "colorbar": {
             "outlinewidth": 0,
             "ticks": ""
            },
            "type": "mesh3d"
           }
          ],
          "parcoords": [
           {
            "line": {
             "colorbar": {
              "outlinewidth": 0,
              "ticks": ""
             }
            },
            "type": "parcoords"
           }
          ],
          "pie": [
           {
            "automargin": true,
            "type": "pie"
           }
          ],
          "scatter": [
           {
            "fillpattern": {
             "fillmode": "overlay",
             "size": 10,
             "solidity": 0.2
            },
            "type": "scatter"
           }
          ],
          "scatter3d": [
           {
            "line": {
             "colorbar": {
              "outlinewidth": 0,
              "ticks": ""
             }
            },
            "marker": {
             "colorbar": {
              "outlinewidth": 0,
              "ticks": ""
             }
            },
            "type": "scatter3d"
           }
          ],
          "scattercarpet": [
           {
            "marker": {
             "colorbar": {
              "outlinewidth": 0,
              "ticks": ""
             }
            },
            "type": "scattercarpet"
           }
          ],
          "scattergeo": [
           {
            "marker": {
             "colorbar": {
              "outlinewidth": 0,
              "ticks": ""
             }
            },
            "type": "scattergeo"
           }
          ],
          "scattergl": [
           {
            "marker": {
             "colorbar": {
              "outlinewidth": 0,
              "ticks": ""
             }
            },
            "type": "scattergl"
           }
          ],
          "scattermapbox": [
           {
            "marker": {
             "colorbar": {
              "outlinewidth": 0,
              "ticks": ""
             }
            },
            "type": "scattermapbox"
           }
          ],
          "scatterpolar": [
           {
            "marker": {
             "colorbar": {
              "outlinewidth": 0,
              "ticks": ""
             }
            },
            "type": "scatterpolar"
           }
          ],
          "scatterpolargl": [
           {
            "marker": {
             "colorbar": {
              "outlinewidth": 0,
              "ticks": ""
             }
            },
            "type": "scatterpolargl"
           }
          ],
          "scatterternary": [
           {
            "marker": {
             "colorbar": {
              "outlinewidth": 0,
              "ticks": ""
             }
            },
            "type": "scatterternary"
           }
          ],
          "surface": [
           {
            "colorbar": {
             "outlinewidth": 0,
             "ticks": ""
            },
            "colorscale": [
             [
              0,
              "#0d0887"
             ],
             [
              0.1111111111111111,
              "#46039f"
             ],
             [
              0.2222222222222222,
              "#7201a8"
             ],
             [
              0.3333333333333333,
              "#9c179e"
             ],
             [
              0.4444444444444444,
              "#bd3786"
             ],
             [
              0.5555555555555556,
              "#d8576b"
             ],
             [
              0.6666666666666666,
              "#ed7953"
             ],
             [
              0.7777777777777778,
              "#fb9f3a"
             ],
             [
              0.8888888888888888,
              "#fdca26"
             ],
             [
              1,
              "#f0f921"
             ]
            ],
            "type": "surface"
           }
          ],
          "table": [
           {
            "cells": {
             "fill": {
              "color": "#EBF0F8"
             },
             "line": {
              "color": "white"
             }
            },
            "header": {
             "fill": {
              "color": "#C8D4E3"
             },
             "line": {
              "color": "white"
             }
            },
            "type": "table"
           }
          ]
         },
         "layout": {
          "annotationdefaults": {
           "arrowcolor": "#2a3f5f",
           "arrowhead": 0,
           "arrowwidth": 1
          },
          "autotypenumbers": "strict",
          "coloraxis": {
           "colorbar": {
            "outlinewidth": 0,
            "ticks": ""
           }
          },
          "colorscale": {
           "diverging": [
            [
             0,
             "#8e0152"
            ],
            [
             0.1,
             "#c51b7d"
            ],
            [
             0.2,
             "#de77ae"
            ],
            [
             0.3,
             "#f1b6da"
            ],
            [
             0.4,
             "#fde0ef"
            ],
            [
             0.5,
             "#f7f7f7"
            ],
            [
             0.6,
             "#e6f5d0"
            ],
            [
             0.7,
             "#b8e186"
            ],
            [
             0.8,
             "#7fbc41"
            ],
            [
             0.9,
             "#4d9221"
            ],
            [
             1,
             "#276419"
            ]
           ],
           "sequential": [
            [
             0,
             "#0d0887"
            ],
            [
             0.1111111111111111,
             "#46039f"
            ],
            [
             0.2222222222222222,
             "#7201a8"
            ],
            [
             0.3333333333333333,
             "#9c179e"
            ],
            [
             0.4444444444444444,
             "#bd3786"
            ],
            [
             0.5555555555555556,
             "#d8576b"
            ],
            [
             0.6666666666666666,
             "#ed7953"
            ],
            [
             0.7777777777777778,
             "#fb9f3a"
            ],
            [
             0.8888888888888888,
             "#fdca26"
            ],
            [
             1,
             "#f0f921"
            ]
           ],
           "sequentialminus": [
            [
             0,
             "#0d0887"
            ],
            [
             0.1111111111111111,
             "#46039f"
            ],
            [
             0.2222222222222222,
             "#7201a8"
            ],
            [
             0.3333333333333333,
             "#9c179e"
            ],
            [
             0.4444444444444444,
             "#bd3786"
            ],
            [
             0.5555555555555556,
             "#d8576b"
            ],
            [
             0.6666666666666666,
             "#ed7953"
            ],
            [
             0.7777777777777778,
             "#fb9f3a"
            ],
            [
             0.8888888888888888,
             "#fdca26"
            ],
            [
             1,
             "#f0f921"
            ]
           ]
          },
          "colorway": [
           "#636efa",
           "#EF553B",
           "#00cc96",
           "#ab63fa",
           "#FFA15A",
           "#19d3f3",
           "#FF6692",
           "#B6E880",
           "#FF97FF",
           "#FECB52"
          ],
          "font": {
           "color": "#2a3f5f"
          },
          "geo": {
           "bgcolor": "white",
           "lakecolor": "white",
           "landcolor": "#E5ECF6",
           "showlakes": true,
           "showland": true,
           "subunitcolor": "white"
          },
          "hoverlabel": {
           "align": "left"
          },
          "hovermode": "closest",
          "mapbox": {
           "style": "light"
          },
          "paper_bgcolor": "white",
          "plot_bgcolor": "#E5ECF6",
          "polar": {
           "angularaxis": {
            "gridcolor": "white",
            "linecolor": "white",
            "ticks": ""
           },
           "bgcolor": "#E5ECF6",
           "radialaxis": {
            "gridcolor": "white",
            "linecolor": "white",
            "ticks": ""
           }
          },
          "scene": {
           "xaxis": {
            "backgroundcolor": "#E5ECF6",
            "gridcolor": "white",
            "gridwidth": 2,
            "linecolor": "white",
            "showbackground": true,
            "ticks": "",
            "zerolinecolor": "white"
           },
           "yaxis": {
            "backgroundcolor": "#E5ECF6",
            "gridcolor": "white",
            "gridwidth": 2,
            "linecolor": "white",
            "showbackground": true,
            "ticks": "",
            "zerolinecolor": "white"
           },
           "zaxis": {
            "backgroundcolor": "#E5ECF6",
            "gridcolor": "white",
            "gridwidth": 2,
            "linecolor": "white",
            "showbackground": true,
            "ticks": "",
            "zerolinecolor": "white"
           }
          },
          "shapedefaults": {
           "line": {
            "color": "#2a3f5f"
           }
          },
          "ternary": {
           "aaxis": {
            "gridcolor": "white",
            "linecolor": "white",
            "ticks": ""
           },
           "baxis": {
            "gridcolor": "white",
            "linecolor": "white",
            "ticks": ""
           },
           "bgcolor": "#E5ECF6",
           "caxis": {
            "gridcolor": "white",
            "linecolor": "white",
            "ticks": ""
           }
          },
          "title": {
           "x": 0.05
          },
          "xaxis": {
           "automargin": true,
           "gridcolor": "white",
           "linecolor": "white",
           "ticks": "",
           "title": {
            "standoff": 15
           },
           "zerolinecolor": "white",
           "zerolinewidth": 2
          },
          "yaxis": {
           "automargin": true,
           "gridcolor": "white",
           "linecolor": "white",
           "ticks": "",
           "title": {
            "standoff": 15
           },
           "zerolinecolor": "white",
           "zerolinewidth": 2
          }
         }
        },
        "title": {
         "text": "#Products for Each Company"
        }
       }
      }
     },
     "metadata": {},
     "output_type": "display_data"
    }
   ],
   "source": [
    "products = file[['company', 'Name']]\n",
    "\n",
    "prodcuts_pivot = products.pivot_table(index='company', values='Name', aggfunc='nunique').reset_index() \\\n",
    "                    .rename(columns={'Name': 'Product Count'})\n",
    "\n",
    "px.treemap(prodcuts_pivot, names = 'company', path=['company'], values='Product Count', color='Product Count' \\\n",
    "           , hover_data={'Product Count': False}, title='#Products for Each Company')"
   ]
  },
  {
   "cell_type": "markdown",
   "metadata": {},
   "source": [
    "## AVG Price per Company"
   ]
  },
  {
   "cell_type": "code",
   "execution_count": 18,
   "metadata": {},
   "outputs": [
    {
     "data": {
      "image/png": "[encoded data removed]",
      "text/plain": [
       "<Figure size 2000x700 with 1 Axes>"
      ]
     },
     "metadata": {},
     "output_type": "display_data"
    }
   ],
   "source": [
    "avg_price_cm = file.pivot_table(index='company', values=['Price', 'Name'], aggfunc={'Price': 'mean', 'Name':'nunique'}).sort_values(by='Price', ascending=False).reset_index()\n",
    "avg_price_cm\n",
    "fig, ax = plt.subplots(1,1, figsize=(20,7), tight_layout=True)\n",
    "ax.set_title('Average Price per Company (with distinct Company''s product number)', fontsize = 22)\n",
    "ax.set_xlabel(\"Company\")\n",
    "ax.set_ylabel(\"AVG Price\")\n",
    "ax.bar(avg_price_cm['company'], height= avg_price_cm['Price'])\n",
    "\n",
    "for i, v in enumerate(avg_price_cm['Name']):\n",
    "    ax.text(i, v, v , ha='center', va='bottom', fontsize=12, color='white', weight='bold')\n",
    "\n",
    "plt.xticks(rotation=45) \n",
    "plt.show()"
   ]
  },
  {
   "cell_type": "markdown",
   "metadata": {},
   "source": [
    "## Price Range per Company"
   ]
  },
  {
   "cell_type": "code",
   "execution_count": 19,
   "metadata": {},
   "outputs": [],
   "source": [
    "boxplot_data = file[['Price', 'company']].sort_values(by='Price').copy()"
   ]
  },
  {
   "cell_type": "code",
   "execution_count": 20,
   "metadata": {},
   "outputs": [
    {
     "data": {
      "image/png": "[encoded data removed]",
      "text/plain": [
       "<Figure size 2000x800 with 1 Axes>"
      ]
     },
     "metadata": {},
     "output_type": "display_data"
    }
   ],
   "source": [
    "c = \"red\"\n",
    "ax1 = boxplot_data.boxplot(column='Price', by='company', figsize=(20,8), patch_artist=True, boxprops=dict(facecolor='navy', color='navy'),\n",
    "            capprops=dict(color='red'),\n",
    "            whiskerprops=dict(color='blue'),\n",
    "            flierprops=dict(color=c, markeredgecolor='blue'),\n",
    "            medianprops=dict(color='yellow'))\n",
    "ax1.set_ylabel('Price Range')\n",
    "ax1.set_xlabel('Company')\n",
    "ax1.set_title(\"\")\n",
    "plt.suptitle('Price Range per Company', fontsize = 22)\n",
    "plt.xticks(rotation=45) \n",
    "plt.show()"
   ]
  },
  {
   "cell_type": "markdown",
   "metadata": {},
   "source": [
    "### This graph can be used to understand the market price distribution in order to strategically price the products"
   ]
  },
  {
   "cell_type": "markdown",
   "metadata": {},
   "source": [
    "## Correlation between Price, Specs and products"
   ]
  },
  {
   "cell_type": "code",
   "execution_count": 22,
   "metadata": {},
   "outputs": [],
   "source": [
    "price_spec_df = file[['company', 'Name', 'Spec_score', 'Price']].copy()"
   ]
  },
  {
   "cell_type": "code",
   "execution_count": 23,
   "metadata": {},
   "outputs": [],
   "source": [
    "price_spec_pivot = price_spec_df.pivot_table(index='company', values=['Name', 'Spec_score', 'Price'] \\\n",
    "                                                , aggfunc={'Name': 'nunique', 'Spec_score': 'mean', 'Price': 'mean'}).reset_index()\n",
    "\n",
    "price_spec_pivot = price_spec_pivot.rename(columns = {'company': 'Company', 'Name': 'Distinct products', 'Spec_score': 'AVG Spec Score', 'Price': 'AVG Price'})"
   ]
  },
  {
   "cell_type": "code",
   "execution_count": 24,
   "metadata": {},
   "outputs": [
    {
     "data": {
      "application/vnd.plotly.v1+json": {
       "config": {
        "plotlyServerURL": "https://plot.ly"
       },
       "data": [
        {
         "hovertemplate": "Company=ASUS<br>AVG Spec Score=%{x}<br>AVG Price=%{y}<br>Distinct products=%{marker.size}<extra></extra>",
         "legendgroup": "ASUS",
         "marker": {
          "color": "#636efa",
          "size": [
           21
          ],
          "sizemode": "area",
          "sizeref": 0.44,
          "symbol": "circle"
         },
         "mode": "markers",
         "name": "ASUS",
         "orientation": "v",
         "showlegend": true,
         "type": "scatter",
         "x": [
          88.47619047619048
         ],
         "xaxis": "x",
         "y": [
          78228.09523809524
         ],
         "yaxis": "y"
        },
        {
         "hovertemplate": "Company=COOLPAD<br>AVG Spec Score=%{x}<br>AVG Price=%{y}<br>Distinct products=%{marker.size}<extra></extra>",
         "legendgroup": "COOLPAD",
         "marker": {
          "color": "#EF553B",
          "size": [
           1
          ],
          "sizemode": "area",
          "sizeref": 0.44,
          "symbol": "circle"
         },
         "mode": "markers",
         "name": "COOLPAD",
         "orientation": "v",
         "showlegend": true,
         "type": "scatter",
         "x": [
          77
         ],
         "xaxis": "x",
         "y": [
          23990
         ],
         "yaxis": "y"
        },
        {
         "hovertemplate": "Company=GIONEE<br>AVG Spec Score=%{x}<br>AVG Price=%{y}<br>Distinct products=%{marker.size}<extra></extra>",
         "legendgroup": "GIONEE",
         "marker": {
          "color": "#00cc96",
          "size": [
           5
          ],
          "sizemode": "area",
          "sizeref": 0.44,
          "symbol": "circle"
         },
         "mode": "markers",
         "name": "GIONEE",
         "orientation": "v",
         "showlegend": true,
         "type": "scatter",
         "x": [
          63.6
         ],
         "xaxis": "x",
         "y": [
          9891.8
         ],
         "yaxis": "y"
        },
        {
         "hovertemplate": "Company=GOOGLE<br>AVG Spec Score=%{x}<br>AVG Price=%{y}<br>Distinct products=%{marker.size}<extra></extra>",
         "legendgroup": "GOOGLE",
         "marker": {
          "color": "#ab63fa",
          "size": [
           23
          ],
          "sizemode": "area",
          "sizeref": 0.44,
          "symbol": "circle"
         },
         "mode": "markers",
         "name": "GOOGLE",
         "orientation": "v",
         "showlegend": true,
         "type": "scatter",
         "x": [
          81.34782608695652
         ],
         "xaxis": "x",
         "y": [
          75473.73913043478
         ],
         "yaxis": "y"
        },
        {
         "hovertemplate": "Company=HONOR<br>AVG Spec Score=%{x}<br>AVG Price=%{y}<br>Distinct products=%{marker.size}<extra></extra>",
         "legendgroup": "HONOR",
         "marker": {
          "color": "#FFA15A",
          "size": [
           88
          ],
          "sizemode": "area",
          "sizeref": 0.44,
          "symbol": "circle"
         },
         "mode": "markers",
         "name": "HONOR",
         "orientation": "v",
         "showlegend": true,
         "type": "scatter",
         "x": [
          82.7840909090909
         ],
         "xaxis": "x",
         "y": [
          41796.98863636364
         ],
         "yaxis": "y"
        },
        {
         "hovertemplate": "Company=HUAWEI<br>AVG Spec Score=%{x}<br>AVG Price=%{y}<br>Distinct products=%{marker.size}<extra></extra>",
         "legendgroup": "HUAWEI",
         "marker": {
          "color": "#19d3f3",
          "size": [
           62
          ],
          "sizemode": "area",
          "sizeref": 0.44,
          "symbol": "circle"
         },
         "mode": "markers",
         "name": "HUAWEI",
         "orientation": "v",
         "showlegend": true,
         "type": "scatter",
         "x": [
          80.09677419354838
         ],
         "xaxis": "x",
         "y": [
          53596.72580645161
         ],
         "yaxis": "y"
        },
        {
         "hovertemplate": "Company=IQOO<br>AVG Spec Score=%{x}<br>AVG Price=%{y}<br>Distinct products=%{marker.size}<extra></extra>",
         "legendgroup": "IQOO",
         "marker": {
          "color": "#FF6692",
          "size": [
           58
          ],
          "sizemode": "area",
          "sizeref": 0.44,
          "symbol": "circle"
         },
         "mode": "markers",
         "name": "IQOO",
         "orientation": "v",
         "showlegend": true,
         "type": "scatter",
         "x": [
          82.17241379310344
         ],
         "xaxis": "x",
         "y": [
          32412.379310344826
         ],
         "yaxis": "y"
        },
        {
         "hovertemplate": "Company=ITEL<br>AVG Spec Score=%{x}<br>AVG Price=%{y}<br>Distinct products=%{marker.size}<extra></extra>",
         "legendgroup": "ITEL",
         "marker": {
          "color": "#B6E880",
          "size": [
           14
          ],
          "sizemode": "area",
          "sizeref": 0.44,
          "symbol": "circle"
         },
         "mode": "markers",
         "name": "ITEL",
         "orientation": "v",
         "showlegend": true,
         "type": "scatter",
         "x": [
          69.06666666666666
         ],
         "xaxis": "x",
         "y": [
          8968.2
         ],
         "yaxis": "y"
        },
        {
         "hovertemplate": "Company=LAVA<br>AVG Spec Score=%{x}<br>AVG Price=%{y}<br>Distinct products=%{marker.size}<extra></extra>",
         "legendgroup": "LAVA",
         "marker": {
          "color": "#FF97FF",
          "size": [
           19
          ],
          "sizemode": "area",
          "sizeref": 0.44,
          "symbol": "circle"
         },
         "mode": "markers",
         "name": "LAVA",
         "orientation": "v",
         "showlegend": true,
         "type": "scatter",
         "x": [
          70.36842105263158
         ],
         "xaxis": "x",
         "y": [
          8486.894736842105
         ],
         "yaxis": "y"
        },
        {
         "hovertemplate": "Company=LENOVO<br>AVG Spec Score=%{x}<br>AVG Price=%{y}<br>Distinct products=%{marker.size}<extra></extra>",
         "legendgroup": "LENOVO",
         "marker": {
          "color": "#FECB52",
          "size": [
           14
          ],
          "sizemode": "area",
          "sizeref": 0.44,
          "symbol": "circle"
         },
         "mode": "markers",
         "name": "LENOVO",
         "orientation": "v",
         "showlegend": true,
         "type": "scatter",
         "x": [
          75.64285714285714
         ],
         "xaxis": "x",
         "y": [
          27595.64285714286
         ],
         "yaxis": "y"
        },
        {
         "hovertemplate": "Company=LG<br>AVG Spec Score=%{x}<br>AVG Price=%{y}<br>Distinct products=%{marker.size}<extra></extra>",
         "legendgroup": "LG",
         "marker": {
          "color": "#636efa",
          "size": [
           6
          ],
          "sizemode": "area",
          "sizeref": 0.44,
          "symbol": "circle"
         },
         "mode": "markers",
         "name": "LG",
         "orientation": "v",
         "showlegend": true,
         "type": "scatter",
         "x": [
          81.5
         ],
         "xaxis": "x",
         "y": [
          50912.666666666664
         ],
         "yaxis": "y"
        },
        {
         "hovertemplate": "Company=MOTOROLA<br>AVG Spec Score=%{x}<br>AVG Price=%{y}<br>Distinct products=%{marker.size}<extra></extra>",
         "legendgroup": "MOTOROLA",
         "marker": {
          "color": "#EF553B",
          "size": [
           127
          ],
          "sizemode": "area",
          "sizeref": 0.44,
          "symbol": "circle"
         },
         "mode": "markers",
         "name": "MOTOROLA",
         "orientation": "v",
         "showlegend": true,
         "type": "scatter",
         "x": [
          80.94488188976378
         ],
         "xaxis": "x",
         "y": [
          32325.24409448819
         ],
         "yaxis": "y"
        },
        {
         "hovertemplate": "Company=NOTHING<br>AVG Spec Score=%{x}<br>AVG Price=%{y}<br>Distinct products=%{marker.size}<extra></extra>",
         "legendgroup": "NOTHING",
         "marker": {
          "color": "#00cc96",
          "size": [
           14
          ],
          "sizemode": "area",
          "sizeref": 0.44,
          "symbol": "circle"
         },
         "mode": "markers",
         "name": "NOTHING",
         "orientation": "v",
         "showlegend": true,
         "type": "scatter",
         "x": [
          86
         ],
         "xaxis": "x",
         "y": [
          38616.6
         ],
         "yaxis": "y"
        },
        {
         "hovertemplate": "Company=ONEPLUS<br>AVG Spec Score=%{x}<br>AVG Price=%{y}<br>Distinct products=%{marker.size}<extra></extra>",
         "legendgroup": "ONEPLUS",
         "marker": {
          "color": "#ab63fa",
          "size": [
           73
          ],
          "sizemode": "area",
          "sizeref": 0.44,
          "symbol": "circle"
         },
         "mode": "markers",
         "name": "ONEPLUS",
         "orientation": "v",
         "showlegend": true,
         "type": "scatter",
         "x": [
          85.89333333333333
         ],
         "xaxis": "x",
         "y": [
          40081.706666666665
         ],
         "yaxis": "y"
        },
        {
         "hovertemplate": "Company=OPPO<br>AVG Spec Score=%{x}<br>AVG Price=%{y}<br>Distinct products=%{marker.size}<extra></extra>",
         "legendgroup": "OPPO",
         "marker": {
          "color": "#FFA15A",
          "size": [
           65
          ],
          "sizemode": "area",
          "sizeref": 0.44,
          "symbol": "circle"
         },
         "mode": "markers",
         "name": "OPPO",
         "orientation": "v",
         "showlegend": true,
         "type": "scatter",
         "x": [
          84.81538461538462
         ],
         "xaxis": "x",
         "y": [
          46526.24615384615
         ],
         "yaxis": "y"
        },
        {
         "hovertemplate": "Company=POCO<br>AVG Spec Score=%{x}<br>AVG Price=%{y}<br>Distinct products=%{marker.size}<extra></extra>",
         "legendgroup": "POCO",
         "marker": {
          "color": "#19d3f3",
          "size": [
           94
          ],
          "sizemode": "area",
          "sizeref": 0.44,
          "symbol": "circle"
         },
         "mode": "markers",
         "name": "POCO",
         "orientation": "v",
         "showlegend": true,
         "type": "scatter",
         "x": [
          77.87234042553192
         ],
         "xaxis": "x",
         "y": [
          17399.68085106383
         ],
         "yaxis": "y"
        },
        {
         "hovertemplate": "Company=REALME<br>AVG Spec Score=%{x}<br>AVG Price=%{y}<br>Distinct products=%{marker.size}<extra></extra>",
         "legendgroup": "REALME",
         "marker": {
          "color": "#FF6692",
          "size": [
           173
          ],
          "sizemode": "area",
          "sizeref": 0.44,
          "symbol": "circle"
         },
         "mode": "markers",
         "name": "REALME",
         "orientation": "v",
         "showlegend": true,
         "type": "scatter",
         "x": [
          78.32795698924731
         ],
         "xaxis": "x",
         "y": [
          21391.247311827956
         ],
         "yaxis": "y"
        },
        {
         "hovertemplate": "Company=SAMSUNG<br>AVG Spec Score=%{x}<br>AVG Price=%{y}<br>Distinct products=%{marker.size}<extra></extra>",
         "legendgroup": "SAMSUNG",
         "marker": {
          "color": "#B6E880",
          "size": [
           176
          ],
          "sizemode": "area",
          "sizeref": 0.44,
          "symbol": "circle"
         },
         "mode": "markers",
         "name": "SAMSUNG",
         "orientation": "v",
         "showlegend": true,
         "type": "scatter",
         "x": [
          80.9060773480663
         ],
         "xaxis": "x",
         "y": [
          39658.59668508287
         ],
         "yaxis": "y"
        },
        {
         "hovertemplate": "Company=TCL<br>AVG Spec Score=%{x}<br>AVG Price=%{y}<br>Distinct products=%{marker.size}<extra></extra>",
         "legendgroup": "TCL",
         "marker": {
          "color": "#FF97FF",
          "size": [
           26
          ],
          "sizemode": "area",
          "sizeref": 0.44,
          "symbol": "circle"
         },
         "mode": "markers",
         "name": "TCL",
         "orientation": "v",
         "showlegend": true,
         "type": "scatter",
         "x": [
          71.8076923076923
         ],
         "xaxis": "x",
         "y": [
          18685.423076923078
         ],
         "yaxis": "y"
        },
        {
         "hovertemplate": "Company=TECNO<br>AVG Spec Score=%{x}<br>AVG Price=%{y}<br>Distinct products=%{marker.size}<extra></extra>",
         "legendgroup": "TECNO",
         "marker": {
          "color": "#FECB52",
          "size": [
           13
          ],
          "sizemode": "area",
          "sizeref": 0.44,
          "symbol": "circle"
         },
         "mode": "markers",
         "name": "TECNO",
         "orientation": "v",
         "showlegend": true,
         "type": "scatter",
         "x": [
          88
         ],
         "xaxis": "x",
         "y": [
          62666.46153846154
         ],
         "yaxis": "y"
        },
        {
         "hovertemplate": "Company=VIVO<br>AVG Spec Score=%{x}<br>AVG Price=%{y}<br>Distinct products=%{marker.size}<extra></extra>",
         "legendgroup": "VIVO",
         "marker": {
          "color": "#636efa",
          "size": [
           176
          ],
          "sizemode": "area",
          "sizeref": 0.44,
          "symbol": "circle"
         },
         "mode": "markers",
         "name": "VIVO",
         "orientation": "v",
         "showlegend": true,
         "type": "scatter",
         "x": [
          79.79569892473118
         ],
         "xaxis": "x",
         "y": [
          33921.2688172043
         ],
         "yaxis": "y"
        },
        {
         "hovertemplate": "Company=XIAOMI<br>AVG Spec Score=%{x}<br>AVG Price=%{y}<br>Distinct products=%{marker.size}<extra></extra>",
         "legendgroup": "XIAOMI",
         "marker": {
          "color": "#EF553B",
          "size": [
           86
          ],
          "sizemode": "area",
          "sizeref": 0.44,
          "symbol": "circle"
         },
         "mode": "markers",
         "name": "XIAOMI",
         "orientation": "v",
         "showlegend": true,
         "type": "scatter",
         "x": [
          77.2
         ],
         "xaxis": "x",
         "y": [
          15225.366666666667
         ],
         "yaxis": "y"
        }
       ],
       "layout": {
        "legend": {
         "itemsizing": "constant",
         "title": {
          "text": "Company"
         },
         "tracegroupgap": 0
        },
        "template": {
         "data": {
          "bar": [
           {
            "error_x": {
             "color": "#2a3f5f"
            },
            "error_y": {
             "color": "#2a3f5f"
            },
            "marker": {
             "line": {
              "color": "#E5ECF6",
              "width": 0.5
             },
             "pattern": {
              "fillmode": "overlay",
              "size": 10,
              "solidity": 0.2
             }
            },
            "type": "bar"
           }
          ],
          "barpolar": [
           {
            "marker": {
             "line": {
              "color": "#E5ECF6",
              "width": 0.5
             },
             "pattern": {
              "fillmode": "overlay",
              "size": 10,
              "solidity": 0.2
             }
            },
            "type": "barpolar"
           }
          ],
          "carpet": [
           {
            "aaxis": {
             "endlinecolor": "#2a3f5f",
             "gridcolor": "white",
             "linecolor": "white",
             "minorgridcolor": "white",
             "startlinecolor": "#2a3f5f"
            },
            "baxis": {
             "endlinecolor": "#2a3f5f",
             "gridcolor": "white",
             "linecolor": "white",
             "minorgridcolor": "white",
             "startlinecolor": "#2a3f5f"
            },
            "type": "carpet"
           }
          ],
          "choropleth": [
           {
            "colorbar": {
             "outlinewidth": 0,
             "ticks": ""
            },
            "type": "choropleth"
           }
          ],
          "contour": [
           {
            "colorbar": {
             "outlinewidth": 0,
             "ticks": ""
            },
            "colorscale": [
             [
              0,
              "#0d0887"
             ],
             [
              0.1111111111111111,
              "#46039f"
             ],
             [
              0.2222222222222222,
              "#7201a8"
             ],
             [
              0.3333333333333333,
              "#9c179e"
             ],
             [
              0.4444444444444444,
              "#bd3786"
             ],
             [
              0.5555555555555556,
              "#d8576b"
             ],
             [
              0.6666666666666666,
              "#ed7953"
             ],
             [
              0.7777777777777778,
              "#fb9f3a"
             ],
             [
              0.8888888888888888,
              "#fdca26"
             ],
             [
              1,
              "#f0f921"
             ]
            ],
            "type": "contour"
           }
          ],
          "contourcarpet": [
           {
            "colorbar": {
             "outlinewidth": 0,
             "ticks": ""
            },
            "type": "contourcarpet"
           }
          ],
          "heatmap": [
           {
            "colorbar": {
             "outlinewidth": 0,
             "ticks": ""
            },
            "colorscale": [
             [
              0,
              "#0d0887"
             ],
             [
              0.1111111111111111,
              "#46039f"
             ],
             [
              0.2222222222222222,
              "#7201a8"
             ],
             [
              0.3333333333333333,
              "#9c179e"
             ],
             [
              0.4444444444444444,
              "#bd3786"
             ],
             [
              0.5555555555555556,
              "#d8576b"
             ],
             [
              0.6666666666666666,
              "#ed7953"
             ],
             [
              0.7777777777777778,
              "#fb9f3a"
             ],
             [
              0.8888888888888888,
              "#fdca26"
             ],
             [
              1,
              "#f0f921"
             ]
            ],
            "type": "heatmap"
           }
          ],
          "heatmapgl": [
           {
            "colorbar": {
             "outlinewidth": 0,
             "ticks": ""
            },
            "colorscale": [
             [
              0,
              "#0d0887"
             ],
             [
              0.1111111111111111,
              "#46039f"
             ],
             [
              0.2222222222222222,
              "#7201a8"
             ],
             [
              0.3333333333333333,
              "#9c179e"
             ],
             [
              0.4444444444444444,
              "#bd3786"
             ],
             [
              0.5555555555555556,
              "#d8576b"
             ],
             [
              0.6666666666666666,
              "#ed7953"
             ],
             [
              0.7777777777777778,
              "#fb9f3a"
             ],
             [
              0.8888888888888888,
              "#fdca26"
             ],
             [
              1,
              "#f0f921"
             ]
            ],
            "type": "heatmapgl"
           }
          ],
          "histogram": [
           {
            "marker": {
             "pattern": {
              "fillmode": "overlay",
              "size": 10,
              "solidity": 0.2
             }
            },
            "type": "histogram"
           }
          ],
          "histogram2d": [
           {
            "colorbar": {
             "outlinewidth": 0,
             "ticks": ""
            },
            "colorscale": [
             [
              0,
              "#0d0887"
             ],
             [
              0.1111111111111111,
              "#46039f"
             ],
             [
              0.2222222222222222,
              "#7201a8"
             ],
             [
              0.3333333333333333,
              "#9c179e"
             ],
             [
              0.4444444444444444,
              "#bd3786"
             ],
             [
              0.5555555555555556,
              "#d8576b"
             ],
             [
              0.6666666666666666,
              "#ed7953"
             ],
             [
              0.7777777777777778,
              "#fb9f3a"
             ],
             [
              0.8888888888888888,
              "#fdca26"
             ],
             [
              1,
              "#f0f921"
             ]
            ],
            "type": "histogram2d"
           }
          ],
          "histogram2dcontour": [
           {
            "colorbar": {
             "outlinewidth": 0,
             "ticks": ""
            },
            "colorscale": [
             [
              0,
              "#0d0887"
             ],
             [
              0.1111111111111111,
              "#46039f"
             ],
             [
              0.2222222222222222,
              "#7201a8"
             ],
             [
              0.3333333333333333,
              "#9c179e"
             ],
             [
              0.4444444444444444,
              "#bd3786"
             ],
             [
              0.5555555555555556,
              "#d8576b"
             ],
             [
              0.6666666666666666,
              "#ed7953"
             ],
             [
              0.7777777777777778,
              "#fb9f3a"
             ],
             [
              0.8888888888888888,
              "#fdca26"
             ],
             [
              1,
              "#f0f921"
             ]
            ],
            "type": "histogram2dcontour"
           }
          ],
          "mesh3d": [
           {
            "colorbar": {
             "outlinewidth": 0,
             "ticks": ""
            },
            "type": "mesh3d"
           }
          ],
          "parcoords": [
           {
            "line": {
             "colorbar": {
              "outlinewidth": 0,
              "ticks": ""
             }
            },
            "type": "parcoords"
           }
          ],
          "pie": [
           {
            "automargin": true,
            "type": "pie"
           }
          ],
          "scatter": [
           {
            "fillpattern": {
             "fillmode": "overlay",
             "size": 10,
             "solidity": 0.2
            },
            "type": "scatter"
           }
          ],
          "scatter3d": [
           {
            "line": {
             "colorbar": {
              "outlinewidth": 0,
              "ticks": ""
             }
            },
            "marker": {
             "colorbar": {
              "outlinewidth": 0,
              "ticks": ""
             }
            },
            "type": "scatter3d"
           }
          ],
          "scattercarpet": [
           {
            "marker": {
             "colorbar": {
              "outlinewidth": 0,
              "ticks": ""
             }
            },
            "type": "scattercarpet"
           }
          ],
          "scattergeo": [
           {
            "marker": {
             "colorbar": {
              "outlinewidth": 0,
              "ticks": ""
             }
            },
            "type": "scattergeo"
           }
          ],
          "scattergl": [
           {
            "marker": {
             "colorbar": {
              "outlinewidth": 0,
              "ticks": ""
             }
            },
            "type": "scattergl"
           }
          ],
          "scattermapbox": [
           {
            "marker": {
             "colorbar": {
              "outlinewidth": 0,
              "ticks": ""
             }
            },
            "type": "scattermapbox"
           }
          ],
          "scatterpolar": [
           {
            "marker": {
             "colorbar": {
              "outlinewidth": 0,
              "ticks": ""
             }
            },
            "type": "scatterpolar"
           }
          ],
          "scatterpolargl": [
           {
            "marker": {
             "colorbar": {
              "outlinewidth": 0,
              "ticks": ""
             }
            },
            "type": "scatterpolargl"
           }
          ],
          "scatterternary": [
           {
            "marker": {
             "colorbar": {
              "outlinewidth": 0,
              "ticks": ""
             }
            },
            "type": "scatterternary"
           }
          ],
          "surface": [
           {
            "colorbar": {
             "outlinewidth": 0,
             "ticks": ""
            },
            "colorscale": [
             [
              0,
              "#0d0887"
             ],
             [
              0.1111111111111111,
              "#46039f"
             ],
             [
              0.2222222222222222,
              "#7201a8"
             ],
             [
              0.3333333333333333,
              "#9c179e"
             ],
             [
              0.4444444444444444,
              "#bd3786"
             ],
             [
              0.5555555555555556,
              "#d8576b"
             ],
             [
              0.6666666666666666,
              "#ed7953"
             ],
             [
              0.7777777777777778,
              "#fb9f3a"
             ],
             [
              0.8888888888888888,
              "#fdca26"
             ],
             [
              1,
              "#f0f921"
             ]
            ],
            "type": "surface"
           }
          ],
          "table": [
           {
            "cells": {
             "fill": {
              "color": "#EBF0F8"
             },
             "line": {
              "color": "white"
             }
            },
            "header": {
             "fill": {
              "color": "#C8D4E3"
             },
             "line": {
              "color": "white"
             }
            },
            "type": "table"
           }
          ]
         },
         "layout": {
          "annotationdefaults": {
           "arrowcolor": "#2a3f5f",
           "arrowhead": 0,
           "arrowwidth": 1
          },
          "autotypenumbers": "strict",
          "coloraxis": {
           "colorbar": {
            "outlinewidth": 0,
            "ticks": ""
           }
          },
          "colorscale": {
           "diverging": [
            [
             0,
             "#8e0152"
            ],
            [
             0.1,
             "#c51b7d"
            ],
            [
             0.2,
             "#de77ae"
            ],
            [
             0.3,
             "#f1b6da"
            ],
            [
             0.4,
             "#fde0ef"
            ],
            [
             0.5,
             "#f7f7f7"
            ],
            [
             0.6,
             "#e6f5d0"
            ],
            [
             0.7,
             "#b8e186"
            ],
            [
             0.8,
             "#7fbc41"
            ],
            [
             0.9,
             "#4d9221"
            ],
            [
             1,
             "#276419"
            ]
           ],
           "sequential": [
            [
             0,
             "#0d0887"
            ],
            [
             0.1111111111111111,
             "#46039f"
            ],
            [
             0.2222222222222222,
             "#7201a8"
            ],
            [
             0.3333333333333333,
             "#9c179e"
            ],
            [
             0.4444444444444444,
             "#bd3786"
            ],
            [
             0.5555555555555556,
             "#d8576b"
            ],
            [
             0.6666666666666666,
             "#ed7953"
            ],
            [
             0.7777777777777778,
             "#fb9f3a"
            ],
            [
             0.8888888888888888,
             "#fdca26"
            ],
            [
             1,
             "#f0f921"
            ]
           ],
           "sequentialminus": [
            [
             0,
             "#0d0887"
            ],
            [
             0.1111111111111111,
             "#46039f"
            ],
            [
             0.2222222222222222,
             "#7201a8"
            ],
            [
             0.3333333333333333,
             "#9c179e"
            ],
            [
             0.4444444444444444,
             "#bd3786"
            ],
            [
             0.5555555555555556,
             "#d8576b"
            ],
            [
             0.6666666666666666,
             "#ed7953"
            ],
            [
             0.7777777777777778,
             "#fb9f3a"
            ],
            [
             0.8888888888888888,
             "#fdca26"
            ],
            [
             1,
             "#f0f921"
            ]
           ]
          },
          "colorway": [
           "#636efa",
           "#EF553B",
           "#00cc96",
           "#ab63fa",
           "#FFA15A",
           "#19d3f3",
           "#FF6692",
           "#B6E880",
           "#FF97FF",
           "#FECB52"
          ],
          "font": {
           "color": "#2a3f5f"
          },
          "geo": {
           "bgcolor": "white",
           "lakecolor": "white",
           "landcolor": "#E5ECF6",
           "showlakes": true,
           "showland": true,
           "subunitcolor": "white"
          },
          "hoverlabel": {
           "align": "left"
          },
          "hovermode": "closest",
          "mapbox": {
           "style": "light"
          },
          "paper_bgcolor": "white",
          "plot_bgcolor": "#E5ECF6",
          "polar": {
           "angularaxis": {
            "gridcolor": "white",
            "linecolor": "white",
            "ticks": ""
           },
           "bgcolor": "#E5ECF6",
           "radialaxis": {
            "gridcolor": "white",
            "linecolor": "white",
            "ticks": ""
           }
          },
          "scene": {
           "xaxis": {
            "backgroundcolor": "#E5ECF6",
            "gridcolor": "white",
            "gridwidth": 2,
            "linecolor": "white",
            "showbackground": true,
            "ticks": "",
            "zerolinecolor": "white"
           },
           "yaxis": {
            "backgroundcolor": "#E5ECF6",
            "gridcolor": "white",
            "gridwidth": 2,
            "linecolor": "white",
            "showbackground": true,
            "ticks": "",
            "zerolinecolor": "white"
           },
           "zaxis": {
            "backgroundcolor": "#E5ECF6",
            "gridcolor": "white",
            "gridwidth": 2,
            "linecolor": "white",
            "showbackground": true,
            "ticks": "",
            "zerolinecolor": "white"
           }
          },
          "shapedefaults": {
           "line": {
            "color": "#2a3f5f"
           }
          },
          "ternary": {
           "aaxis": {
            "gridcolor": "white",
            "linecolor": "white",
            "ticks": ""
           },
           "baxis": {
            "gridcolor": "white",
            "linecolor": "white",
            "ticks": ""
           },
           "bgcolor": "#E5ECF6",
           "caxis": {
            "gridcolor": "white",
            "linecolor": "white",
            "ticks": ""
           }
          },
          "title": {
           "x": 0.05
          },
          "xaxis": {
           "automargin": true,
           "gridcolor": "white",
           "linecolor": "white",
           "ticks": "",
           "title": {
            "standoff": 15
           },
           "zerolinecolor": "white",
           "zerolinewidth": 2
          },
          "yaxis": {
           "automargin": true,
           "gridcolor": "white",
           "linecolor": "white",
           "ticks": "",
           "title": {
            "standoff": 15
           },
           "zerolinecolor": "white",
           "zerolinewidth": 2
          }
         }
        },
        "title": {
         "text": "AVG Spec Score and AVG Price vs Distinct Product, for Each Company "
        },
        "xaxis": {
         "anchor": "y",
         "domain": [
          0,
          1
         ],
         "title": {
          "text": "AVG Spec Score"
         }
        },
        "yaxis": {
         "anchor": "x",
         "domain": [
          0,
          1
         ],
         "title": {
          "text": "AVG Price"
         }
        }
       }
      }
     },
     "metadata": {},
     "output_type": "display_data"
    }
   ],
   "source": [
    "px.scatter(price_spec_pivot, x='AVG Spec Score', y='AVG Price', size='Distinct products', color='Company', title=\"AVG Spec Score and AVG Price vs Distinct Product, for Each Company \")"
   ]
  },
  {
   "cell_type": "markdown",
   "metadata": {},
   "source": [
    "#### This plot represents the market. It can be used to find the best possible combination between specs and price to gain a competitive advantage. This graph can help in developing products that balance specs and pricing level to meet the demand."
   ]
  },
  {
   "cell_type": "markdown",
   "metadata": {},
   "source": [
    "------------------------------------"
   ]
  },
  {
   "cell_type": "markdown",
   "metadata": {},
   "source": [
    "## Linear Regression"
   ]
  },
  {
   "cell_type": "code",
   "execution_count": 61,
   "metadata": {},
   "outputs": [
    {
     "data": {
      "text/plain": [
       "(0.0, 227120.51810758113)"
      ]
     },
     "execution_count": 61,
     "metadata": {},
     "output_type": "execute_result"
    },
    {
     "data": {
      "image/png": "[encoded data removed]",
      "text/plain": [
       "<Figure size 640x480 with 1 Axes>"
      ]
     },
     "metadata": {},
     "output_type": "display_data"
    }
   ],
   "source": [
    "imp = SimpleImputer(strategy='median')\n",
    "\n",
    "data = file[['Battery', 'Ram', 'Screen_resolution']]\n",
    "\n",
    "data = imp.fit_transform(data)\n",
    "\n",
    "features = ['Spec_score']\n",
    "X = file[features]\n",
    "y = file['Price']\n",
    "\n",
    "X_train, X_test, y_train, y_test = train_test_split(X,y,random_state=0, train_size=0.75)\n",
    "\n",
    "model = LinearRegression()\n",
    "model.fit(X_train, y_train)\n",
    "\n",
    "# b=model.intercept_\n",
    "# w=model.coef_\n",
    "# formula = w * X_train + b\n",
    "\n",
    "y_pred_train1 = model.predict(X_train)\n",
    "y_pred_test1 = model.predict(X_test)\n",
    "\n",
    "plt.scatter(X_train, y_train,c='navy')\n",
    "plt.scatter(X_test, y_test, c='lightblue')\n",
    "plt.plot(X_test, y_pred_test1, c='red')\n",
    "plt.tight_layout()\n",
    "plt.ylim(0)"
   ]
  },
  {
   "cell_type": "markdown",
   "metadata": {},
   "source": [
    "#### The scatter plot and regression red line illustrate the predictive power of the \"Spec_score\" feature on pricing."
   ]
  }
 ],
 "metadata": {
  "kernelspec": {
   "display_name": "base",
   "language": "python",
   "name": "python3"
  },
  "language_info": {
   "codemirror_mode": {
    "name": "ipython",
    "version": 3
   },
   "file_extension": ".py",
   "mimetype": "text/x-python",
   "name": "python",
   "nbconvert_exporter": "python",
   "pygments_lexer": "ipython3",
   "version": "3.11.4"
  }
 },
 "nbformat": 4,
 "nbformat_minor": 2
}
